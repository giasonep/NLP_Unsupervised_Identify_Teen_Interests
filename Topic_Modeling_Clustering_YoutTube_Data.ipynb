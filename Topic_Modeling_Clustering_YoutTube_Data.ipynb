{
 "cells": [
  {
   "cell_type": "code",
   "execution_count": 1,
   "id": "33b044c5-4a1e-49cd-b447-4981b0261031",
   "metadata": {},
   "outputs": [],
   "source": [
    "import pandas as pd\n",
    "import numpy as np\n",
    "import warnings\n",
    "import seaborn as sns\n",
    "import matplotlib.pyplot as plt\n",
    "%matplotlib inline\n",
    "import plotly\n",
    "import plotly.express as px\n",
    "import plotly.graph_objects as go\n",
    "import plotly.io as pio\n",
    "\n",
    "# Sci-kit Learn\n",
    "from sklearn.feature_extraction.text import CountVectorizer, TfidfVectorizer\n",
    "from sklearn.metrics.pairwise import cosine_similarity\n",
    "from sklearn.feature_extraction.text import TfidfVectorizer, ENGLISH_STOP_WORDS\n",
    "from sklearn.decomposition import NMF, LatentDirichletAllocation, PCA\n",
    "from sklearn.preprocessing import StandardScaler\n",
    "from sklearn.manifold import TSNE\n",
    "from sklearn.cluster import KMeans, DBSCAN\n",
    "#PyLDAvis\n",
    "import pyLDAvis\n",
    "import pyLDAvis.sklearn\n",
    "pyLDAvis.enable_notebook()\n",
    "#CorEx\n",
    "from corextopic import corextopic as ct\n",
    "from corextopic import vis_topic as vt"
   ]
  },
  {
   "cell_type": "code",
   "execution_count": 2,
   "id": "1e68d21b-d117-4da1-9f6f-a18bf4d1e1e7",
   "metadata": {},
   "outputs": [],
   "source": [
    "# ignore warnings\n",
    "warnings.filterwarnings(\"ignore\") "
   ]
  },
  {
   "cell_type": "code",
   "execution_count": 3,
   "id": "ef77e5c4-65e2-4501-9e51-c7a7fca76c0f",
   "metadata": {},
   "outputs": [],
   "source": [
    "# import the data\n",
    "df = pd.read_csv('dataSentiment.csv')"
   ]
  },
  {
   "cell_type": "code",
   "execution_count": 4,
   "id": "fe322336-d22b-4130-a02c-542b52c2bb19",
   "metadata": {},
   "outputs": [
    {
     "data": {
      "text/html": [
       "<div>\n",
       "<style scoped>\n",
       "    .dataframe tbody tr th:only-of-type {\n",
       "        vertical-align: middle;\n",
       "    }\n",
       "\n",
       "    .dataframe tbody tr th {\n",
       "        vertical-align: top;\n",
       "    }\n",
       "\n",
       "    .dataframe thead th {\n",
       "        text-align: right;\n",
       "    }\n",
       "</style>\n",
       "<table border=\"1\" class=\"dataframe\">\n",
       "  <thead>\n",
       "    <tr style=\"text-align: right;\">\n",
       "      <th></th>\n",
       "      <th>vidId</th>\n",
       "      <th>videoText</th>\n",
       "      <th>date</th>\n",
       "      <th>title</th>\n",
       "      <th>views</th>\n",
       "      <th>likes</th>\n",
       "      <th>dislikes</th>\n",
       "      <th>commentCount</th>\n",
       "      <th>vidLength</th>\n",
       "      <th>description</th>\n",
       "      <th>channel</th>\n",
       "      <th>country</th>\n",
       "      <th>totChanViews</th>\n",
       "      <th>totSubscribers</th>\n",
       "      <th>totChanVideos</th>\n",
       "      <th>music</th>\n",
       "      <th>textCleaned</th>\n",
       "      <th>text_polarity</th>\n",
       "      <th>text_subjectivity</th>\n",
       "      <th>count</th>\n",
       "    </tr>\n",
       "  </thead>\n",
       "  <tbody>\n",
       "    <tr>\n",
       "      <th>0</th>\n",
       "      <td>7PIMiDcwNvc</td>\n",
       "      <td>[Music] I am most of all happy and grateful t...</td>\n",
       "      <td>2019-08-24</td>\n",
       "      <td>Marzia &amp; Felix - Wedding 19.08.2019</td>\n",
       "      <td>39403934.0</td>\n",
       "      <td>5509252.0</td>\n",
       "      <td>33359.0</td>\n",
       "      <td>526815.0</td>\n",
       "      <td>00:06:22</td>\n",
       "      <td>Our footage from the wedding, best day of my l...</td>\n",
       "      <td>PewDiePie</td>\n",
       "      <td>US</td>\n",
       "      <td>2.798403e+10</td>\n",
       "      <td>110000000.0</td>\n",
       "      <td>4443.0</td>\n",
       "      <td>1</td>\n",
       "      <td>happy grateful finally mighty hospital met tim...</td>\n",
       "      <td>0.531169</td>\n",
       "      <td>0.703896</td>\n",
       "      <td>58</td>\n",
       "    </tr>\n",
       "  </tbody>\n",
       "</table>\n",
       "</div>"
      ],
      "text/plain": [
       "         vidId                                          videoText        date  \\\n",
       "0  7PIMiDcwNvc   [Music] I am most of all happy and grateful t...  2019-08-24   \n",
       "\n",
       "                                 title       views      likes  dislikes  \\\n",
       "0  Marzia & Felix - Wedding 19.08.2019  39403934.0  5509252.0   33359.0   \n",
       "\n",
       "   commentCount vidLength                                        description  \\\n",
       "0      526815.0  00:06:22  Our footage from the wedding, best day of my l...   \n",
       "\n",
       "     channel country  totChanViews  totSubscribers  totChanVideos  music  \\\n",
       "0  PewDiePie      US  2.798403e+10     110000000.0         4443.0      1   \n",
       "\n",
       "                                         textCleaned  text_polarity  \\\n",
       "0  happy grateful finally mighty hospital met tim...       0.531169   \n",
       "\n",
       "   text_subjectivity  count  \n",
       "0           0.703896     58  "
      ]
     },
     "execution_count": 4,
     "metadata": {},
     "output_type": "execute_result"
    }
   ],
   "source": [
    "df.head(1)"
   ]
  },
  {
   "cell_type": "markdown",
   "id": "12ee4811-47a0-44c0-abfb-5c9f22532e4c",
   "metadata": {
    "tags": []
   },
   "source": [
    "Assign text to a vairable names 'corpus'"
   ]
  },
  {
   "cell_type": "code",
   "execution_count": 5,
   "id": "ce386e21-d4a5-4707-b78e-ebb2e73886fe",
   "metadata": {},
   "outputs": [],
   "source": [
    "corpus = df['textCleaned'].fillna(value='')"
   ]
  },
  {
   "cell_type": "code",
   "execution_count": 6,
   "id": "69f27c7d-07e1-49e0-92d8-4efee58dc660",
   "metadata": {
    "tags": []
   },
   "outputs": [
    {
     "data": {
      "text/plain": [
       "0    happy grateful finally mighty hospital met tim...\n",
       "1    lilly old think time talk mom 32 year old chir...\n",
       "2    yum favorite god sweet ew god teeth covered mo...\n",
       "3    guy welcome youtube channel guy know just left...\n",
       "4    bunny check parent gotten stupid virus phone s...\n",
       "Name: textCleaned, dtype: object"
      ]
     },
     "execution_count": 6,
     "metadata": {},
     "output_type": "execute_result"
    }
   ],
   "source": [
    "corpus.head()"
   ]
  },
  {
   "cell_type": "markdown",
   "id": "e8f18a28-0f10-43ac-8a8e-7616a6d7f1fa",
   "metadata": {},
   "source": [
    "#### Functions"
   ]
  },
  {
   "cell_type": "code",
   "execution_count": 7,
   "id": "81b40213-1424-4c08-8f9d-06f6914e802f",
   "metadata": {},
   "outputs": [],
   "source": [
    "def top_text(text_matrix_df, topic, n_text):\n",
    "    '''\n",
    "    This function returns the top texts per topic\n",
    "    '''\n",
    "    return (text_matrix_df\n",
    "            .sort_values(by=topic, ascending=False)\n",
    "            .head(n_text)[['vidId', 'title', 'channel']]\n",
    "            .values) \n",
    "\n",
    "def top_words(word_matrix_df, topic, n_words):\n",
    "    '''\n",
    "    This function returns the top words per topic\n",
    "    '''\n",
    "    return (word_matrix_df\n",
    "            .sort_values(by=topic, ascending=False)\n",
    "            .head(n_words))[topic]"
   ]
  },
  {
   "cell_type": "markdown",
   "id": "21c15160-1610-4a1b-80ea-12d778a7d779",
   "metadata": {},
   "source": [
    "### Stop Words\n",
    "\n",
    "This is a list of stop words that I needed to add in order to create clearer separation amongst my topics"
   ]
  },
  {
   "cell_type": "code",
   "execution_count": 8,
   "id": "183e2498-e483-4ad0-a012-677f94077c96",
   "metadata": {},
   "outputs": [],
   "source": [
    "stop_words = ['friend', 'new', 'told', 'sorry', 'person', 'help', 'home', 'great', 'long', 'went', 'would', 'best', 'use', \\\n",
    "             'try', 'cool', 'different', 'nice', 'fun', 'add', 'maybe', 'eye', 'line', 'like', 'feel', 'using', 'super', 'literally', \\\n",
    "             'water', 'used', 'just', 'going', 'used','house', 'place', 'end', 'dude', 'head', 'minute', 'number', '10', 'get', 'left', \\\n",
    "             'stop', 'hand', 'coming', 'boy', 'star', 'hit', 'man', 'buy', 'point', 'guess', 'started', 'finally', 'making', 'ya', 'ha', 'ok', \\\n",
    "             'definitely', 'turn', 'far', 'light', 'wanted', 'decided', 'one', 'bit', 'food', 'wow', 'half', 'face', 'item', 'sure', \\\n",
    "             'inside', 'favorite', 'bring', 'night', 'came', 'week', 'girl', 'kid', 'having', 'week', 'bed', 'watch', 'crazy', 'middle', \\\n",
    "             'feeling', 'hope', 'weird', 'open', 'red', 'green', 'edge', 'yellow', 'let', 'whoa', 'dog', 'look', 'got', 'huh', 'bag', \\\n",
    "             'excited', 'cute', 'family', 'cold', 'mask', 'woman', 'mom', 'ice', 'key', 'soon', 'apple', 'hard', 'card', 'test', 'subscribe', \\\n",
    "             'sick', 'team', 'hi', 'talk', 'dad', 'happy', 'live', 'word', 'talking', 'character', 'believe', 'hello', 'question', 'picture', \\\n",
    "              'idea', 'parent', 'saying', 'fine', 'story', 'wrong', 'leave', 'sound', 'amazing', 'welcome', 'old', 'seem', 'awesome', 'hear', \\\n",
    "             'would', 'hour', 'tree', 'case', 'piece', 'hold', 'small', 'quite', 'click', 'usually', 'small', 'extra', 'pop', 'easy', 'thanks', \\\n",
    "             'jobs', 'ooh', 'stay', 'phone', 'change', 'room', 'playing', 'wearing', 'black', 'channel', 'fit', 'basically', 'set', 'wall', \\\n",
    "             'building', 'type', 'bunch', 'ahead', 'cut', 'record', 'give', 'play', 'blue', 'able', 'reason', 'important', 'hot', 'seven', \\\n",
    "             'camera', 'happened', 'god', 'know', 'button', 'happen', 'body', 'cuz', 'son', 'bro']"
   ]
  },
  {
   "cell_type": "code",
   "execution_count": 9,
   "id": "2d244100-1a40-4858-b19c-cfde8cebba7b",
   "metadata": {
    "jupyter": {
     "source_hidden": true
    },
    "tags": []
   },
   "outputs": [],
   "source": [
    "# stop_words = ['told', 'sorry', 'person', 'great', 'long', 'went', 'would', 'best', 'use', \\\n",
    "#               'try', 'cool', 'different', 'nice', 'fun', 'add', 'maybe', 'line', 'like', 'feel', 'using', 'super', 'literally', \\\n",
    "#               'used', 'just', 'going', 'used', 'place', 'end', 'dude', 'head', 'minute', 'number', '10', 'get', 'left', \\\n",
    "#               'stop', 'hand', 'coming', 'hit', 'man', 'buy', 'point', 'guess', 'started', 'finally', 'making', 'ya', 'ha', 'ok', \\\n",
    "#               'definitely', 'turn', 'far', 'light', 'wanted', 'decided', 'one', 'bit', 'food', 'wow', 'half', 'face', 'item', 'sure', \\\n",
    "#               'inside', 'favorite', 'bring', 'night', 'came', 'week', 'girl', 'kid', 'having', 'watch', 'crazy', 'middle', \\\n",
    "#               'feeling', 'hope', 'weird', 'open', 'red', 'green', 'edge', 'yellow', 'let', 'whoa', 'look', 'got', 'huh', 'bag', \\\n",
    "#               'excited', 'cute', 'family', 'cold', 'mask', 'woman', 'mom', 'ice', 'key', 'soon', 'apple', 'hard', 'card', 'test', 'subscribe', \\\n",
    "#               'team', 'hi', 'talk', 'dad', 'happy', 'live', 'word', 'talking', 'character', 'believe', 'hello', 'question', 'picture', \\\n",
    "#               'idea', 'parent', 'saying', 'fine', 'story', 'wrong', 'leave', 'sound', 'amazing', 'welcome', 'old', 'seem', 'awesome', 'hear', \\\n",
    "#               'would', 'hour', 'tree', 'case', 'piece', 'hold', 'small', 'quite', 'click', 'usually', 'small', 'extra', 'pop', 'easy', 'thanks', \\\n",
    "#               'jobs', 'ooh', 'stay', 'change', 'playing', 'wearing', 'channel', 'fit', 'basically', 'set', \\\n",
    "#               'building', 'type', 'bunch', 'ahead', 'cut', 'record', 'give', 'play', 'able', 'reason', 'important', 'hot', 'seven', \\\n",
    "#               'camera', 'happened', 'god', 'know', 'button', 'happen', 'cuz', 'son']"
   ]
  },
  {
   "cell_type": "markdown",
   "id": "1008c324-fcba-4a74-b7d0-3af8c1b1f70e",
   "metadata": {},
   "source": [
    "# LDA\n",
    "#### Count Vectorizer\n",
    "LDA performs well with whole interger inputs, therefore I used Count Vectorizer to transform the text into a vector."
   ]
  },
  {
   "cell_type": "code",
   "execution_count": 10,
   "id": "ec64c383-3545-4b48-952e-e2126c3402d8",
   "metadata": {},
   "outputs": [],
   "source": [
    "# vectorize documnets using countVectorizer for LDA\n",
    "countVect = CountVectorizer(ngram_range=(1,2),\n",
    "                            stop_words=stop_words,\n",
    "                            max_df=0.4, \n",
    "                            min_df=10,\n",
    "                            max_features=1000)\n",
    "\n",
    "count_word_matrix = countVect.fit_transform(corpus)\n",
    "\n",
    "count_vocab = countVect.get_feature_names_out()"
   ]
  },
  {
   "cell_type": "code",
   "execution_count": 11,
   "id": "d78cbc8b-fafc-48f9-89eb-7d6c320bb970",
   "metadata": {},
   "outputs": [
    {
     "data": {
      "text/plain": [
       "(1094, 1000)"
      ]
     },
     "execution_count": 11,
     "metadata": {},
     "output_type": "execute_result"
    }
   ],
   "source": [
    "count_word_matrix.shape"
   ]
  },
  {
   "cell_type": "code",
   "execution_count": 12,
   "id": "17046580-4c48-4bbe-89c4-5b21c61a7f6a",
   "metadata": {},
   "outputs": [
    {
     "data": {
      "text/plain": [
       "LatentDirichletAllocation(n_components=15, random_state=0)"
      ]
     },
     "execution_count": 12,
     "metadata": {},
     "output_type": "execute_result"
    }
   ],
   "source": [
    "# assign a n_components val\n",
    "lda_n_compnents = 15\n",
    "# assign LDA\n",
    "lda = LatentDirichletAllocation(n_components=lda_n_compnents, learning_method='batch', random_state=0) # assign batch for quicker calculation\n",
    "lda.fit(count_word_matrix)"
   ]
  },
  {
   "cell_type": "code",
   "execution_count": 13,
   "id": "a101e026-ed39-4d1b-adce-c5cb254f4798",
   "metadata": {},
   "outputs": [],
   "source": [
    "# create the text topic matrix from the word matrix\n",
    "lda_text_topic_matrix = lda.transform(count_word_matrix)"
   ]
  },
  {
   "cell_type": "code",
   "execution_count": 14,
   "id": "f5d8c2a7-59f9-4805-a394-f2e46b4857ff",
   "metadata": {},
   "outputs": [
    {
     "data": {
      "text/html": [
       "<div>\n",
       "<style scoped>\n",
       "    .dataframe tbody tr th:only-of-type {\n",
       "        vertical-align: middle;\n",
       "    }\n",
       "\n",
       "    .dataframe tbody tr th {\n",
       "        vertical-align: top;\n",
       "    }\n",
       "\n",
       "    .dataframe thead th {\n",
       "        text-align: right;\n",
       "    }\n",
       "</style>\n",
       "<table border=\"1\" class=\"dataframe\">\n",
       "  <thead>\n",
       "    <tr style=\"text-align: right;\">\n",
       "      <th></th>\n",
       "      <th>topic_0</th>\n",
       "      <th>topic_1</th>\n",
       "      <th>topic_2</th>\n",
       "      <th>topic_3</th>\n",
       "      <th>topic_4</th>\n",
       "      <th>topic_5</th>\n",
       "      <th>topic_6</th>\n",
       "      <th>topic_7</th>\n",
       "      <th>topic_8</th>\n",
       "      <th>topic_9</th>\n",
       "      <th>topic_10</th>\n",
       "      <th>topic_11</th>\n",
       "      <th>topic_12</th>\n",
       "      <th>topic_13</th>\n",
       "      <th>topic_14</th>\n",
       "      <th>vidId</th>\n",
       "      <th>title</th>\n",
       "      <th>channel</th>\n",
       "      <th>textCleaned</th>\n",
       "    </tr>\n",
       "  </thead>\n",
       "  <tbody>\n",
       "    <tr>\n",
       "      <th>0</th>\n",
       "      <td>0.003922</td>\n",
       "      <td>0.003922</td>\n",
       "      <td>0.003922</td>\n",
       "      <td>0.003922</td>\n",
       "      <td>0.003922</td>\n",
       "      <td>0.003922</td>\n",
       "      <td>0.695231</td>\n",
       "      <td>0.003922</td>\n",
       "      <td>0.253789</td>\n",
       "      <td>0.003922</td>\n",
       "      <td>0.003922</td>\n",
       "      <td>0.003922</td>\n",
       "      <td>0.003922</td>\n",
       "      <td>0.003922</td>\n",
       "      <td>0.003922</td>\n",
       "      <td>7PIMiDcwNvc</td>\n",
       "      <td>Marzia &amp; Felix - Wedding 19.08.2019</td>\n",
       "      <td>PewDiePie</td>\n",
       "      <td>happy grateful finally mighty hospital met tim...</td>\n",
       "    </tr>\n",
       "  </tbody>\n",
       "</table>\n",
       "</div>"
      ],
      "text/plain": [
       "    topic_0   topic_1   topic_2   topic_3   topic_4   topic_5   topic_6  \\\n",
       "0  0.003922  0.003922  0.003922  0.003922  0.003922  0.003922  0.695231   \n",
       "\n",
       "    topic_7   topic_8   topic_9  topic_10  topic_11  topic_12  topic_13  \\\n",
       "0  0.003922  0.253789  0.003922  0.003922  0.003922  0.003922  0.003922   \n",
       "\n",
       "   topic_14        vidId                                title    channel  \\\n",
       "0  0.003922  7PIMiDcwNvc  Marzia & Felix - Wedding 19.08.2019  PewDiePie   \n",
       "\n",
       "                                         textCleaned  \n",
       "0  happy grateful finally mighty hospital met tim...  "
      ]
     },
     "execution_count": 14,
     "metadata": {},
     "output_type": "execute_result"
    }
   ],
   "source": [
    "# create a dataframe of the text topic matrix\n",
    "lda_text_topic_matrix_df = pd.DataFrame(lda_text_topic_matrix).add_prefix('topic_')\n",
    "# add additional columns from the original dataframe to identify rows\n",
    "lda_text_topic_matrix_df[['vidId', 'title', 'channel', 'textCleaned']] = df[['vidId', 'title', 'channel', 'textCleaned']]\n",
    "lda_text_topic_matrix_df.head(1)"
   ]
  },
  {
   "cell_type": "code",
   "execution_count": 15,
   "id": "4894ca23-1106-4fc8-b86d-970e2829ba99",
   "metadata": {},
   "outputs": [
    {
     "data": {
      "text/html": [
       "<div>\n",
       "<style scoped>\n",
       "    .dataframe tbody tr th:only-of-type {\n",
       "        vertical-align: middle;\n",
       "    }\n",
       "\n",
       "    .dataframe tbody tr th {\n",
       "        vertical-align: top;\n",
       "    }\n",
       "\n",
       "    .dataframe thead th {\n",
       "        text-align: right;\n",
       "    }\n",
       "</style>\n",
       "<table border=\"1\" class=\"dataframe\">\n",
       "  <thead>\n",
       "    <tr style=\"text-align: right;\">\n",
       "      <th></th>\n",
       "      <th>topic_0</th>\n",
       "      <th>topic_1</th>\n",
       "      <th>topic_2</th>\n",
       "      <th>topic_3</th>\n",
       "      <th>topic_4</th>\n",
       "      <th>topic_5</th>\n",
       "      <th>topic_6</th>\n",
       "      <th>topic_7</th>\n",
       "      <th>topic_8</th>\n",
       "      <th>topic_9</th>\n",
       "      <th>topic_10</th>\n",
       "      <th>topic_11</th>\n",
       "      <th>topic_12</th>\n",
       "      <th>topic_13</th>\n",
       "      <th>topic_14</th>\n",
       "    </tr>\n",
       "  </thead>\n",
       "  <tbody>\n",
       "    <tr>\n",
       "      <th>000</th>\n",
       "      <td>0.066667</td>\n",
       "      <td>37.770929</td>\n",
       "      <td>1.209310</td>\n",
       "      <td>0.066667</td>\n",
       "      <td>0.066667</td>\n",
       "      <td>188.471328</td>\n",
       "      <td>36.890305</td>\n",
       "      <td>0.066667</td>\n",
       "      <td>0.066667</td>\n",
       "      <td>8.826193</td>\n",
       "      <td>27.231933</td>\n",
       "      <td>0.066667</td>\n",
       "      <td>0.066667</td>\n",
       "      <td>0.066667</td>\n",
       "      <td>0.066667</td>\n",
       "    </tr>\n",
       "    <tr>\n",
       "      <th>100</th>\n",
       "      <td>17.269401</td>\n",
       "      <td>45.403518</td>\n",
       "      <td>0.067944</td>\n",
       "      <td>23.678912</td>\n",
       "      <td>2.585162</td>\n",
       "      <td>129.437088</td>\n",
       "      <td>35.397722</td>\n",
       "      <td>14.949675</td>\n",
       "      <td>14.780001</td>\n",
       "      <td>17.886226</td>\n",
       "      <td>73.194673</td>\n",
       "      <td>0.066667</td>\n",
       "      <td>1.593035</td>\n",
       "      <td>5.567718</td>\n",
       "      <td>0.122259</td>\n",
       "    </tr>\n",
       "    <tr>\n",
       "      <th>11</th>\n",
       "      <td>8.334871</td>\n",
       "      <td>19.675677</td>\n",
       "      <td>0.066668</td>\n",
       "      <td>29.100934</td>\n",
       "      <td>14.263628</td>\n",
       "      <td>11.226329</td>\n",
       "      <td>1.445797</td>\n",
       "      <td>0.066667</td>\n",
       "      <td>40.552632</td>\n",
       "      <td>10.028046</td>\n",
       "      <td>7.041963</td>\n",
       "      <td>5.790959</td>\n",
       "      <td>1.493362</td>\n",
       "      <td>0.067237</td>\n",
       "      <td>26.845230</td>\n",
       "    </tr>\n",
       "    <tr>\n",
       "      <th>12</th>\n",
       "      <td>27.507997</td>\n",
       "      <td>8.144291</td>\n",
       "      <td>9.094304</td>\n",
       "      <td>27.572369</td>\n",
       "      <td>6.902799</td>\n",
       "      <td>25.943575</td>\n",
       "      <td>6.705700</td>\n",
       "      <td>4.067187</td>\n",
       "      <td>40.389857</td>\n",
       "      <td>15.099694</td>\n",
       "      <td>15.860981</td>\n",
       "      <td>0.066667</td>\n",
       "      <td>2.065518</td>\n",
       "      <td>4.700221</td>\n",
       "      <td>3.878842</td>\n",
       "    </tr>\n",
       "    <tr>\n",
       "      <th>13</th>\n",
       "      <td>0.066667</td>\n",
       "      <td>8.587610</td>\n",
       "      <td>0.066667</td>\n",
       "      <td>12.586574</td>\n",
       "      <td>0.066667</td>\n",
       "      <td>18.396035</td>\n",
       "      <td>21.562060</td>\n",
       "      <td>0.066667</td>\n",
       "      <td>9.507944</td>\n",
       "      <td>2.086571</td>\n",
       "      <td>13.264232</td>\n",
       "      <td>16.253443</td>\n",
       "      <td>3.394636</td>\n",
       "      <td>0.066667</td>\n",
       "      <td>1.027562</td>\n",
       "    </tr>\n",
       "  </tbody>\n",
       "</table>\n",
       "</div>"
      ],
      "text/plain": [
       "       topic_0    topic_1   topic_2    topic_3    topic_4     topic_5  \\\n",
       "000   0.066667  37.770929  1.209310   0.066667   0.066667  188.471328   \n",
       "100  17.269401  45.403518  0.067944  23.678912   2.585162  129.437088   \n",
       "11    8.334871  19.675677  0.066668  29.100934  14.263628   11.226329   \n",
       "12   27.507997   8.144291  9.094304  27.572369   6.902799   25.943575   \n",
       "13    0.066667   8.587610  0.066667  12.586574   0.066667   18.396035   \n",
       "\n",
       "       topic_6    topic_7    topic_8    topic_9   topic_10   topic_11  \\\n",
       "000  36.890305   0.066667   0.066667   8.826193  27.231933   0.066667   \n",
       "100  35.397722  14.949675  14.780001  17.886226  73.194673   0.066667   \n",
       "11    1.445797   0.066667  40.552632  10.028046   7.041963   5.790959   \n",
       "12    6.705700   4.067187  40.389857  15.099694  15.860981   0.066667   \n",
       "13   21.562060   0.066667   9.507944   2.086571  13.264232  16.253443   \n",
       "\n",
       "     topic_12  topic_13   topic_14  \n",
       "000  0.066667  0.066667   0.066667  \n",
       "100  1.593035  5.567718   0.122259  \n",
       "11   1.493362  0.067237  26.845230  \n",
       "12   2.065518  4.700221   3.878842  \n",
       "13   3.394636  0.066667   1.027562  "
      ]
     },
     "execution_count": 15,
     "metadata": {},
     "output_type": "execute_result"
    }
   ],
   "source": [
    "# create a dataframe of the word topic matrix\n",
    "lda_word_topic_matrix_df = pd.DataFrame(lda.components_, columns=count_vocab).T.add_prefix('topic_')\n",
    "lda_word_topic_matrix_df.head()"
   ]
  },
  {
   "cell_type": "code",
   "execution_count": 16,
   "id": "7f58a57c-633c-4565-b7ce-465942e793c1",
   "metadata": {},
   "outputs": [],
   "source": [
    "# # check the top words in each topic for the LDA model\n",
    "# for num in range(0,lda_n_compnents):\n",
    "#     topic = f'topic_{num}'\n",
    "#     print(num)\n",
    "#     print(top_words(lda_word_topic_matrix_df, topic, 10))\n",
    "#     print()\n",
    "#     print(\"...................................\")"
   ]
  },
  {
   "cell_type": "code",
   "execution_count": 17,
   "id": "ef73b88d-7883-4315-ac04-cddd013008ec",
   "metadata": {
    "tags": []
   },
   "outputs": [],
   "source": [
    "# # check the top text in each topic for the LDA model\n",
    "# for num in range(0,lda_n_compnents):\n",
    "#     topic = f'topic_{num}'\n",
    "#     print(num)\n",
    "#     for text in top_text(lda_text_topic_matrix_df, topic, 5):\n",
    "#         print(text)\n",
    "#         print()\n",
    "#     print(\"...................................\")"
   ]
  },
  {
   "cell_type": "markdown",
   "id": "024a3a80-e1d4-4fe3-ac90-689cbeeb83ad",
   "metadata": {},
   "source": [
    "##### Test pyLDAvis"
   ]
  },
  {
   "cell_type": "code",
   "execution_count": 18,
   "id": "c7d922a0-0948-42d9-be4d-44bd06c4a50a",
   "metadata": {},
   "outputs": [],
   "source": [
    "# pyLDAvis.sklearn.prepare(lda, count_word_matrix, countVect)"
   ]
  },
  {
   "cell_type": "code",
   "execution_count": 19,
   "id": "c6409441-04d7-4973-9116-3eb3fcebd169",
   "metadata": {},
   "outputs": [],
   "source": [
    "# pyLDAvis.sklearn.prepare(lda, count_word_matrix, countVect, mds='mmds')"
   ]
  },
  {
   "cell_type": "code",
   "execution_count": 20,
   "id": "87fe1cfe-b179-4837-b9f7-eb58565b0939",
   "metadata": {},
   "outputs": [],
   "source": [
    "# pyLDAvis.sklearn.prepare(lda, count_word_matrix, countVect, mds='tsne')"
   ]
  },
  {
   "cell_type": "markdown",
   "id": "58f27963-201c-4d9f-8d35-fc2ff4793e25",
   "metadata": {},
   "source": [
    "I was pretty dissapointed with the topics created by the LDA model. For some reason there was a lot of crossover in content. So I made the decision to try 'Non-Negative Matrix Factorization,' or NMF.\n",
    "\n",
    "There were positivies of using the LDA model: I was able to use pyLDAvis to discover and add words to a stop_words list that helped to better differentiate topics, which I will use in the NMF model. "
   ]
  },
  {
   "cell_type": "markdown",
   "id": "3bf72726-4d6b-44af-9e0f-ac2a6cb7f134",
   "metadata": {},
   "source": [
    "# NMF\n",
    "\n",
    "#### TFIDF Vectorizer\n",
    "\n",
    "For NMF I chose to use the TfidfVectorizer to transform the text into a vector becuase it focuses on the frequency of words and gives each word a weighting, which helps to identify word importance."
   ]
  },
  {
   "cell_type": "code",
   "execution_count": 21,
   "id": "f68cc8f1-2c67-455a-85e6-3939cd8a237b",
   "metadata": {},
   "outputs": [],
   "source": [
    "# vectorize documents using TfidfVectorizer for NMF\n",
    "tfidf = TfidfVectorizer(ngram_range=(1,2),\n",
    "                        stop_words=stop_words,\n",
    "                        max_df=.4, \n",
    "                        min_df=10, \n",
    "                        max_features=1000)\n",
    "\n",
    "tfidf_word_matrix = tfidf.fit_transform(corpus)\n",
    "\n",
    "tfidf_vocab = tfidf.get_feature_names_out()"
   ]
  },
  {
   "cell_type": "code",
   "execution_count": 22,
   "id": "783e6415-0716-44b8-a56a-9c46bad83294",
   "metadata": {},
   "outputs": [
    {
     "data": {
      "text/plain": [
       "(1094, 1000)"
      ]
     },
     "execution_count": 22,
     "metadata": {},
     "output_type": "execute_result"
    }
   ],
   "source": [
    "tfidf_word_matrix.shape"
   ]
  },
  {
   "cell_type": "code",
   "execution_count": 23,
   "id": "2bb6de33-fca8-49ea-aa53-69c21173c5d3",
   "metadata": {},
   "outputs": [
    {
     "data": {
      "text/plain": [
       "NMF(max_iter=2000, n_components=15, random_state=10)"
      ]
     },
     "execution_count": 23,
     "metadata": {},
     "output_type": "execute_result"
    }
   ],
   "source": [
    "# assign a n_components val\n",
    "nmf_n_compnents = 15\n",
    "# assign NMF\n",
    "nmf = NMF(n_components=nmf_n_compnents, random_state=10, max_iter=2000)\n",
    "\n",
    "nmf.fit(tfidf_word_matrix)"
   ]
  },
  {
   "cell_type": "code",
   "execution_count": 24,
   "id": "b98541b4-daa8-4595-b356-775670276977",
   "metadata": {},
   "outputs": [],
   "source": [
    "# create the text topic matrix from the word matrix\n",
    "tfidf_text_topic_matrix = nmf.transform(tfidf_word_matrix)"
   ]
  },
  {
   "cell_type": "code",
   "execution_count": 25,
   "id": "cdd061cc-02cc-4ee1-bb5b-1838dccb326a",
   "metadata": {},
   "outputs": [
    {
     "data": {
      "text/html": [
       "<div>\n",
       "<style scoped>\n",
       "    .dataframe tbody tr th:only-of-type {\n",
       "        vertical-align: middle;\n",
       "    }\n",
       "\n",
       "    .dataframe tbody tr th {\n",
       "        vertical-align: top;\n",
       "    }\n",
       "\n",
       "    .dataframe thead th {\n",
       "        text-align: right;\n",
       "    }\n",
       "</style>\n",
       "<table border=\"1\" class=\"dataframe\">\n",
       "  <thead>\n",
       "    <tr style=\"text-align: right;\">\n",
       "      <th></th>\n",
       "      <th>topic_0</th>\n",
       "      <th>topic_1</th>\n",
       "      <th>topic_2</th>\n",
       "      <th>topic_3</th>\n",
       "      <th>topic_4</th>\n",
       "      <th>topic_5</th>\n",
       "      <th>topic_6</th>\n",
       "      <th>topic_7</th>\n",
       "      <th>topic_8</th>\n",
       "      <th>topic_9</th>\n",
       "      <th>topic_10</th>\n",
       "      <th>topic_11</th>\n",
       "      <th>topic_12</th>\n",
       "      <th>topic_13</th>\n",
       "      <th>topic_14</th>\n",
       "      <th>vidId</th>\n",
       "      <th>title</th>\n",
       "      <th>channel</th>\n",
       "      <th>textCleaned</th>\n",
       "    </tr>\n",
       "  </thead>\n",
       "  <tbody>\n",
       "    <tr>\n",
       "      <th>0</th>\n",
       "      <td>0.0</td>\n",
       "      <td>0.0</td>\n",
       "      <td>0.0</td>\n",
       "      <td>0.0</td>\n",
       "      <td>0.003604</td>\n",
       "      <td>0.0</td>\n",
       "      <td>0.0</td>\n",
       "      <td>0.0</td>\n",
       "      <td>0.003047</td>\n",
       "      <td>0.005972</td>\n",
       "      <td>0.000838</td>\n",
       "      <td>0.0</td>\n",
       "      <td>0.0</td>\n",
       "      <td>0.070513</td>\n",
       "      <td>0.007854</td>\n",
       "      <td>7PIMiDcwNvc</td>\n",
       "      <td>Marzia &amp; Felix - Wedding 19.08.2019</td>\n",
       "      <td>PewDiePie</td>\n",
       "      <td>happy grateful finally mighty hospital met tim...</td>\n",
       "    </tr>\n",
       "  </tbody>\n",
       "</table>\n",
       "</div>"
      ],
      "text/plain": [
       "   topic_0  topic_1  topic_2  topic_3   topic_4  topic_5  topic_6  topic_7  \\\n",
       "0      0.0      0.0      0.0      0.0  0.003604      0.0      0.0      0.0   \n",
       "\n",
       "    topic_8   topic_9  topic_10  topic_11  topic_12  topic_13  topic_14  \\\n",
       "0  0.003047  0.005972  0.000838       0.0       0.0  0.070513  0.007854   \n",
       "\n",
       "         vidId                                title    channel  \\\n",
       "0  7PIMiDcwNvc  Marzia & Felix - Wedding 19.08.2019  PewDiePie   \n",
       "\n",
       "                                         textCleaned  \n",
       "0  happy grateful finally mighty hospital met tim...  "
      ]
     },
     "execution_count": 25,
     "metadata": {},
     "output_type": "execute_result"
    }
   ],
   "source": [
    "# create the text topic matrix from the word matrix\n",
    "tfidf_text_topic_matrix_df = pd.DataFrame(tfidf_text_topic_matrix).add_prefix('topic_')\n",
    "# add additional columns from the original dataframe to identify rows\n",
    "tfidf_text_topic_matrix_df[['vidId', 'title', 'channel', 'textCleaned']] = df[['vidId', 'title', 'channel', 'textCleaned']]\n",
    "tfidf_text_topic_matrix_df.head(1)"
   ]
  },
  {
   "cell_type": "code",
   "execution_count": 26,
   "id": "773fd457-a78b-496e-984d-83216fddf0c7",
   "metadata": {
    "tags": []
   },
   "outputs": [
    {
     "data": {
      "text/html": [
       "<div>\n",
       "<style scoped>\n",
       "    .dataframe tbody tr th:only-of-type {\n",
       "        vertical-align: middle;\n",
       "    }\n",
       "\n",
       "    .dataframe tbody tr th {\n",
       "        vertical-align: top;\n",
       "    }\n",
       "\n",
       "    .dataframe thead th {\n",
       "        text-align: right;\n",
       "    }\n",
       "</style>\n",
       "<table border=\"1\" class=\"dataframe\">\n",
       "  <thead>\n",
       "    <tr style=\"text-align: right;\">\n",
       "      <th></th>\n",
       "      <th>topic_0</th>\n",
       "      <th>topic_1</th>\n",
       "      <th>topic_2</th>\n",
       "      <th>topic_3</th>\n",
       "      <th>topic_4</th>\n",
       "      <th>topic_5</th>\n",
       "      <th>topic_6</th>\n",
       "      <th>topic_7</th>\n",
       "      <th>topic_8</th>\n",
       "      <th>topic_9</th>\n",
       "      <th>topic_10</th>\n",
       "      <th>topic_11</th>\n",
       "      <th>topic_12</th>\n",
       "      <th>topic_13</th>\n",
       "      <th>topic_14</th>\n",
       "    </tr>\n",
       "  </thead>\n",
       "  <tbody>\n",
       "    <tr>\n",
       "      <th>000</th>\n",
       "      <td>0.016658</td>\n",
       "      <td>0.006080</td>\n",
       "      <td>0.223855</td>\n",
       "      <td>0.010693</td>\n",
       "      <td>0.030050</td>\n",
       "      <td>0.000000</td>\n",
       "      <td>0.000000</td>\n",
       "      <td>0.000000</td>\n",
       "      <td>0.000000</td>\n",
       "      <td>0.000000</td>\n",
       "      <td>0.006231</td>\n",
       "      <td>0.000000</td>\n",
       "      <td>0.051755</td>\n",
       "      <td>0.035780</td>\n",
       "      <td>0.000000</td>\n",
       "    </tr>\n",
       "    <tr>\n",
       "      <th>100</th>\n",
       "      <td>0.011417</td>\n",
       "      <td>0.000000</td>\n",
       "      <td>0.148078</td>\n",
       "      <td>0.002085</td>\n",
       "      <td>0.046207</td>\n",
       "      <td>0.004058</td>\n",
       "      <td>0.018620</td>\n",
       "      <td>0.000000</td>\n",
       "      <td>0.005883</td>\n",
       "      <td>0.004237</td>\n",
       "      <td>0.041920</td>\n",
       "      <td>0.007082</td>\n",
       "      <td>0.063796</td>\n",
       "      <td>0.067046</td>\n",
       "      <td>0.000000</td>\n",
       "    </tr>\n",
       "    <tr>\n",
       "      <th>11</th>\n",
       "      <td>0.020019</td>\n",
       "      <td>0.001414</td>\n",
       "      <td>0.023962</td>\n",
       "      <td>0.011491</td>\n",
       "      <td>0.000000</td>\n",
       "      <td>0.086535</td>\n",
       "      <td>0.007277</td>\n",
       "      <td>0.010669</td>\n",
       "      <td>0.000000</td>\n",
       "      <td>0.000000</td>\n",
       "      <td>0.013401</td>\n",
       "      <td>0.003889</td>\n",
       "      <td>0.017849</td>\n",
       "      <td>0.072084</td>\n",
       "      <td>0.005981</td>\n",
       "    </tr>\n",
       "    <tr>\n",
       "      <th>12</th>\n",
       "      <td>0.034491</td>\n",
       "      <td>0.010573</td>\n",
       "      <td>0.023082</td>\n",
       "      <td>0.005321</td>\n",
       "      <td>0.007892</td>\n",
       "      <td>0.010261</td>\n",
       "      <td>0.014232</td>\n",
       "      <td>0.020149</td>\n",
       "      <td>0.006009</td>\n",
       "      <td>0.027988</td>\n",
       "      <td>0.003643</td>\n",
       "      <td>0.000000</td>\n",
       "      <td>0.021880</td>\n",
       "      <td>0.081539</td>\n",
       "      <td>0.009520</td>\n",
       "    </tr>\n",
       "    <tr>\n",
       "      <th>13</th>\n",
       "      <td>0.003739</td>\n",
       "      <td>0.000000</td>\n",
       "      <td>0.043131</td>\n",
       "      <td>0.000000</td>\n",
       "      <td>0.015186</td>\n",
       "      <td>0.023800</td>\n",
       "      <td>0.009421</td>\n",
       "      <td>0.000000</td>\n",
       "      <td>0.007298</td>\n",
       "      <td>0.003346</td>\n",
       "      <td>0.000000</td>\n",
       "      <td>0.000000</td>\n",
       "      <td>0.007767</td>\n",
       "      <td>0.049184</td>\n",
       "      <td>0.000000</td>\n",
       "    </tr>\n",
       "  </tbody>\n",
       "</table>\n",
       "</div>"
      ],
      "text/plain": [
       "      topic_0   topic_1   topic_2   topic_3   topic_4   topic_5   topic_6  \\\n",
       "000  0.016658  0.006080  0.223855  0.010693  0.030050  0.000000  0.000000   \n",
       "100  0.011417  0.000000  0.148078  0.002085  0.046207  0.004058  0.018620   \n",
       "11   0.020019  0.001414  0.023962  0.011491  0.000000  0.086535  0.007277   \n",
       "12   0.034491  0.010573  0.023082  0.005321  0.007892  0.010261  0.014232   \n",
       "13   0.003739  0.000000  0.043131  0.000000  0.015186  0.023800  0.009421   \n",
       "\n",
       "      topic_7   topic_8   topic_9  topic_10  topic_11  topic_12  topic_13  \\\n",
       "000  0.000000  0.000000  0.000000  0.006231  0.000000  0.051755  0.035780   \n",
       "100  0.000000  0.005883  0.004237  0.041920  0.007082  0.063796  0.067046   \n",
       "11   0.010669  0.000000  0.000000  0.013401  0.003889  0.017849  0.072084   \n",
       "12   0.020149  0.006009  0.027988  0.003643  0.000000  0.021880  0.081539   \n",
       "13   0.000000  0.007298  0.003346  0.000000  0.000000  0.007767  0.049184   \n",
       "\n",
       "     topic_14  \n",
       "000  0.000000  \n",
       "100  0.000000  \n",
       "11   0.005981  \n",
       "12   0.009520  \n",
       "13   0.000000  "
      ]
     },
     "execution_count": 26,
     "metadata": {},
     "output_type": "execute_result"
    }
   ],
   "source": [
    "tfidf_word_topic_matrix_df = pd.DataFrame(nmf.components_, columns=tfidf_vocab).T.add_prefix('topic_')\n",
    "tfidf_word_topic_matrix_df.head()"
   ]
  },
  {
   "cell_type": "markdown",
   "id": "b63e643b-77db-499b-bca8-b9e349e0598f",
   "metadata": {},
   "source": [
    "### Topic Interpretation"
   ]
  },
  {
   "cell_type": "code",
   "execution_count": 27,
   "id": "ee1d2c1a-817e-48b2-bf16-2946938066f8",
   "metadata": {
    "tags": []
   },
   "outputs": [
    {
     "name": "stdout",
     "output_type": "stream",
     "text": [
      "0\n",
      "car             1.484162\n",
      "karen           0.905223\n",
      "somebody        0.485217\n",
      "door            0.383297\n",
      "boyfriend       0.349605\n",
      "money           0.310344\n",
      "child           0.303885\n",
      "drive           0.276647\n",
      "mother          0.261653\n",
      "took            0.254225\n",
      "grandma         0.245801\n",
      "madam           0.244721\n",
      "police          0.241988\n",
      "road            0.240811\n",
      "window          0.239180\n",
      "tick            0.234508\n",
      "guy enjoyed     0.233369\n",
      "wolf            0.229422\n",
      "watching bye    0.220247\n",
      "walk            0.218660\n",
      "Name: topic_0, dtype: float64\n",
      "\n",
      "...................................\n",
      "1\n",
      "hair        2.307074\n",
      "brush       0.185353\n",
      "dry         0.172887\n",
      "wash        0.166622\n",
      "wet         0.134328\n",
      "section     0.120083\n",
      "shower      0.117844\n",
      "towel       0.113420\n",
      "layer       0.105773\n",
      "pull        0.099849\n",
      "glue        0.098042\n",
      "purple      0.089632\n",
      "spray       0.087179\n",
      "straight    0.086511\n",
      "stuck       0.085401\n",
      "bye         0.078617\n",
      "sit         0.078246\n",
      "texture     0.070795\n",
      "clip        0.070676\n",
      "forget      0.066967\n",
      "Name: topic_1, dtype: float64\n",
      "\n",
      "...................................\n",
      "2\n",
      "dollar             1.017032\n",
      "chandler           0.923290\n",
      "chris              0.758916\n",
      "thousand           0.700862\n",
      "carl               0.636439\n",
      "thousand dollar    0.632564\n",
      "money              0.503912\n",
      "grand              0.491405\n",
      "million            0.454951\n",
      "win                0.344985\n",
      "jimmy              0.293814\n",
      "million dollar     0.263058\n",
      "mr                 0.239288\n",
      "beast              0.226484\n",
      "000                0.223855\n",
      "mr beast           0.219889\n",
      "20                 0.214725\n",
      "won                0.167078\n",
      "challenge          0.162122\n",
      "100                0.148078\n",
      "Name: topic_2, dtype: float64\n",
      "\n",
      "...................................\n",
      "3\n",
      "eat          0.736588\n",
      "taste        0.682835\n",
      "cream        0.420878\n",
      "cake         0.385880\n",
      "chocolate    0.384965\n",
      "sauce        0.382008\n",
      "egg          0.371772\n",
      "cheese       0.354145\n",
      "chicken      0.352033\n",
      "smell        0.318208\n",
      "flavor       0.308289\n",
      "pizza        0.307082\n",
      "delicious    0.291083\n",
      "noodle       0.285155\n",
      "eating       0.278299\n",
      "chip         0.262288\n",
      "sandwich     0.258856\n",
      "meat         0.257674\n",
      "butter       0.238017\n",
      "drink        0.221648\n",
      "Name: topic_3, dtype: float64\n",
      "\n",
      "...................................\n",
      "4\n",
      "block        0.608064\n",
      "kill         0.463928\n",
      "diamond      0.421306\n",
      "minecraft    0.407612\n",
      "nether       0.306380\n",
      "die          0.276511\n",
      "portal       0.274449\n",
      "carl         0.269768\n",
      "villager     0.266691\n",
      "zombie       0.261482\n",
      "iron         0.259066\n",
      "chest        0.241128\n",
      "village      0.240514\n",
      "dragon       0.238639\n",
      "creeper      0.234273\n",
      "spawn        0.234156\n",
      "build        0.227564\n",
      "base         0.216594\n",
      "lava         0.210799\n",
      "killed       0.207590\n",
      "Name: topic_4, dtype: float64\n",
      "\n",
      "...................................\n",
      "5\n",
      "game        2.101804\n",
      "player      0.651703\n",
      "football    0.478012\n",
      "win         0.439206\n",
      "squid       0.406090\n",
      "ball        0.390697\n",
      "played      0.253471\n",
      "field       0.212083\n",
      "won         0.194032\n",
      "practice    0.178422\n",
      "secret      0.163822\n",
      "beat        0.161324\n",
      "coach       0.146471\n",
      "college     0.144383\n",
      "round       0.135154\n",
      "shot        0.134120\n",
      "kill        0.134104\n",
      "chance      0.131796\n",
      "tonight     0.128223\n",
      "money       0.124976\n",
      "Name: topic_5, dtype: float64\n",
      "\n",
      "...................................\n",
      "6\n",
      "school         1.202165\n",
      "class          0.952249\n",
      "teacher        0.700121\n",
      "student        0.616825\n",
      "grade          0.272291\n",
      "miss           0.232350\n",
      "lunch          0.231852\n",
      "high school    0.215700\n",
      "mr             0.203509\n",
      "study          0.188068\n",
      "answer         0.186870\n",
      "math           0.174556\n",
      "high           0.173142\n",
      "child          0.162273\n",
      "pas            0.141295\n",
      "bus            0.133897\n",
      "morning        0.133792\n",
      "group          0.121716\n",
      "sit            0.121694\n",
      "paper          0.115710\n",
      "Name: topic_6, dtype: float64\n",
      "\n",
      "...................................\n",
      "7\n",
      "outfit       0.684950\n",
      "wear         0.645161\n",
      "dress        0.581650\n",
      "shoe         0.564611\n",
      "color        0.506487\n",
      "shirt        0.385438\n",
      "clothes      0.235593\n",
      "pink         0.224272\n",
      "short        0.197856\n",
      "photo        0.193902\n",
      "pant         0.181175\n",
      "style        0.146696\n",
      "white        0.146538\n",
      "school       0.139540\n",
      "shopping     0.136755\n",
      "hopefully    0.135811\n",
      "pair         0.134479\n",
      "purple       0.127342\n",
      "marker       0.118927\n",
      "finished     0.117476\n",
      "Name: topic_7, dtype: float64\n",
      "\n",
      "...................................\n",
      "8\n",
      "pregnant          1.678536\n",
      "pregnancy         0.686494\n",
      "twin              0.476740\n",
      "baby              0.458426\n",
      "doctor            0.181556\n",
      "sister            0.159363\n",
      "reaction          0.143907\n",
      "child             0.128804\n",
      "brother           0.121179\n",
      "mommy             0.121020\n",
      "mother            0.114185\n",
      "month             0.103292\n",
      "clothes           0.103184\n",
      "footage           0.094899\n",
      "husband           0.092042\n",
      "telling           0.083400\n",
      "nervous           0.082723\n",
      "congratulation    0.081402\n",
      "lay               0.079189\n",
      "dr                0.077351\n",
      "Name: topic_8, dtype: float64\n",
      "\n",
      "...................................\n",
      "9\n",
      "dance          1.522216\n",
      "music          0.452629\n",
      "song           0.442170\n",
      "tonight        0.315211\n",
      "stage          0.203396\n",
      "boom           0.192168\n",
      "toy            0.166131\n",
      "party          0.153026\n",
      "competition    0.141961\n",
      "vote           0.132136\n",
      "listen         0.123989\n",
      "walk           0.117570\n",
      "break          0.108968\n",
      "group          0.106479\n",
      "roll           0.103263\n",
      "fan            0.095200\n",
      "lay            0.095127\n",
      "heart          0.093554\n",
      "floor          0.091672\n",
      "worry          0.091103\n",
      "Name: topic_9, dtype: float64\n",
      "\n",
      "...................................\n",
      "10\n",
      "halloween    1.074188\n",
      "candy        0.903796\n",
      "costume      0.513682\n",
      "pumpkin      0.466979\n",
      "treat        0.212577\n",
      "trick        0.196379\n",
      "daniel       0.158522\n",
      "scary        0.156866\n",
      "cat          0.150032\n",
      "spider       0.147974\n",
      "door         0.128953\n",
      "zombie       0.121990\n",
      "party        0.111511\n",
      "monster      0.110067\n",
      "witch        0.098238\n",
      "check        0.096805\n",
      "bar          0.091974\n",
      "safe         0.083980\n",
      "skeleton     0.082937\n",
      "daddy        0.081557\n",
      "Name: topic_10, dtype: float64\n",
      "\n",
      "...................................\n",
      "11\n",
      "lip         1.383547\n",
      "makeup      0.694990\n",
      "skin        0.652787\n",
      "color       0.512016\n",
      "smell       0.338632\n",
      "wallet      0.321969\n",
      "product     0.290171\n",
      "brush       0.260446\n",
      "pencil      0.189850\n",
      "nail        0.179993\n",
      "natural     0.179243\n",
      "spray       0.176956\n",
      "brand       0.175809\n",
      "pen         0.173624\n",
      "oil         0.169406\n",
      "pink        0.165978\n",
      "wear        0.137913\n",
      "white       0.131398\n",
      "recently    0.120176\n",
      "cream       0.119610\n",
      "Name: topic_11, dtype: float64\n",
      "\n",
      "...................................\n",
      "12\n",
      "jake          0.716474\n",
      "win           0.637696\n",
      "michelle      0.616571\n",
      "mackenzie     0.570019\n",
      "challenge     0.439181\n",
      "paper         0.403844\n",
      "scissors      0.294514\n",
      "rock          0.271304\n",
      "art           0.260388\n",
      "subscriber    0.248773\n",
      "artist        0.248269\n",
      "won           0.228429\n",
      "round         0.221992\n",
      "paint         0.220231\n",
      "shoot         0.203640\n",
      "dragon        0.197073\n",
      "slime         0.178676\n",
      "ben           0.175442\n",
      "winner        0.172201\n",
      "ball          0.171121\n",
      "Name: topic_12, dtype: float64\n",
      "\n",
      "...................................\n",
      "13\n",
      "world         0.458588\n",
      "country       0.243987\n",
      "sort          0.217202\n",
      "course        0.212086\n",
      "book          0.210076\n",
      "month         0.209162\n",
      "movie         0.206822\n",
      "problem       0.205566\n",
      "human         0.200840\n",
      "moment        0.195245\n",
      "beautiful     0.192987\n",
      "called        0.191497\n",
      "matter        0.188518\n",
      "youtube       0.186854\n",
      "remember      0.185939\n",
      "ago           0.182518\n",
      "working       0.179393\n",
      "song          0.174811\n",
      "earth         0.172489\n",
      "experience    0.171305\n",
      "Name: topic_13, dtype: float64\n",
      "\n",
      "...................................\n",
      "14\n",
      "christmas    1.112129\n",
      "present      0.315923\n",
      "gift         0.282201\n",
      "toy          0.199068\n",
      "holiday      0.189802\n",
      "wish         0.183894\n",
      "birthday     0.168251\n",
      "party        0.145322\n",
      "loud         0.138591\n",
      "surprise     0.109835\n",
      "brother      0.108963\n",
      "daddy        0.099812\n",
      "cooky        0.097623\n",
      "morning      0.094561\n",
      "grandma      0.094428\n",
      "mommy        0.094068\n",
      "couple       0.093174\n",
      "movie        0.086716\n",
      "sister       0.086461\n",
      "clean        0.081221\n",
      "Name: topic_14, dtype: float64\n",
      "\n",
      "...................................\n"
     ]
    }
   ],
   "source": [
    "# check the top words in each topic for the NMF model\n",
    "for num in range(0,nmf_n_compnents):\n",
    "    topic = f'topic_{num}'\n",
    "    print(num)\n",
    "    print(top_words(tfidf_word_topic_matrix_df, topic, 20))\n",
    "    print()\n",
    "    print(\"...................................\")"
   ]
  },
  {
   "cell_type": "code",
   "execution_count": 28,
   "id": "53df94db-a88c-4667-ab37-bfa015947a11",
   "metadata": {
    "tags": []
   },
   "outputs": [
    {
     "name": "stdout",
     "output_type": "stream",
     "text": [
      "0\n",
      "['jlXXHxWxg08' 'Karens Who Went Too Far' 'SSSniperWolf']\n",
      "\n",
      "['RbRZlrqoxsw' 'Karens Who Got Caught On Camera' 'SSSniperWolf']\n",
      "\n",
      "['8zNOd46cVeg' \"Karens Who Didn't Know When To Quit\" 'SSSniperWolf']\n",
      "\n",
      "['VCxNOReFNQ0' 'SPOILED GIRL Gets a LAMBO for her Birthday...'\n",
      " 'SSSniperWolf']\n",
      "\n",
      "['pkc_d-hyHvs' 'Karens Who Got Caught On Camera' 'SSSniperWolf']\n",
      "\n",
      "...................................\n",
      "1\n",
      "['jzr9tsm1plY' 'Why Our Hair Is Black Girl Magic' 'McClure Twins']\n",
      "\n",
      "['Gw7wDM3kDC8'\n",
      " 'Our Family of 9 Hair Wash Day Using the Same Products (Part 1/3)'\n",
      " 'MAZELEE']\n",
      "\n",
      "['GRNnLrW64VU'\n",
      " 'Our Family’s Hair Wash Day Routine 💆🏾\\u200d♀️  7 Kids 7 Different Hair Types (Part 1)'\n",
      " 'MAZELEE']\n",
      "\n",
      "['J8hyGUA-iKY' 'Trying HAIR LIFE HACKS to see if they Work' 'Little Lia']\n",
      "\n",
      "['S9kdxvASLxw' 'Tangled Curly Hair Wash Routine | Tips for Detangling!'\n",
      " 'RAVEN ELYSE']\n",
      "\n",
      "...................................\n",
      "2\n",
      "['fMfipiV_17o' 'Would You Sit In Snakes For $10,000?' 'MrBeast']\n",
      "\n",
      "['s1ax8Tx_Jz0' 'Would YOU Rather Have A Lamborghini or This House?'\n",
      " 'MrBeast']\n",
      "\n",
      "['E6E22XQPhhg' 'Anything You Can Fit In The Triangle I’ll Pay For'\n",
      " 'MrBeast']\n",
      "\n",
      "['GLoeAJUcz38' 'Press This Button To Win $100,000!' 'MrBeast']\n",
      "\n",
      "['Z5TQBkJJlFE' 'Donating $100,000 To Twitch Streamers!' 'MrBeast Gaming']\n",
      "\n",
      "...................................\n",
      "3\n",
      "['we5djgQwK9w' 'Whats In My HUGE Fridge?' 'Rosanna Pansino']\n",
      "\n",
      "['mZwiz7kZFOg' 'Trying Rare Snacks You Have Never Seen Before'\n",
      " 'SSSniperWolf']\n",
      "\n",
      "['FIamrDpRyoE' 'Most ODDLY SATISFYING Food Video EVER' 'SSSniperWolf']\n",
      "\n",
      "['FW6xQ8NrKYQ' 'TESTING VIRAL TIKTOK RECIPES!! w/ Alisha & Mia'\n",
      " 'MissRemiAshten']\n",
      "\n",
      "['afTtNsWFSwc' 'Funniest Diet Fails' 'SSSniperWolf']\n",
      "\n",
      "...................................\n",
      "4\n",
      "['eKzGaJZ0a-Y' '69 Days - [Hardcore Minecraft]' 'Luke TheNotable']\n",
      "\n",
      "['-jBPL3XCCj0' 'Minecraft, But Everything Is Random And Multiplied...'\n",
      " 'Silver']\n",
      "\n",
      "['4OCHLy5rP58' 'the entire history of minecraft, i guess' 'Sipover']\n",
      "\n",
      "['YV-576jC1BU' '100 Days in a Minecraft World' 'LDShadowLady']\n",
      "\n",
      "['bEpPSldISJo' \"How I Beat Fundy's Difficulty for $2000\" 'y a t s u']\n",
      "\n",
      "...................................\n",
      "5\n",
      "['Scs7l1jPulU' 'Growing Up With Video Games' 'Domics']\n",
      "\n",
      "['tk_ZlWJ3qJI' 'CARNIVAL SCAM SCIENCE- and how to win' 'Mark Rober']\n",
      "\n",
      "['Q6zUirRhDzg'\n",
      " \"KATIE, BRENNAN AND RYAN  Back Together AGAIN! *Capturing High School Memories BEFORE They're Gone*\"\n",
      " \"It's The Donnellys\"]\n",
      "\n",
      "['V3vqq__juJc'\n",
      " '16 Year Old Stands Up To Intense Trash Talker! Novice Noah vs Boston Mike'\n",
      " 'Coffee Chess']\n",
      "\n",
      "['ujzYWjGVZuk' 'SQUID GAME (If Celebrities Played) Part 3' 'umm thats tea']\n",
      "\n",
      "...................................\n",
      "6\n",
      "['RQAf8o9QF7I'\n",
      " 'FRESHMAN WEEK IN MY LIFE *before spring break* | online & in person school! Nicole Laeno'\n",
      " 'Nicole Laeno']\n",
      "\n",
      "['m51JYMXPJrc' 'School Tik Toks That Are Actually Funny' 'SSSniperWolf']\n",
      "\n",
      "['-DwK4ef3X5w' 'School Tik Toks I Watch Instead Of Doing Homework'\n",
      " 'SSSniperWolf']\n",
      "\n",
      "['_ui7qQW1p7w' 'Can You Spot The Secret 5th Grader? (Jubilee React)'\n",
      " 'Gloom']\n",
      "\n",
      "['t3PpUv2k27g' 'School Tik Toks That Are Actually Relatable'\n",
      " 'SSSniperWolf']\n",
      "\n",
      "...................................\n",
      "7\n",
      "['RHef3bY5a94' 'Twin Sisters Swap Outfits - Merrell Twins' 'merrelltwins']\n",
      "\n",
      "['KTIYMUNEYRY'\n",
      " 'WHAT I WORE TO SCHOOL THIS WEEK | school outfit inspiration'\n",
      " 'Just Jordyn']\n",
      "\n",
      "['VP6sp-5kH-s' 'Try On Fall Clothing Haul' 'JacyandKacy']\n",
      "\n",
      "['ZUatPVMav2Y' 'Going to their FIRST HOMECOMING *with a DATE*' 'MAZELEE']\n",
      "\n",
      "['iQK7p8RETjk' 'Who wore it better for fall - Outfit Challenge'\n",
      " 'JacyandKacy']\n",
      "\n",
      "...................................\n",
      "8\n",
      "['TOR1ehwG52k' \"TELLING MY FAMILY I'M PREGNANT!\" 'Colleen Ballinger']\n",
      "\n",
      "['ywlJndy3bjg' 'WOMAN HAS BEEN PREGNANT FOR OVER 3 YEARS' 'SSSniperWolf']\n",
      "\n",
      "['D1kvZsGSJ6c' \"I'M PREGNANT!\" 'Colleen Ballinger']\n",
      "\n",
      "['hqxW1b1cKMY' \"TELLING MY FRIENDS I'M PREGNANT!\" 'Colleen Ballinger']\n",
      "\n",
      "['ompo1e_FsV8' 'TESTING WEIRD PREGNANCY PRODUCTS FROM AMAZON!'\n",
      " 'Colleen Ballinger']\n",
      "\n",
      "...................................\n",
      "9\n",
      "['9SmQOZWNyWE'\n",
      " 'BTS - \"Permission to Dance\" performed at the United Nations General Assembly | SDGs | Official Video'\n",
      " 'United Nations']\n",
      "\n",
      "['CuklIb9d3fI' \"BTS (방탄소년단) 'Permission to Dance' Official MV\"\n",
      " 'HYBE LABELS']\n",
      "\n",
      "['IP-R_DJ9SOU' 'CATHY STEALS THE SHOW (Season 1 Flashback) | Dance Moms'\n",
      " 'Dance Moms']\n",
      "\n",
      "['CsK_msr0sVo' 'CHICKEN GIRLS | Season 1 | Marathon' 'Brat TV']\n",
      "\n",
      "['svKyE63vUes'\n",
      " 'Hayley LeBlanc Singing and Dancing To The Side Hustle Theme Song With Her Mom! FULL CLIP'\n",
      " 'taylorjtv9']\n",
      "\n",
      "...................................\n",
      "10\n",
      "['l_rFU9fwL9o' 'EXPECTATION vs REALITY - Halloween' 'The Bee Family']\n",
      "\n",
      "['YOkc9s9Jklw'\n",
      " 'The Collins Family HALLOWEEN SPOOKTACULAR! *TRICK OR TREATING* Roblox Bloxburg Roleplay'\n",
      " \"It's Akeila\"]\n",
      "\n",
      "['jIYIuv55pWk' 'HALLOWEEN WITH COLLEEN! 2021' 'Colleen Vlogs']\n",
      "\n",
      "['_j77Toa85KM' 'Spooky Halloween Tik Toks To Get You In The Mood'\n",
      " 'SSSniperWolf']\n",
      "\n",
      "['bCO-26OSfic'\n",
      " 'HACKERS FIND Our SAFE HOUSE! Project Zorgo Halloween Trick or Treat Challenge to Find SPY NINJAS'\n",
      " 'Vy Qwaint']\n",
      "\n",
      "...................................\n",
      "11\n",
      "['CXvG2CBJ3SE'\n",
      " \"Olivia Rodrigo's Guide to Effortless Skin-Care and Makeup | Beauty Secrets | Vogue\"\n",
      " 'Vogue']\n",
      "\n",
      "['OWdYj6FgbvQ'\n",
      " \"Maddie Ziegler's Guide to Colorful Eye Makeup | Beauty Secrets | Vogue\"\n",
      " 'Vogue']\n",
      "\n",
      "['n9ab1YWuxPU'\n",
      " \"What's In TikToker Kelianne Stankus' Bag | Spill It | Refinery29\"\n",
      " 'Refinery29']\n",
      "\n",
      "['vG5pn288k1I'\n",
      " \"What's In TikTok Star Ellie Zeiler's Bag | Spill It | Refinery29\"\n",
      " 'Refinery29']\n",
      "\n",
      "['I7wTe5SRRsw'\n",
      " 'Emma Chamberlain on Her Acne Journey, and Guide to TikTok Makeup | Beauty Secrets | Vogue'\n",
      " 'Vogue']\n",
      "\n",
      "...................................\n",
      "12\n",
      "['W_zicY6k-R4' 'Best Watermelon Art Wins $5,000 Challenge! | ZHC Crafts'\n",
      " 'ZHC Crafts']\n",
      "\n",
      "['Bs9XeoA-Gxs' 'Best Apple Art Wins $5,000 Challenge! | ZHC Crafts'\n",
      " 'ZHC Crafts']\n",
      "\n",
      "['-mf8ku_PnVM' 'Best Flipbook Wins $5,000 Challenge! | ZHC Crafts'\n",
      " 'ZHC Crafts']\n",
      "\n",
      "['p4Wy84AOzj0' 'Best 3D Pen Art Wins $5,000 Challenge! | ZHC Crafts'\n",
      " 'ZHC Crafts']\n",
      "\n",
      "['KCoWJTQBVs4' 'Best Cardboard Art Wins $5,000 Challenge! | ZHC Crafts'\n",
      " 'ZHC Crafts']\n",
      "\n",
      "...................................\n",
      "13\n",
      "['tH2tKigOPBU' 'Perseverance Mars Rover Landing- Inside Story'\n",
      " 'Mark Rober']\n",
      "\n",
      "['HeZtOmiJGOQ' 'RATING YOUTUBER APOLOGY VIDEOS' 'PewDiePie']\n",
      "\n",
      "['WLP_QFX0mLU' 'Top 10 Times Disney Channel Shows Got Serious' 'MsMojo']\n",
      "\n",
      "['6qZWMNW7GmE' 'Drinking Nasty Swamp Water (to save the world)'\n",
      " 'Mark Rober']\n",
      "\n",
      "['Dv5O4Y4OP3Q'\n",
      " '\"The SHOCKING STORY Of Nas Daily Quitting His 6-FIGURE JOB!\" | Dhar Mann'\n",
      " 'Dhar Mann']\n",
      "\n",
      "...................................\n",
      "14\n",
      "['9ECcnMCxQX8' 'CHRISTMAS EVE VLOG! Vlogmas Day 24 | Nicole Laeno'\n",
      " 'Nicole Laeno']\n",
      "\n",
      "['aEuJvvtZtX8'\n",
      " 'The LaBrant Family Christmas Special!!! *Emotional Present Opening*'\n",
      " 'The LaBrant Fam']\n",
      "\n",
      "['Pwl7iUgIk2I' 'Brent Rivera - Skipping Christmas [Official Video]'\n",
      " 'Brent Rivera']\n",
      "\n",
      "['AtgTf7jEl78' 'BRAT HOLIDAY SPECTACULAR' 'Brat TV']\n",
      "\n",
      "['FZ_9fD7xpKw'\n",
      " 'Why Kids Have it Better than Teens on Christmas (w/ Meredith Foster) | Brent Rivera'\n",
      " 'Brent Rivera']\n",
      "\n",
      "...................................\n"
     ]
    }
   ],
   "source": [
    "# check the top text in each topic for the NMF model\n",
    "for num in range(0,nmf_n_compnents):\n",
    "    topic = f'topic_{num}'\n",
    "    print(num)\n",
    "    for text in top_text(tfidf_text_topic_matrix_df, topic, 5):\n",
    "        print(text)\n",
    "        print()\n",
    "    print(\"...................................\")"
   ]
  },
  {
   "cell_type": "markdown",
   "id": "ba793ce0-5ec9-47fe-a333-1e45bec85cc3",
   "metadata": {},
   "source": [
    "#### Assign column names to their topic using general domain knowledge of video topic groupings"
   ]
  },
  {
   "cell_type": "code",
   "execution_count": 29,
   "id": "2f6223e5-6933-4835-b664-5714e0b99659",
   "metadata": {},
   "outputs": [],
   "source": [
    "nmf_named_df = pd.DataFrame(tfidf_text_topic_matrix.round(5), \\\n",
    "                            columns = [\"videoReviews\", \"hair\", 'prizes', 'food', \\\n",
    "                                      'minecraft', 'games', 'school', 'educational', \n",
    "                                      'pregnancy', 'dance_music', 'halloween', \\\n",
    "                                      'clothes', 'challenges', 'beautyCare', \\\n",
    "                                      'christmas'])\n",
    "\n",
    "nmf_named_df[['vidId', 'title', 'channel', 'textCleaned']] = df[['vidId', 'title', 'channel', 'textCleaned']]"
   ]
  },
  {
   "cell_type": "code",
   "execution_count": 30,
   "id": "148fe567-21b9-4713-a1b8-28b45275ea5d",
   "metadata": {},
   "outputs": [
    {
     "data": {
      "text/plain": [
       "(1094, 19)"
      ]
     },
     "execution_count": 30,
     "metadata": {},
     "output_type": "execute_result"
    }
   ],
   "source": [
    "nmf_named_df.shape"
   ]
  },
  {
   "cell_type": "code",
   "execution_count": 31,
   "id": "5801f4db-c22d-41ae-92bb-fdfe171b81a2",
   "metadata": {
    "tags": []
   },
   "outputs": [
    {
     "data": {
      "text/html": [
       "<div>\n",
       "<style scoped>\n",
       "    .dataframe tbody tr th:only-of-type {\n",
       "        vertical-align: middle;\n",
       "    }\n",
       "\n",
       "    .dataframe tbody tr th {\n",
       "        vertical-align: top;\n",
       "    }\n",
       "\n",
       "    .dataframe thead th {\n",
       "        text-align: right;\n",
       "    }\n",
       "</style>\n",
       "<table border=\"1\" class=\"dataframe\">\n",
       "  <thead>\n",
       "    <tr style=\"text-align: right;\">\n",
       "      <th></th>\n",
       "      <th>videoReviews</th>\n",
       "      <th>hair</th>\n",
       "      <th>prizes</th>\n",
       "      <th>food</th>\n",
       "      <th>minecraft</th>\n",
       "      <th>games</th>\n",
       "      <th>school</th>\n",
       "      <th>educational</th>\n",
       "      <th>pregnancy</th>\n",
       "      <th>dance_music</th>\n",
       "      <th>halloween</th>\n",
       "      <th>clothes</th>\n",
       "      <th>challenges</th>\n",
       "      <th>beautyCare</th>\n",
       "      <th>christmas</th>\n",
       "      <th>vidId</th>\n",
       "      <th>title</th>\n",
       "      <th>channel</th>\n",
       "      <th>textCleaned</th>\n",
       "    </tr>\n",
       "  </thead>\n",
       "  <tbody>\n",
       "    <tr>\n",
       "      <th>925</th>\n",
       "      <td>0.00000</td>\n",
       "      <td>0.00000</td>\n",
       "      <td>0.0000</td>\n",
       "      <td>0.02564</td>\n",
       "      <td>0.000</td>\n",
       "      <td>0.00000</td>\n",
       "      <td>0.0000</td>\n",
       "      <td>0.00000</td>\n",
       "      <td>0.01000</td>\n",
       "      <td>0.00000</td>\n",
       "      <td>0.00000</td>\n",
       "      <td>0.01681</td>\n",
       "      <td>0.00000</td>\n",
       "      <td>0.09187</td>\n",
       "      <td>0.00000</td>\n",
       "      <td>9iMGFqMmUFs</td>\n",
       "      <td>What would happen if you didn’t drink water? -...</td>\n",
       "      <td>TED-Ed</td>\n",
       "      <td>water virtually soil moisture ice cap cell ins...</td>\n",
       "    </tr>\n",
       "    <tr>\n",
       "      <th>1085</th>\n",
       "      <td>0.00000</td>\n",
       "      <td>0.00000</td>\n",
       "      <td>0.0123</td>\n",
       "      <td>0.00000</td>\n",
       "      <td>0.000</td>\n",
       "      <td>0.03714</td>\n",
       "      <td>0.0000</td>\n",
       "      <td>0.00000</td>\n",
       "      <td>0.00000</td>\n",
       "      <td>0.04405</td>\n",
       "      <td>0.00156</td>\n",
       "      <td>0.00000</td>\n",
       "      <td>0.09343</td>\n",
       "      <td>0.00000</td>\n",
       "      <td>0.00000</td>\n",
       "      <td>7J6kCP9u8zA</td>\n",
       "      <td>Atalanta vs. Man. United: Extended Highlights ...</td>\n",
       "      <td>CBS Sports Golazo</td>\n",
       "      <td>mctominay hfoot ilicicthat really wide s wanbi...</td>\n",
       "    </tr>\n",
       "    <tr>\n",
       "      <th>111</th>\n",
       "      <td>0.13556</td>\n",
       "      <td>0.03513</td>\n",
       "      <td>0.0000</td>\n",
       "      <td>0.01388</td>\n",
       "      <td>0.003</td>\n",
       "      <td>0.00350</td>\n",
       "      <td>0.0252</td>\n",
       "      <td>0.00380</td>\n",
       "      <td>0.05249</td>\n",
       "      <td>0.00190</td>\n",
       "      <td>0.05178</td>\n",
       "      <td>0.00000</td>\n",
       "      <td>0.00000</td>\n",
       "      <td>0.02689</td>\n",
       "      <td>0.01252</td>\n",
       "      <td>g_1EnKnzk9g</td>\n",
       "      <td>Tik Toks With A Crazy Plot Twist</td>\n",
       "      <td>SSSniperWolf</td>\n",
       "      <td>hello friend today going checking tick tocks p...</td>\n",
       "    </tr>\n",
       "    <tr>\n",
       "      <th>968</th>\n",
       "      <td>0.00000</td>\n",
       "      <td>0.39568</td>\n",
       "      <td>0.0000</td>\n",
       "      <td>0.00000</td>\n",
       "      <td>0.000</td>\n",
       "      <td>0.00000</td>\n",
       "      <td>0.0000</td>\n",
       "      <td>0.00000</td>\n",
       "      <td>0.00000</td>\n",
       "      <td>0.00000</td>\n",
       "      <td>0.00000</td>\n",
       "      <td>0.00000</td>\n",
       "      <td>0.00000</td>\n",
       "      <td>0.00000</td>\n",
       "      <td>0.00000</td>\n",
       "      <td>Gw7wDM3kDC8</td>\n",
       "      <td>Our Family of 9 Hair Wash Day Using the Same P...</td>\n",
       "      <td>MAZELEE</td>\n",
       "      <td>guy today going washing hair going washing hai...</td>\n",
       "    </tr>\n",
       "    <tr>\n",
       "      <th>504</th>\n",
       "      <td>0.01157</td>\n",
       "      <td>0.02407</td>\n",
       "      <td>0.0000</td>\n",
       "      <td>0.24762</td>\n",
       "      <td>0.000</td>\n",
       "      <td>0.00000</td>\n",
       "      <td>0.0000</td>\n",
       "      <td>0.00006</td>\n",
       "      <td>0.00000</td>\n",
       "      <td>0.00000</td>\n",
       "      <td>0.00000</td>\n",
       "      <td>0.07856</td>\n",
       "      <td>0.00994</td>\n",
       "      <td>0.00000</td>\n",
       "      <td>0.00000</td>\n",
       "      <td>GyilgS-yD_k</td>\n",
       "      <td>TRICKS Advertisers use to make Food look delic...</td>\n",
       "      <td>SSSniperWolf</td>\n",
       "      <td>hello friend thing mom love thought trust food...</td>\n",
       "    </tr>\n",
       "  </tbody>\n",
       "</table>\n",
       "</div>"
      ],
      "text/plain": [
       "      videoReviews     hair  prizes     food  minecraft    games  school  \\\n",
       "925        0.00000  0.00000  0.0000  0.02564      0.000  0.00000  0.0000   \n",
       "1085       0.00000  0.00000  0.0123  0.00000      0.000  0.03714  0.0000   \n",
       "111        0.13556  0.03513  0.0000  0.01388      0.003  0.00350  0.0252   \n",
       "968        0.00000  0.39568  0.0000  0.00000      0.000  0.00000  0.0000   \n",
       "504        0.01157  0.02407  0.0000  0.24762      0.000  0.00000  0.0000   \n",
       "\n",
       "      educational  pregnancy  dance_music  halloween  clothes  challenges  \\\n",
       "925       0.00000    0.01000      0.00000    0.00000  0.01681     0.00000   \n",
       "1085      0.00000    0.00000      0.04405    0.00156  0.00000     0.09343   \n",
       "111       0.00380    0.05249      0.00190    0.05178  0.00000     0.00000   \n",
       "968       0.00000    0.00000      0.00000    0.00000  0.00000     0.00000   \n",
       "504       0.00006    0.00000      0.00000    0.00000  0.07856     0.00994   \n",
       "\n",
       "      beautyCare  christmas        vidId  \\\n",
       "925      0.09187    0.00000  9iMGFqMmUFs   \n",
       "1085     0.00000    0.00000  7J6kCP9u8zA   \n",
       "111      0.02689    0.01252  g_1EnKnzk9g   \n",
       "968      0.00000    0.00000  Gw7wDM3kDC8   \n",
       "504      0.00000    0.00000  GyilgS-yD_k   \n",
       "\n",
       "                                                  title            channel  \\\n",
       "925   What would happen if you didn’t drink water? -...             TED-Ed   \n",
       "1085  Atalanta vs. Man. United: Extended Highlights ...  CBS Sports Golazo   \n",
       "111                    Tik Toks With A Crazy Plot Twist       SSSniperWolf   \n",
       "968   Our Family of 9 Hair Wash Day Using the Same P...            MAZELEE   \n",
       "504   TRICKS Advertisers use to make Food look delic...       SSSniperWolf   \n",
       "\n",
       "                                            textCleaned  \n",
       "925   water virtually soil moisture ice cap cell ins...  \n",
       "1085  mctominay hfoot ilicicthat really wide s wanbi...  \n",
       "111   hello friend today going checking tick tocks p...  \n",
       "968   guy today going washing hair going washing hai...  \n",
       "504   hello friend thing mom love thought trust food...  "
      ]
     },
     "execution_count": 31,
     "metadata": {},
     "output_type": "execute_result"
    }
   ],
   "source": [
    "nmf_named_df.sample(5)"
   ]
  },
  {
   "cell_type": "code",
   "execution_count": 32,
   "id": "b3c6ab32-c37d-464b-b010-70d03ff4ec2a",
   "metadata": {},
   "outputs": [],
   "source": [
    "nmf_named_df.to_csv('topicData.csv', index=False)"
   ]
  },
  {
   "cell_type": "markdown",
   "id": "d9591811-33e1-4a78-a5de-0d8911c22f54",
   "metadata": {},
   "source": [
    "#### Create a list and dictionary of each topics label"
   ]
  },
  {
   "cell_type": "code",
   "execution_count": 33,
   "id": "6f00a513-47b4-46cf-a789-3402496bd7a1",
   "metadata": {},
   "outputs": [],
   "source": [
    "topic_list = ['videoReviews', 'hair', 'prizes', 'food', \\\n",
    "              'minecraft', 'games', 'school', 'educational', \n",
    "              'pregnancy', 'dance_music', 'halloween', \\\n",
    "              'clothes', 'challenges', 'beautyCare', \\\n",
    "              'christmas']\n",
    "\n",
    "topic_dict = {\n",
    "    0 : \"videoReviews\",\n",
    "    1 : \"hair\",\n",
    "    2 : \"prizes\",\n",
    "    3 : \"food\",\n",
    "    4 : \"minecraft\",\n",
    "    5 : \"games\",\n",
    "    6 : \"school\",\n",
    "    7 : \"educational\",\n",
    "    8 : \"pregnancy\",\n",
    "    9 : \"dance_music\",\n",
    "    10: \"halloween\",\n",
    "    11: \"clothes\",\n",
    "    12: \"challenges\",\n",
    "    13: \"beautyCare\",\n",
    "    14: \"christmas\"\n",
    "}"
   ]
  },
  {
   "cell_type": "markdown",
   "id": "8d9e17f2-8b7a-40fc-8b20-e0244267b20f",
   "metadata": {},
   "source": [
    "# CorEx\n",
    "\n",
    "Made an attempt to use CorEx to get even cleaner topics, but did not see better performance than the NMF modeL"
   ]
  },
  {
   "cell_type": "code",
   "execution_count": 34,
   "id": "2647273d-41f9-4e96-b50a-b567459d27a0",
   "metadata": {},
   "outputs": [],
   "source": [
    "corCountVect = CountVectorizer(ngram_range=(1,2),\n",
    "                            stop_words=stop_words, \n",
    "                            max_df=0.4, \n",
    "                            min_df=10,\n",
    "                            max_features=1000,\n",
    "                            binary=True)\n",
    "\n",
    "corCount_word_matrix = corCountVect.fit_transform(corpus)\n",
    "cor_vocab = list(np.asarray(corCountVect.get_feature_names()))"
   ]
  },
  {
   "cell_type": "code",
   "execution_count": 35,
   "id": "77f24fb7-0b7c-40bd-9758-424acb2d4c6c",
   "metadata": {},
   "outputs": [
    {
     "data": {
      "text/plain": [
       "<corextopic.corextopic.Corex at 0x7f9f80c93fa0>"
      ]
     },
     "execution_count": 35,
     "metadata": {},
     "output_type": "execute_result"
    }
   ],
   "source": [
    "# n_hidden is the number of topics\n",
    "# words is your list of words used in your corpus\n",
    "# it is recommended to add docs=df.data to make it easier to check which sentences are in each resulting topic\n",
    "cor_model = ct.Corex(n_hidden=15, words=cor_vocab, seed=1)\n",
    "cor_model.fit(corCount_word_matrix, words=cor_vocab, docs=corpus)"
   ]
  },
  {
   "cell_type": "code",
   "execution_count": 36,
   "id": "b3a0829a-fdc2-4a39-996f-3709985a7316",
   "metadata": {},
   "outputs": [
    {
     "name": "stdout",
     "output_type": "stream",
     "text": [
      "0: enjoyed video,watching bye,love guy,today guy,guy enjoyed,bye guy,anyways today,make notification,enjoyed,guy watching\n",
      "1: win,minecraft,kill,game,beat,challenge,build,die,won,winning\n",
      "2: course,later,heard,couple,morning,sitting,obviously,past,did want,tomorrow\n",
      "3: thinking,ask,telling,stupid,seen,care,understand,supposed,child,looked\n",
      "4: entire,imagine,took,mind,absolutely,single,level,worst,apparently,stand\n",
      "5: finish,sense,possible,turned,final,make sense,starting,sort,art,completely\n",
      "6: thousand,thousand dollar,30,50,world,20,million,40,worth,spend\n",
      "7: chance,running,run,close,break,happening,moment,luck,shot,safe\n",
      "8: working,putting,box,size,actual,outside,hopefully,area,ton,space\n",
      "9: dollar,money,pick,go,throw,happens,gave,free,giving,job\n",
      "10: color,wear,white,hair,chicken,comment,chocolate,smell,wash,pink\n",
      "11: school,ago,high,month,high school,year ago,class,reading,learn,issue\n",
      "12: really good,perfect,goodness,honestly,actually really,scared,grab,pretty good,funny,stick\n",
      "13: quick,door,check,taking,saw,did did,walk,real quick,sir,lady\n",
      "14: eat,eating,anymore,restaurant,drink,breakfast,anybody,car,cheese,meal\n"
     ]
    }
   ],
   "source": [
    "# Print all topics from the CorEx topic model\n",
    "topics = cor_model.get_topics()\n",
    "for n,topic in enumerate(topics):\n",
    "    topic_words,_,_ = zip(*topic)\n",
    "    print('{}: '.format(n) + ','.join(topic_words))"
   ]
  },
  {
   "cell_type": "code",
   "execution_count": 37,
   "id": "d3a7b9a5-958d-47d5-9e4c-8da1f1e83655",
   "metadata": {},
   "outputs": [
    {
     "data": {
      "text/html": [
       "<div>\n",
       "<style scoped>\n",
       "    .dataframe tbody tr th:only-of-type {\n",
       "        vertical-align: middle;\n",
       "    }\n",
       "\n",
       "    .dataframe tbody tr th {\n",
       "        vertical-align: top;\n",
       "    }\n",
       "\n",
       "    .dataframe thead th {\n",
       "        text-align: right;\n",
       "    }\n",
       "</style>\n",
       "<table border=\"1\" class=\"dataframe\">\n",
       "  <thead>\n",
       "    <tr style=\"text-align: right;\">\n",
       "      <th></th>\n",
       "      <th>topic0</th>\n",
       "      <th>topic1</th>\n",
       "      <th>topic2</th>\n",
       "      <th>topic3</th>\n",
       "      <th>topic4</th>\n",
       "      <th>topic5</th>\n",
       "      <th>topic6</th>\n",
       "      <th>topic7</th>\n",
       "      <th>topic8</th>\n",
       "      <th>topic9</th>\n",
       "      <th>topic10</th>\n",
       "      <th>topic11</th>\n",
       "      <th>topic12</th>\n",
       "      <th>topic13</th>\n",
       "      <th>topic14</th>\n",
       "    </tr>\n",
       "  </thead>\n",
       "  <tbody>\n",
       "    <tr>\n",
       "      <th>0</th>\n",
       "      <td>False</td>\n",
       "      <td>False</td>\n",
       "      <td>False</td>\n",
       "      <td>False</td>\n",
       "      <td>False</td>\n",
       "      <td>False</td>\n",
       "      <td>False</td>\n",
       "      <td>False</td>\n",
       "      <td>False</td>\n",
       "      <td>False</td>\n",
       "      <td>False</td>\n",
       "      <td>False</td>\n",
       "      <td>False</td>\n",
       "      <td>False</td>\n",
       "      <td>False</td>\n",
       "    </tr>\n",
       "    <tr>\n",
       "      <th>1</th>\n",
       "      <td>False</td>\n",
       "      <td>False</td>\n",
       "      <td>True</td>\n",
       "      <td>False</td>\n",
       "      <td>False</td>\n",
       "      <td>False</td>\n",
       "      <td>False</td>\n",
       "      <td>False</td>\n",
       "      <td>False</td>\n",
       "      <td>True</td>\n",
       "      <td>False</td>\n",
       "      <td>True</td>\n",
       "      <td>False</td>\n",
       "      <td>False</td>\n",
       "      <td>False</td>\n",
       "    </tr>\n",
       "    <tr>\n",
       "      <th>2</th>\n",
       "      <td>False</td>\n",
       "      <td>False</td>\n",
       "      <td>False</td>\n",
       "      <td>False</td>\n",
       "      <td>False</td>\n",
       "      <td>False</td>\n",
       "      <td>False</td>\n",
       "      <td>False</td>\n",
       "      <td>False</td>\n",
       "      <td>False</td>\n",
       "      <td>False</td>\n",
       "      <td>False</td>\n",
       "      <td>False</td>\n",
       "      <td>False</td>\n",
       "      <td>False</td>\n",
       "    </tr>\n",
       "    <tr>\n",
       "      <th>3</th>\n",
       "      <td>False</td>\n",
       "      <td>False</td>\n",
       "      <td>True</td>\n",
       "      <td>False</td>\n",
       "      <td>True</td>\n",
       "      <td>True</td>\n",
       "      <td>False</td>\n",
       "      <td>True</td>\n",
       "      <td>True</td>\n",
       "      <td>True</td>\n",
       "      <td>True</td>\n",
       "      <td>True</td>\n",
       "      <td>True</td>\n",
       "      <td>True</td>\n",
       "      <td>True</td>\n",
       "    </tr>\n",
       "    <tr>\n",
       "      <th>4</th>\n",
       "      <td>True</td>\n",
       "      <td>False</td>\n",
       "      <td>True</td>\n",
       "      <td>True</td>\n",
       "      <td>True</td>\n",
       "      <td>False</td>\n",
       "      <td>False</td>\n",
       "      <td>False</td>\n",
       "      <td>False</td>\n",
       "      <td>True</td>\n",
       "      <td>True</td>\n",
       "      <td>False</td>\n",
       "      <td>False</td>\n",
       "      <td>True</td>\n",
       "      <td>True</td>\n",
       "    </tr>\n",
       "  </tbody>\n",
       "</table>\n",
       "</div>"
      ],
      "text/plain": [
       "   topic0  topic1  topic2  topic3  topic4  topic5  topic6  topic7  topic8  \\\n",
       "0   False   False   False   False   False   False   False   False   False   \n",
       "1   False   False    True   False   False   False   False   False   False   \n",
       "2   False   False   False   False   False   False   False   False   False   \n",
       "3   False   False    True   False    True    True   False    True    True   \n",
       "4    True   False    True    True    True   False   False   False   False   \n",
       "\n",
       "   topic9  topic10  topic11  topic12  topic13  topic14  \n",
       "0   False    False    False    False    False    False  \n",
       "1    True    False     True    False    False    False  \n",
       "2   False    False    False    False    False    False  \n",
       "3    True     True     True     True     True     True  \n",
       "4    True     True    False    False     True     True  "
      ]
     },
     "execution_count": 37,
     "metadata": {},
     "output_type": "execute_result"
    }
   ],
   "source": [
    "# Note, instead of using .predict(doc_word), you can also call topic_model.labels\n",
    "predictions = pd.DataFrame(cor_model.predict(corCount_word_matrix), columns=['topic'+str(i) for i in range(15)])\n",
    "predictions.head()"
   ]
  },
  {
   "cell_type": "markdown",
   "id": "47bea576-313b-42ab-8765-b700cab6029b",
   "metadata": {},
   "source": [
    "The makers of CorEx have a created a cool plotting function to see what the TC of each topic is. \n",
    "  * Look for an elbow (either at 1 topic or 4 topics) and you can create a cut-off there"
   ]
  },
  {
   "cell_type": "code",
   "execution_count": 38,
   "id": "2c464ceb-9f58-4c7f-ac46-f1e8f61d216c",
   "metadata": {},
   "outputs": [],
   "source": [
    "plt.figure(figsize=(10,5))\n",
    "plt.bar(range(cor_model.tcs.shape[0]), cor_model.tcs, color='#4e79a7', width=0.5)\n",
    "plt.xlabel('Topic', fontsize=16)\n",
    "plt.ylabel('Total Correlation (nats)', fontsize=16)\n",
    "plt.show()"
   ]
  },
  {
   "cell_type": "code",
   "execution_count": 39,
   "id": "e9c71c1f-a89b-450d-9c84-871472bca915",
   "metadata": {},
   "outputs": [
    {
     "name": "stdout",
     "output_type": "stream",
     "text": [
      "WARNING: Anchor word not in word column labels provided to CorEx: karen\n",
      "WARNING: Anchor word not in word column labels provided to CorEx: prize\n",
      "WARNING: Anchor word not in word column labels provided to CorEx: food\n",
      "WARNING: Anchor word not in word column labels provided to CorEx: squid\n",
      "WARNING: Anchor word not in word column labels provided to CorEx: football\n",
      "WARNING: Anchor word not in word column labels provided to CorEx: science\n",
      "WARNING: Anchor word not in word column labels provided to CorEx: pregnancy\n",
      "WARNING: Anchor word not in word column labels provided to CorEx: bag\n",
      "0: hair,wash,brush,lip,shower,mirror,teeth,nose,mama\n",
      "1: minecraft,block,iron,diamond,chest,wood,damage,stone,dying,craft\n",
      "2: game,player,played\n",
      "3: school,high school,class,teacher,grade,student,math,college,birthday,study\n",
      "4: music,dance,song\n",
      "5: halloween,candy,orange\n",
      "6: clothes,outfit,dress,shirt,shopping,dressed,pant,tie,yay\n",
      "7: challenge,winner,artist\n",
      "8: makeup,watching bye,bye guy,anyways today,enjoyed video,today guy,guy enjoyed,love guy,make notification,wolf pack\n",
      "9: christmas,toy\n",
      "10: later,heard,thinking,gave,ask,course,ago,understand,care,couple\n",
      "11: world,sense,absolutely,make sense,possible,imagine,turned,moment,plan,apparently\n",
      "12: pick,entire,seen,eat,throw,perfect,supposed,outside,door,saw\n",
      "13: working,color,took,go,looked,beautiful,white,really good,putting,rest\n",
      "14: win,thousand,kill,die,chance,beat,close,build,50,thousand dollar\n"
     ]
    }
   ],
   "source": [
    "topic_model = ct.Corex(n_hidden=15, words=cor_vocab,\n",
    "                       max_iter=200, verbose=False, seed=1)\n",
    "\n",
    "topic_model.fit(corCount_word_matrix, words=cor_vocab, docs=corpus, \n",
    "                anchors=[['karen'], \n",
    "                         ['hair'], \n",
    "                         ['prize'], \n",
    "                         ['food'],\n",
    "                         ['minecraft'], \n",
    "                         ['squid', 'game', 'football'],\n",
    "                         ['school'], \n",
    "                         ['science'], \n",
    "                         ['pregnancy'], \n",
    "                         ['dance', 'music'],\n",
    "                         ['halloween'], \n",
    "                         ['clothes'],\n",
    "                         ['challenge'], \n",
    "                         ['makeup', 'bag'],\n",
    "                         ['christmas']], anchor_strength=10)\n",
    "\n",
    "# Print all topics from the CorEx topic model\n",
    "topics = topic_model.get_topics()\n",
    "for n,topic in enumerate(topics):\n",
    "    topic_words,_,_ = zip(*topic)\n",
    "    print('{}: '.format(n) + ','.join(topic_words))"
   ]
  },
  {
   "cell_type": "markdown",
   "id": "6bdaa156-ebd7-41ad-85f7-02ee6887033a",
   "metadata": {},
   "source": [
    "# Clustering\n",
    "    *using the NMF model*\n",
    "\n",
    "#### t-SNE Visualization "
   ]
  },
  {
   "cell_type": "code",
   "execution_count": 40,
   "id": "04010e45-8761-49ac-b9ef-97f759b5c8df",
   "metadata": {},
   "outputs": [],
   "source": [
    "# create a threshold \n",
    "threshold = 0    # can do .02 or something similar\n",
    "\n",
    "idx = np.amax(tfidf_text_topic_matrix, axis=1) > threshold\n",
    "topics_matrix_filtered = tfidf_text_topic_matrix[idx]"
   ]
  },
  {
   "cell_type": "code",
   "execution_count": 41,
   "id": "750b0a71-e7b5-4a94-b3a6-db9e79fe8c33",
   "metadata": {},
   "outputs": [
    {
     "data": {
      "text/plain": [
       "(1094, 15)"
      ]
     },
     "execution_count": 41,
     "metadata": {},
     "output_type": "execute_result"
    }
   ],
   "source": [
    "topics_matrix_filtered.shape"
   ]
  },
  {
   "cell_type": "code",
   "execution_count": 42,
   "id": "51d4d498-fb06-4e5d-ae35-34f3471169e2",
   "metadata": {},
   "outputs": [],
   "source": [
    "# must Standard Scale the data before you fit_transform to perform ANY clustering!!\n",
    "topics_matrix_std = StandardScaler().fit_transform(topics_matrix_filtered)"
   ]
  },
  {
   "cell_type": "code",
   "execution_count": 43,
   "id": "0349111d-c91e-4594-bb28-69ed3857e7fc",
   "metadata": {},
   "outputs": [
    {
     "name": "stdout",
     "output_type": "stream",
     "text": [
      "[t-SNE] Computing 91 nearest neighbors...\n",
      "[t-SNE] Indexed 1094 samples in 0.017s...\n",
      "[t-SNE] Computed neighbors for 1094 samples in 0.079s...\n",
      "[t-SNE] Computed conditional probabilities for sample 1000 / 1094\n",
      "[t-SNE] Computed conditional probabilities for sample 1094 / 1094\n",
      "[t-SNE] Mean sigma: 0.823591\n",
      "[t-SNE] KL divergence after 250 iterations with early exaggeration: 66.608582\n",
      "[t-SNE] KL divergence after 1000 iterations: 0.788985\n"
     ]
    }
   ],
   "source": [
    "tsne = TSNE(n_components=2, verbose=1, random_state=0, angle=.1, init='pca')\n",
    "topics_mapped_2d = tsne.fit_transform(topics_matrix_std)"
   ]
  },
  {
   "cell_type": "code",
   "execution_count": 44,
   "id": "b069c786-0e18-431b-967c-74042a67cf42",
   "metadata": {},
   "outputs": [],
   "source": [
    "# FILTERED topic with highest NMF value for each post\n",
    "max_topic_per_post_list = []\n",
    "for i in range(topics_matrix_filtered.shape[0]):\n",
    "    max_topic_per_post_list.append(topics_matrix_filtered[i].argmax())"
   ]
  },
  {
   "cell_type": "code",
   "execution_count": 45,
   "id": "74c6453f-6452-4eeb-be04-c8402b7bdf5a",
   "metadata": {},
   "outputs": [],
   "source": [
    "max_topic_per_post = [[x] for x in max_topic_per_post_list]\n",
    "tsne_data = np.concatenate((topics_mapped_2d, max_topic_per_post), 1)"
   ]
  },
  {
   "cell_type": "code",
   "execution_count": 46,
   "id": "735116f3-f0e3-41d6-b7f8-dc6977c302ee",
   "metadata": {
    "jupyter": {
     "source_hidden": true
    },
    "tags": []
   },
   "outputs": [],
   "source": [
    "def cluster_plot(tsne_data, topic_labels):\n",
    "    '''\n",
    "    Plot the t-SNE cluster\n",
    "    '''\n",
    "    color_map = {0:  '#e6194b', 1:  '#3cb44b', 2:  '#ffe119', 3:  '#0082c8', 4:  '#f58231', 5:  '#911eb4',\n",
    "                 6:  '#46f0f0', 7:  '#f032e6', 8:  '#d2f53c', 9:  '#fabebe', 10:  '#008080', 11:  '#e6beff',\n",
    "                 12:  '#aa6e28', 13:  '#800000', 14:  '#aaffc3'}\n",
    "\n",
    "    labels = list(range(nmf_n_compnents))\n",
    "\n",
    "    plt.figure(figsize=(12, 8))\n",
    "    for topic in range(nmf_n_compnents):\n",
    "        inds = np.where(tsne_data[:, 2] == topic)[0]\n",
    "        plt.scatter(x=tsne_data[inds, 0],\n",
    "                    y=tsne_data[inds, 1],\n",
    "                    marker='o',\n",
    "                    s=10,\n",
    "                    color=color_map[topic],\n",
    "                    label=topic)\n",
    "\n",
    "    plt.xlabel('Dimension 1', fontsize=12)\n",
    "    plt.ylabel('Dimension 2', fontsize=12)\n",
    "    plt.title('t-SNE Results: Topics in 2-D Space', fontsize=14)\n",
    "    plt.legend(loc=\"lower left\", labels=topic_labels, fontsize=12, prop={'size': 10}, markerscale=2)\n",
    "    plt.show()"
   ]
  },
  {
   "cell_type": "code",
   "execution_count": 47,
   "id": "5ac31fee-80a3-43a8-8daa-48f127d0a9a9",
   "metadata": {},
   "outputs": [
    {
     "data": {
      "image/png": "[encoded data removed]",
      "text/plain": [
       "<Figure size 864x576 with 1 Axes>"
      ]
     },
     "metadata": {
      "needs_background": "light"
     },
     "output_type": "display_data"
    }
   ],
   "source": [
    "%matplotlib inline\n",
    "cluster_plot(tsne_data, topic_list)"
   ]
  },
  {
   "cell_type": "markdown",
   "id": "117f5053-7d2a-488b-8709-dfec98145495",
   "metadata": {},
   "source": [
    "#### KMeans Visualization"
   ]
  },
  {
   "cell_type": "code",
   "execution_count": 48,
   "id": "3872615c-c9b8-4252-a805-8d5e4d84994f",
   "metadata": {},
   "outputs": [
    {
     "data": {
      "text/plain": [
       "(1094, 2)"
      ]
     },
     "execution_count": 48,
     "metadata": {},
     "output_type": "execute_result"
    }
   ],
   "source": [
    "# make sure to have more clusters thanthe number of topics --> can be up to 2**(n-1), where n = # of topics\n",
    "data = topics_matrix_std   # want to use on the 2-d standard scaled data\n",
    "pca = PCA(2)\n",
    "pca_df = pca.fit_transform(data)\n",
    "pca_df.shape"
   ]
  },
  {
   "cell_type": "code",
   "execution_count": 49,
   "id": "283c9d68-2edd-480e-8f2f-ae47ffc14a14",
   "metadata": {},
   "outputs": [
    {
     "name": "stdout",
     "output_type": "stream",
     "text": [
      "1094\n"
     ]
    },
    {
     "data": {
      "text/plain": [
       "array([19,  0,  4, ...,  6,  6,  8], dtype=int32)"
      ]
     },
     "execution_count": 49,
     "metadata": {},
     "output_type": "execute_result"
    }
   ],
   "source": [
    "k = 20\n",
    "km = KMeans(n_clusters=k)\n",
    "label = km.fit_predict(pca_df)\n",
    "print(len(label))\n",
    "label"
   ]
  },
  {
   "cell_type": "code",
   "execution_count": 50,
   "id": "29965dba-4606-4bc3-be27-28cb09a14d52",
   "metadata": {},
   "outputs": [],
   "source": [
    "def kmeans_plot(df, kmeans, label, k):\n",
    "    '''\n",
    "    Plot kmeans \n",
    "    '''\n",
    "    # extract all unique labels\n",
    "    centroids = kmeans.cluster_centers_\n",
    "    u_labels = np.unique(label)\n",
    "\n",
    "    plt.figure(figsize=(12, 8))\n",
    "\n",
    "    # plot the results\n",
    "    for i in u_labels:\n",
    "        plt.scatter(df[label == i , 0] , df[label == i , 1] , label = i)\n",
    "    plt.xlabel('Dimension 1', fontsize=12)\n",
    "    plt.ylabel('Dimension 2', fontsize=12)\n",
    "    plt.title(f'K-Means clustering: k = {k}', fontsize=14)\n",
    "    plt.scatter(centroids[:,0] , centroids[:,1] , s = 50, color = 'k')\n",
    "    plt.legend()\n",
    "    plt.show()"
   ]
  },
  {
   "cell_type": "code",
   "execution_count": 51,
   "id": "3d06adbc-9cba-4e6e-b9f9-5a8245042099",
   "metadata": {},
   "outputs": [
    {
     "data": {
      "image/png": "[encoded data removed]",
      "text/plain": [
       "<Figure size 864x576 with 1 Axes>"
      ]
     },
     "metadata": {
      "needs_background": "light"
     },
     "output_type": "display_data"
    }
   ],
   "source": [
    "%matplotlib inline\n",
    "kmeans_plot(pca_df, km, label, k)"
   ]
  },
  {
   "cell_type": "markdown",
   "id": "496fae85-e76a-43a4-9b7a-11ac37f51553",
   "metadata": {},
   "source": [
    "### DBSCAN Visualization"
   ]
  },
  {
   "cell_type": "code",
   "execution_count": 52,
   "id": "6a588d3f-52c9-4b2c-ad98-3f80e0a05514",
   "metadata": {},
   "outputs": [],
   "source": [
    "def dbscan(X, eps, min_samples):\n",
    "    '''\n",
    "    Plot dbscan \n",
    "    '''\n",
    "    ss = StandardScaler()\n",
    "    X = ss.fit_transform(X)\n",
    "    db = DBSCAN(eps=eps, min_samples=min_samples)\n",
    "    db.fit(X)\n",
    "    y_pred = db.fit_predict(X)\n",
    "    plt.figure(figsize=(12, 8))\n",
    "    plt.scatter(X[:,0], X[:,1], c=y_pred, cmap='Paired')\n",
    "    plt.xlabel('Dimension 1', fontsize=12)\n",
    "    plt.ylabel('Dimension 2', fontsize=12)\n",
    "    plt.title(\"DBSCAN\")"
   ]
  },
  {
   "cell_type": "code",
   "execution_count": 53,
   "id": "d33fa5ab-4ae8-4ff3-b570-b73ca00a3327",
   "metadata": {},
   "outputs": [
    {
     "data": {
      "image/png": "[encoded data removed]",
      "text/plain": [
       "<Figure size 864x576 with 1 Axes>"
      ]
     },
     "metadata": {
      "needs_background": "light"
     },
     "output_type": "display_data"
    }
   ],
   "source": [
    "%matplotlib inline\n",
    "dbscan(topics_mapped_2d, .27, 30)"
   ]
  },
  {
   "cell_type": "markdown",
   "id": "c84c3b45-7e7e-4f99-a401-4bccd2ecb455",
   "metadata": {},
   "source": [
    "# EDA of the Topics using MetaData"
   ]
  },
  {
   "cell_type": "code",
   "execution_count": 54,
   "id": "d4d779c7-86ac-4604-9123-8d0516da44ba",
   "metadata": {},
   "outputs": [],
   "source": [
    "# assign topics to a the original dataframe\n",
    "df['topic'] = max_topic_per_post_list\n",
    "# map topic names to the new dataframe column form topic_dict\n",
    "df['topic'] = df['topic'].map(topic_dict)"
   ]
  },
  {
   "cell_type": "code",
   "execution_count": 66,
   "id": "b76376fc-6044-44f1-bd2d-15d542f4a614",
   "metadata": {},
   "outputs": [
    {
     "data": {
      "application/vnd.plotly.v1+json": {
       "config": {
        "plotlyServerURL": "https://plot.ly"
       },
       "data": [
        {
         "alignmentgroup": "True",
         "hovertemplate": "variable=topic<br>value=%{x}<br>index=%{y}<extra></extra>",
         "legendgroup": "topic",
         "marker": {
          "color": "#fa8072",
          "pattern": {
           "shape": ""
          }
         },
         "name": "topic",
         "offsetgroup": "topic",
         "orientation": "h",
         "showlegend": true,
         "textposition": "auto",
         "type": "bar",
         "x": [
          256,
          99,
          96,
          89,
          73,
          70,
          65,
          55,
          53,
          52,
          51,
          43,
          40,
          33,
          19
         ],
         "xaxis": "x",
         "y": [
          "beautyCare",
          "food",
          "minecraft",
          "school",
          "videoReviews",
          "educational",
          "prizes",
          "dance_music",
          "games",
          "challenges",
          "christmas",
          "halloween",
          "hair",
          "clothes",
          "pregnancy"
         ],
         "yaxis": "y"
        }
       ],
       "layout": {
        "barmode": "stack",
        "height": 400,
        "hovermode": "closest",
        "legend": {
         "title": {
          "text": "variable"
         },
         "tracegroupgap": 0
        },
        "margin": {
         "t": 60
        },
        "showlegend": false,
        "template": {
         "data": {
          "bar": [
           {
            "error_x": {
             "color": "rgb(51,51,51)"
            },
            "error_y": {
             "color": "rgb(51,51,51)"
            },
            "marker": {
             "line": {
              "color": "rgb(237,237,237)",
              "width": 0.5
             },
             "pattern": {
              "fillmode": "overlay",
              "size": 10,
              "solidity": 0.2
             }
            },
            "type": "bar"
           }
          ],
          "barpolar": [
           {
            "marker": {
             "line": {
              "color": "rgb(237,237,237)",
              "width": 0.5
             },
             "pattern": {
              "fillmode": "overlay",
              "size": 10,
              "solidity": 0.2
             }
            },
            "type": "barpolar"
           }
          ],
          "carpet": [
           {
            "aaxis": {
             "endlinecolor": "rgb(51,51,51)",
             "gridcolor": "white",
             "linecolor": "white",
             "minorgridcolor": "white",
             "startlinecolor": "rgb(51,51,51)"
            },
            "baxis": {
             "endlinecolor": "rgb(51,51,51)",
             "gridcolor": "white",
             "linecolor": "white",
             "minorgridcolor": "white",
             "startlinecolor": "rgb(51,51,51)"
            },
            "type": "carpet"
           }
          ],
          "choropleth": [
           {
            "colorbar": {
             "outlinewidth": 0,
             "tickcolor": "rgb(237,237,237)",
             "ticklen": 6,
             "ticks": "inside"
            },
            "type": "choropleth"
           }
          ],
          "contour": [
           {
            "colorbar": {
             "outlinewidth": 0,
             "tickcolor": "rgb(237,237,237)",
             "ticklen": 6,
             "ticks": "inside"
            },
            "colorscale": [
             [
              0,
              "rgb(20,44,66)"
             ],
             [
              1,
              "rgb(90,179,244)"
             ]
            ],
            "type": "contour"
           }
          ],
          "contourcarpet": [
           {
            "colorbar": {
             "outlinewidth": 0,
             "tickcolor": "rgb(237,237,237)",
             "ticklen": 6,
             "ticks": "inside"
            },
            "type": "contourcarpet"
           }
          ],
          "heatmap": [
           {
            "colorbar": {
             "outlinewidth": 0,
             "tickcolor": "rgb(237,237,237)",
             "ticklen": 6,
             "ticks": "inside"
            },
            "colorscale": [
             [
              0,
              "rgb(20,44,66)"
             ],
             [
              1,
              "rgb(90,179,244)"
             ]
            ],
            "type": "heatmap"
           }
          ],
          "heatmapgl": [
           {
            "colorbar": {
             "outlinewidth": 0,
             "tickcolor": "rgb(237,237,237)",
             "ticklen": 6,
             "ticks": "inside"
            },
            "colorscale": [
             [
              0,
              "rgb(20,44,66)"
             ],
             [
              1,
              "rgb(90,179,244)"
             ]
            ],
            "type": "heatmapgl"
           }
          ],
          "histogram": [
           {
            "marker": {
             "pattern": {
              "fillmode": "overlay",
              "size": 10,
              "solidity": 0.2
             }
            },
            "type": "histogram"
           }
          ],
          "histogram2d": [
           {
            "colorbar": {
             "outlinewidth": 0,
             "tickcolor": "rgb(237,237,237)",
             "ticklen": 6,
             "ticks": "inside"
            },
            "colorscale": [
             [
              0,
              "rgb(20,44,66)"
             ],
             [
              1,
              "rgb(90,179,244)"
             ]
            ],
            "type": "histogram2d"
           }
          ],
          "histogram2dcontour": [
           {
            "colorbar": {
             "outlinewidth": 0,
             "tickcolor": "rgb(237,237,237)",
             "ticklen": 6,
             "ticks": "inside"
            },
            "colorscale": [
             [
              0,
              "rgb(20,44,66)"
             ],
             [
              1,
              "rgb(90,179,244)"
             ]
            ],
            "type": "histogram2dcontour"
           }
          ],
          "mesh3d": [
           {
            "colorbar": {
             "outlinewidth": 0,
             "tickcolor": "rgb(237,237,237)",
             "ticklen": 6,
             "ticks": "inside"
            },
            "type": "mesh3d"
           }
          ],
          "parcoords": [
           {
            "line": {
             "colorbar": {
              "outlinewidth": 0,
              "tickcolor": "rgb(237,237,237)",
              "ticklen": 6,
              "ticks": "inside"
             }
            },
            "type": "parcoords"
           }
          ],
          "pie": [
           {
            "automargin": true,
            "type": "pie"
           }
          ],
          "scatter": [
           {
            "marker": {
             "colorbar": {
              "outlinewidth": 0,
              "tickcolor": "rgb(237,237,237)",
              "ticklen": 6,
              "ticks": "inside"
             }
            },
            "type": "scatter"
           }
          ],
          "scatter3d": [
           {
            "line": {
             "colorbar": {
              "outlinewidth": 0,
              "tickcolor": "rgb(237,237,237)",
              "ticklen": 6,
              "ticks": "inside"
             }
            },
            "marker": {
             "colorbar": {
              "outlinewidth": 0,
              "tickcolor": "rgb(237,237,237)",
              "ticklen": 6,
              "ticks": "inside"
             }
            },
            "type": "scatter3d"
           }
          ],
          "scattercarpet": [
           {
            "marker": {
             "colorbar": {
              "outlinewidth": 0,
              "tickcolor": "rgb(237,237,237)",
              "ticklen": 6,
              "ticks": "inside"
             }
            },
            "type": "scattercarpet"
           }
          ],
          "scattergeo": [
           {
            "marker": {
             "colorbar": {
              "outlinewidth": 0,
              "tickcolor": "rgb(237,237,237)",
              "ticklen": 6,
              "ticks": "inside"
             }
            },
            "type": "scattergeo"
           }
          ],
          "scattergl": [
           {
            "marker": {
             "colorbar": {
              "outlinewidth": 0,
              "tickcolor": "rgb(237,237,237)",
              "ticklen": 6,
              "ticks": "inside"
             }
            },
            "type": "scattergl"
           }
          ],
          "scattermapbox": [
           {
            "marker": {
             "colorbar": {
              "outlinewidth": 0,
              "tickcolor": "rgb(237,237,237)",
              "ticklen": 6,
              "ticks": "inside"
             }
            },
            "type": "scattermapbox"
           }
          ],
          "scatterpolar": [
           {
            "marker": {
             "colorbar": {
              "outlinewidth": 0,
              "tickcolor": "rgb(237,237,237)",
              "ticklen": 6,
              "ticks": "inside"
             }
            },
            "type": "scatterpolar"
           }
          ],
          "scatterpolargl": [
           {
            "marker": {
             "colorbar": {
              "outlinewidth": 0,
              "tickcolor": "rgb(237,237,237)",
              "ticklen": 6,
              "ticks": "inside"
             }
            },
            "type": "scatterpolargl"
           }
          ],
          "scatterternary": [
           {
            "marker": {
             "colorbar": {
              "outlinewidth": 0,
              "tickcolor": "rgb(237,237,237)",
              "ticklen": 6,
              "ticks": "inside"
             }
            },
            "type": "scatterternary"
           }
          ],
          "surface": [
           {
            "colorbar": {
             "outlinewidth": 0,
             "tickcolor": "rgb(237,237,237)",
             "ticklen": 6,
             "ticks": "inside"
            },
            "colorscale": [
             [
              0,
              "rgb(20,44,66)"
             ],
             [
              1,
              "rgb(90,179,244)"
             ]
            ],
            "type": "surface"
           }
          ],
          "table": [
           {
            "cells": {
             "fill": {
              "color": "rgb(237,237,237)"
             },
             "line": {
              "color": "white"
             }
            },
            "header": {
             "fill": {
              "color": "rgb(217,217,217)"
             },
             "line": {
              "color": "white"
             }
            },
            "type": "table"
           }
          ]
         },
         "layout": {
          "annotationdefaults": {
           "arrowhead": 0,
           "arrowwidth": 1
          },
          "autotypenumbers": "strict",
          "coloraxis": {
           "colorbar": {
            "outlinewidth": 0,
            "tickcolor": "rgb(237,237,237)",
            "ticklen": 6,
            "ticks": "inside"
           }
          },
          "colorscale": {
           "sequential": [
            [
             0,
             "rgb(20,44,66)"
            ],
            [
             1,
             "rgb(90,179,244)"
            ]
           ],
           "sequentialminus": [
            [
             0,
             "rgb(20,44,66)"
            ],
            [
             1,
             "rgb(90,179,244)"
            ]
           ]
          },
          "colorway": [
           "#F8766D",
           "#A3A500",
           "#00BF7D",
           "#00B0F6",
           "#E76BF3"
          ],
          "font": {
           "color": "rgb(51,51,51)"
          },
          "geo": {
           "bgcolor": "white",
           "lakecolor": "white",
           "landcolor": "rgb(237,237,237)",
           "showlakes": true,
           "showland": true,
           "subunitcolor": "white"
          },
          "hoverlabel": {
           "align": "left"
          },
          "hovermode": "closest",
          "paper_bgcolor": "white",
          "plot_bgcolor": "rgb(237,237,237)",
          "polar": {
           "angularaxis": {
            "gridcolor": "white",
            "linecolor": "white",
            "showgrid": true,
            "tickcolor": "rgb(51,51,51)",
            "ticks": "outside"
           },
           "bgcolor": "rgb(237,237,237)",
           "radialaxis": {
            "gridcolor": "white",
            "linecolor": "white",
            "showgrid": true,
            "tickcolor": "rgb(51,51,51)",
            "ticks": "outside"
           }
          },
          "scene": {
           "xaxis": {
            "backgroundcolor": "rgb(237,237,237)",
            "gridcolor": "white",
            "gridwidth": 2,
            "linecolor": "white",
            "showbackground": true,
            "showgrid": true,
            "tickcolor": "rgb(51,51,51)",
            "ticks": "outside",
            "zerolinecolor": "white"
           },
           "yaxis": {
            "backgroundcolor": "rgb(237,237,237)",
            "gridcolor": "white",
            "gridwidth": 2,
            "linecolor": "white",
            "showbackground": true,
            "showgrid": true,
            "tickcolor": "rgb(51,51,51)",
            "ticks": "outside",
            "zerolinecolor": "white"
           },
           "zaxis": {
            "backgroundcolor": "rgb(237,237,237)",
            "gridcolor": "white",
            "gridwidth": 2,
            "linecolor": "white",
            "showbackground": true,
            "showgrid": true,
            "tickcolor": "rgb(51,51,51)",
            "ticks": "outside",
            "zerolinecolor": "white"
           }
          },
          "shapedefaults": {
           "fillcolor": "black",
           "line": {
            "width": 0
           },
           "opacity": 0.3
          },
          "ternary": {
           "aaxis": {
            "gridcolor": "white",
            "linecolor": "white",
            "showgrid": true,
            "tickcolor": "rgb(51,51,51)",
            "ticks": "outside"
           },
           "baxis": {
            "gridcolor": "white",
            "linecolor": "white",
            "showgrid": true,
            "tickcolor": "rgb(51,51,51)",
            "ticks": "outside"
           },
           "bgcolor": "rgb(237,237,237)",
           "caxis": {
            "gridcolor": "white",
            "linecolor": "white",
            "showgrid": true,
            "tickcolor": "rgb(51,51,51)",
            "ticks": "outside"
           }
          },
          "xaxis": {
           "automargin": true,
           "gridcolor": "white",
           "linecolor": "white",
           "showgrid": true,
           "tickcolor": "rgb(51,51,51)",
           "ticks": "outside",
           "title": {
            "standoff": 15
           },
           "zerolinecolor": "white"
          },
          "yaxis": {
           "automargin": true,
           "gridcolor": "white",
           "linecolor": "white",
           "showgrid": true,
           "tickcolor": "rgb(51,51,51)",
           "ticks": "outside",
           "title": {
            "standoff": 15
           },
           "zerolinecolor": "white"
          }
         }
        },
        "title": {
         "text": "Video Count per Topic"
        },
        "width": 800,
        "xaxis": {
         "anchor": "y",
         "autorange": true,
         "domain": [
          0,
          1
         ],
         "range": [
          0,
          269.4736842105263
         ],
         "title": {
          "text": ""
         },
         "type": "linear"
        },
        "yaxis": {
         "anchor": "x",
         "autorange": true,
         "categoryorder": "total ascending",
         "domain": [
          0,
          1
         ],
         "range": [
          -0.5,
          14.5
         ],
         "title": {
          "text": "Topic"
         },
         "type": "category"
        }
       }
      },
      "image/png": "[encoded data removed]",
      "text/html": [
       "<div>                            <div id=\"4a233a39-2f59-4449-aa04-c160b2477420\" class=\"plotly-graph-div\" style=\"height:400px; width:800px;\"></div>            <script type=\"text/javascript\">                require([\"plotly\"], function(Plotly) {                    window.PLOTLYENV=window.PLOTLYENV || {};                                    if (document.getElementById(\"4a233a39-2f59-4449-aa04-c160b2477420\")) {                    Plotly.newPlot(                        \"4a233a39-2f59-4449-aa04-c160b2477420\",                        [{\"alignmentgroup\":\"True\",\"hovertemplate\":\"variable=topic<br>value=%{x}<br>index=%{y}<extra></extra>\",\"legendgroup\":\"topic\",\"marker\":{\"color\":\"#fa8072\",\"pattern\":{\"shape\":\"\"}},\"name\":\"topic\",\"offsetgroup\":\"topic\",\"orientation\":\"h\",\"showlegend\":true,\"textposition\":\"auto\",\"type\":\"bar\",\"x\":[256,99,96,89,73,70,65,55,53,52,51,43,40,33,19],\"xaxis\":\"x\",\"y\":[\"beautyCare\",\"food\",\"minecraft\",\"school\",\"videoReviews\",\"educational\",\"prizes\",\"dance_music\",\"games\",\"challenges\",\"christmas\",\"halloween\",\"hair\",\"clothes\",\"pregnancy\"],\"yaxis\":\"y\"}],                        {\"barmode\":\"stack\",\"height\":400,\"hovermode\":\"closest\",\"legend\":{\"title\":{\"text\":\"variable\"},\"tracegroupgap\":0},\"margin\":{\"t\":60},\"showlegend\":false,\"template\":{\"data\":{\"bar\":[{\"error_x\":{\"color\":\"rgb(51,51,51)\"},\"error_y\":{\"color\":\"rgb(51,51,51)\"},\"marker\":{\"line\":{\"color\":\"rgb(237,237,237)\",\"width\":0.5},\"pattern\":{\"fillmode\":\"overlay\",\"size\":10,\"solidity\":0.2}},\"type\":\"bar\"}],\"barpolar\":[{\"marker\":{\"line\":{\"color\":\"rgb(237,237,237)\",\"width\":0.5},\"pattern\":{\"fillmode\":\"overlay\",\"size\":10,\"solidity\":0.2}},\"type\":\"barpolar\"}],\"carpet\":[{\"aaxis\":{\"endlinecolor\":\"rgb(51,51,51)\",\"gridcolor\":\"white\",\"linecolor\":\"white\",\"minorgridcolor\":\"white\",\"startlinecolor\":\"rgb(51,51,51)\"},\"baxis\":{\"endlinecolor\":\"rgb(51,51,51)\",\"gridcolor\":\"white\",\"linecolor\":\"white\",\"minorgridcolor\":\"white\",\"startlinecolor\":\"rgb(51,51,51)\"},\"type\":\"carpet\"}],\"choropleth\":[{\"colorbar\":{\"outlinewidth\":0,\"tickcolor\":\"rgb(237,237,237)\",\"ticklen\":6,\"ticks\":\"inside\"},\"type\":\"choropleth\"}],\"contour\":[{\"colorbar\":{\"outlinewidth\":0,\"tickcolor\":\"rgb(237,237,237)\",\"ticklen\":6,\"ticks\":\"inside\"},\"colorscale\":[[0,\"rgb(20,44,66)\"],[1,\"rgb(90,179,244)\"]],\"type\":\"contour\"}],\"contourcarpet\":[{\"colorbar\":{\"outlinewidth\":0,\"tickcolor\":\"rgb(237,237,237)\",\"ticklen\":6,\"ticks\":\"inside\"},\"type\":\"contourcarpet\"}],\"heatmap\":[{\"colorbar\":{\"outlinewidth\":0,\"tickcolor\":\"rgb(237,237,237)\",\"ticklen\":6,\"ticks\":\"inside\"},\"colorscale\":[[0,\"rgb(20,44,66)\"],[1,\"rgb(90,179,244)\"]],\"type\":\"heatmap\"}],\"heatmapgl\":[{\"colorbar\":{\"outlinewidth\":0,\"tickcolor\":\"rgb(237,237,237)\",\"ticklen\":6,\"ticks\":\"inside\"},\"colorscale\":[[0,\"rgb(20,44,66)\"],[1,\"rgb(90,179,244)\"]],\"type\":\"heatmapgl\"}],\"histogram\":[{\"marker\":{\"pattern\":{\"fillmode\":\"overlay\",\"size\":10,\"solidity\":0.2}},\"type\":\"histogram\"}],\"histogram2d\":[{\"colorbar\":{\"outlinewidth\":0,\"tickcolor\":\"rgb(237,237,237)\",\"ticklen\":6,\"ticks\":\"inside\"},\"colorscale\":[[0,\"rgb(20,44,66)\"],[1,\"rgb(90,179,244)\"]],\"type\":\"histogram2d\"}],\"histogram2dcontour\":[{\"colorbar\":{\"outlinewidth\":0,\"tickcolor\":\"rgb(237,237,237)\",\"ticklen\":6,\"ticks\":\"inside\"},\"colorscale\":[[0,\"rgb(20,44,66)\"],[1,\"rgb(90,179,244)\"]],\"type\":\"histogram2dcontour\"}],\"mesh3d\":[{\"colorbar\":{\"outlinewidth\":0,\"tickcolor\":\"rgb(237,237,237)\",\"ticklen\":6,\"ticks\":\"inside\"},\"type\":\"mesh3d\"}],\"parcoords\":[{\"line\":{\"colorbar\":{\"outlinewidth\":0,\"tickcolor\":\"rgb(237,237,237)\",\"ticklen\":6,\"ticks\":\"inside\"}},\"type\":\"parcoords\"}],\"pie\":[{\"automargin\":true,\"type\":\"pie\"}],\"scatter\":[{\"marker\":{\"colorbar\":{\"outlinewidth\":0,\"tickcolor\":\"rgb(237,237,237)\",\"ticklen\":6,\"ticks\":\"inside\"}},\"type\":\"scatter\"}],\"scatter3d\":[{\"line\":{\"colorbar\":{\"outlinewidth\":0,\"tickcolor\":\"rgb(237,237,237)\",\"ticklen\":6,\"ticks\":\"inside\"}},\"marker\":{\"colorbar\":{\"outlinewidth\":0,\"tickcolor\":\"rgb(237,237,237)\",\"ticklen\":6,\"ticks\":\"inside\"}},\"type\":\"scatter3d\"}],\"scattercarpet\":[{\"marker\":{\"colorbar\":{\"outlinewidth\":0,\"tickcolor\":\"rgb(237,237,237)\",\"ticklen\":6,\"ticks\":\"inside\"}},\"type\":\"scattercarpet\"}],\"scattergeo\":[{\"marker\":{\"colorbar\":{\"outlinewidth\":0,\"tickcolor\":\"rgb(237,237,237)\",\"ticklen\":6,\"ticks\":\"inside\"}},\"type\":\"scattergeo\"}],\"scattergl\":[{\"marker\":{\"colorbar\":{\"outlinewidth\":0,\"tickcolor\":\"rgb(237,237,237)\",\"ticklen\":6,\"ticks\":\"inside\"}},\"type\":\"scattergl\"}],\"scattermapbox\":[{\"marker\":{\"colorbar\":{\"outlinewidth\":0,\"tickcolor\":\"rgb(237,237,237)\",\"ticklen\":6,\"ticks\":\"inside\"}},\"type\":\"scattermapbox\"}],\"scatterpolar\":[{\"marker\":{\"colorbar\":{\"outlinewidth\":0,\"tickcolor\":\"rgb(237,237,237)\",\"ticklen\":6,\"ticks\":\"inside\"}},\"type\":\"scatterpolar\"}],\"scatterpolargl\":[{\"marker\":{\"colorbar\":{\"outlinewidth\":0,\"tickcolor\":\"rgb(237,237,237)\",\"ticklen\":6,\"ticks\":\"inside\"}},\"type\":\"scatterpolargl\"}],\"scatterternary\":[{\"marker\":{\"colorbar\":{\"outlinewidth\":0,\"tickcolor\":\"rgb(237,237,237)\",\"ticklen\":6,\"ticks\":\"inside\"}},\"type\":\"scatterternary\"}],\"surface\":[{\"colorbar\":{\"outlinewidth\":0,\"tickcolor\":\"rgb(237,237,237)\",\"ticklen\":6,\"ticks\":\"inside\"},\"colorscale\":[[0,\"rgb(20,44,66)\"],[1,\"rgb(90,179,244)\"]],\"type\":\"surface\"}],\"table\":[{\"cells\":{\"fill\":{\"color\":\"rgb(237,237,237)\"},\"line\":{\"color\":\"white\"}},\"header\":{\"fill\":{\"color\":\"rgb(217,217,217)\"},\"line\":{\"color\":\"white\"}},\"type\":\"table\"}]},\"layout\":{\"annotationdefaults\":{\"arrowhead\":0,\"arrowwidth\":1},\"autotypenumbers\":\"strict\",\"coloraxis\":{\"colorbar\":{\"outlinewidth\":0,\"tickcolor\":\"rgb(237,237,237)\",\"ticklen\":6,\"ticks\":\"inside\"}},\"colorscale\":{\"sequential\":[[0,\"rgb(20,44,66)\"],[1,\"rgb(90,179,244)\"]],\"sequentialminus\":[[0,\"rgb(20,44,66)\"],[1,\"rgb(90,179,244)\"]]},\"colorway\":[\"#F8766D\",\"#A3A500\",\"#00BF7D\",\"#00B0F6\",\"#E76BF3\"],\"font\":{\"color\":\"rgb(51,51,51)\"},\"geo\":{\"bgcolor\":\"white\",\"lakecolor\":\"white\",\"landcolor\":\"rgb(237,237,237)\",\"showlakes\":true,\"showland\":true,\"subunitcolor\":\"white\"},\"hoverlabel\":{\"align\":\"left\"},\"hovermode\":\"closest\",\"paper_bgcolor\":\"white\",\"plot_bgcolor\":\"rgb(237,237,237)\",\"polar\":{\"angularaxis\":{\"gridcolor\":\"white\",\"linecolor\":\"white\",\"showgrid\":true,\"tickcolor\":\"rgb(51,51,51)\",\"ticks\":\"outside\"},\"bgcolor\":\"rgb(237,237,237)\",\"radialaxis\":{\"gridcolor\":\"white\",\"linecolor\":\"white\",\"showgrid\":true,\"tickcolor\":\"rgb(51,51,51)\",\"ticks\":\"outside\"}},\"scene\":{\"xaxis\":{\"backgroundcolor\":\"rgb(237,237,237)\",\"gridcolor\":\"white\",\"gridwidth\":2,\"linecolor\":\"white\",\"showbackground\":true,\"showgrid\":true,\"tickcolor\":\"rgb(51,51,51)\",\"ticks\":\"outside\",\"zerolinecolor\":\"white\"},\"yaxis\":{\"backgroundcolor\":\"rgb(237,237,237)\",\"gridcolor\":\"white\",\"gridwidth\":2,\"linecolor\":\"white\",\"showbackground\":true,\"showgrid\":true,\"tickcolor\":\"rgb(51,51,51)\",\"ticks\":\"outside\",\"zerolinecolor\":\"white\"},\"zaxis\":{\"backgroundcolor\":\"rgb(237,237,237)\",\"gridcolor\":\"white\",\"gridwidth\":2,\"linecolor\":\"white\",\"showbackground\":true,\"showgrid\":true,\"tickcolor\":\"rgb(51,51,51)\",\"ticks\":\"outside\",\"zerolinecolor\":\"white\"}},\"shapedefaults\":{\"fillcolor\":\"black\",\"line\":{\"width\":0},\"opacity\":0.3},\"ternary\":{\"aaxis\":{\"gridcolor\":\"white\",\"linecolor\":\"white\",\"showgrid\":true,\"tickcolor\":\"rgb(51,51,51)\",\"ticks\":\"outside\"},\"baxis\":{\"gridcolor\":\"white\",\"linecolor\":\"white\",\"showgrid\":true,\"tickcolor\":\"rgb(51,51,51)\",\"ticks\":\"outside\"},\"bgcolor\":\"rgb(237,237,237)\",\"caxis\":{\"gridcolor\":\"white\",\"linecolor\":\"white\",\"showgrid\":true,\"tickcolor\":\"rgb(51,51,51)\",\"ticks\":\"outside\"}},\"xaxis\":{\"automargin\":true,\"gridcolor\":\"white\",\"linecolor\":\"white\",\"showgrid\":true,\"tickcolor\":\"rgb(51,51,51)\",\"ticks\":\"outside\",\"title\":{\"standoff\":15},\"zerolinecolor\":\"white\"},\"yaxis\":{\"automargin\":true,\"gridcolor\":\"white\",\"linecolor\":\"white\",\"showgrid\":true,\"tickcolor\":\"rgb(51,51,51)\",\"ticks\":\"outside\",\"title\":{\"standoff\":15},\"zerolinecolor\":\"white\"}}},\"title\":{\"text\":\"Video Count per Topic\"},\"width\":800,\"xaxis\":{\"anchor\":\"y\",\"domain\":[0.0,1.0],\"title\":{\"text\":\"\"}},\"yaxis\":{\"anchor\":\"x\",\"categoryorder\":\"total ascending\",\"domain\":[0.0,1.0],\"title\":{\"text\":\"Topic\"}}},                        {\"responsive\": true}                    ).then(function(){\n",
       "                            \n",
       "var gd = document.getElementById('4a233a39-2f59-4449-aa04-c160b2477420');\n",
       "var x = new MutationObserver(function (mutations, observer) {{\n",
       "        var display = window.getComputedStyle(gd).display;\n",
       "        if (!display || display === 'none') {{\n",
       "            console.log([gd, 'removed!']);\n",
       "            Plotly.purge(gd);\n",
       "            observer.disconnect();\n",
       "        }}\n",
       "}});\n",
       "\n",
       "// Listen for the removal of the full notebook cells\n",
       "var notebookContainer = gd.closest('#notebook-container');\n",
       "if (notebookContainer) {{\n",
       "    x.observe(notebookContainer, {childList: true});\n",
       "}}\n",
       "\n",
       "// Listen for the clearing of the current output cell\n",
       "var outputEl = gd.closest('.output');\n",
       "if (outputEl) {{\n",
       "    x.observe(outputEl, {childList: true});\n",
       "}}\n",
       "\n",
       "                        })                };                });            </script>        </div>"
      ]
     },
     "metadata": {},
     "output_type": "display_data"
    }
   ],
   "source": [
    "# plt.figure(figsize=(8,6))\n",
    "# df['topic'].value_counts().plot(kind='barh', color='#d14949')\n",
    "# plt.gca().invert_yaxis()\n",
    "# plt.title(\"Video Count per Topic\")\n",
    "# plt.xlabel('Frequency', fontsize=12)\n",
    "# plt.ylabel('Topic', fontsize=12)\n",
    "# plt.grid(color='#948789', linestyle='-.', linewidth=0.1);\n",
    "\n",
    "# unusable code due to computer issues\n",
    "fig = px.bar(df['topic'].value_counts(), orientation='h')\n",
    "fig.update_layout(hovermode='closest', title_text=\"Video Count per Topic\", \\\n",
    "                  barmode='stack', yaxis={'categoryorder':'total ascending'}, width=800, height=400, template='ggplot2')\n",
    "fig.update_traces(marker_color='#fa8072')\n",
    "fig.update_layout(showlegend=False)\n",
    "fig.update_xaxes(title_text=\"\")\n",
    "fig.update_yaxes(title='Topic')\n",
    "fig.show()"
   ]
  },
  {
   "cell_type": "code",
   "execution_count": 68,
   "id": "3b4a7d04-e0e6-41c9-ad8c-fd28ef6104d6",
   "metadata": {},
   "outputs": [
    {
     "data": {
      "application/vnd.plotly.v1+json": {
       "config": {
        "plotlyServerURL": "https://plot.ly"
       },
       "data": [
        {
         "alignmentgroup": "True",
         "hovertemplate": "variable=likes<br>value=%{x}<br>topic=%{y}<extra></extra>",
         "legendgroup": "likes",
         "marker": {
          "color": "#fa8072",
          "pattern": {
           "shape": ""
          }
         },
         "name": "likes",
         "offsetgroup": "likes",
         "orientation": "h",
         "showlegend": true,
         "textposition": "auto",
         "type": "bar",
         "x": [
          68568.09302325582,
          107361.72727272728,
          208106.65,
          209145.9714285714,
          220294.7894736842,
          248436.8904109589,
          284820.34831460676,
          302272.404040404,
          376311.1509433962,
          536612.2352941176,
          585910.44921875,
          737556.03125,
          880641.3653846154,
          917338.2545454545,
          1564898.1692307692
         ],
         "xaxis": "x",
         "y": [
          "halloween",
          "clothes",
          "hair",
          "educational",
          "pregnancy",
          "videoReviews",
          "school",
          "food",
          "games",
          "christmas",
          "beautyCare",
          "minecraft",
          "challenges",
          "dance_music",
          "prizes"
         ],
         "yaxis": "y"
        }
       ],
       "layout": {
        "barmode": "stack",
        "height": 400,
        "hovermode": "closest",
        "legend": {
         "title": {
          "text": "variable"
         },
         "tracegroupgap": 0
        },
        "margin": {
         "t": 60
        },
        "showlegend": false,
        "template": {
         "data": {
          "bar": [
           {
            "error_x": {
             "color": "rgb(51,51,51)"
            },
            "error_y": {
             "color": "rgb(51,51,51)"
            },
            "marker": {
             "line": {
              "color": "rgb(237,237,237)",
              "width": 0.5
             },
             "pattern": {
              "fillmode": "overlay",
              "size": 10,
              "solidity": 0.2
             }
            },
            "type": "bar"
           }
          ],
          "barpolar": [
           {
            "marker": {
             "line": {
              "color": "rgb(237,237,237)",
              "width": 0.5
             },
             "pattern": {
              "fillmode": "overlay",
              "size": 10,
              "solidity": 0.2
             }
            },
            "type": "barpolar"
           }
          ],
          "carpet": [
           {
            "aaxis": {
             "endlinecolor": "rgb(51,51,51)",
             "gridcolor": "white",
             "linecolor": "white",
             "minorgridcolor": "white",
             "startlinecolor": "rgb(51,51,51)"
            },
            "baxis": {
             "endlinecolor": "rgb(51,51,51)",
             "gridcolor": "white",
             "linecolor": "white",
             "minorgridcolor": "white",
             "startlinecolor": "rgb(51,51,51)"
            },
            "type": "carpet"
           }
          ],
          "choropleth": [
           {
            "colorbar": {
             "outlinewidth": 0,
             "tickcolor": "rgb(237,237,237)",
             "ticklen": 6,
             "ticks": "inside"
            },
            "type": "choropleth"
           }
          ],
          "contour": [
           {
            "colorbar": {
             "outlinewidth": 0,
             "tickcolor": "rgb(237,237,237)",
             "ticklen": 6,
             "ticks": "inside"
            },
            "colorscale": [
             [
              0,
              "rgb(20,44,66)"
             ],
             [
              1,
              "rgb(90,179,244)"
             ]
            ],
            "type": "contour"
           }
          ],
          "contourcarpet": [
           {
            "colorbar": {
             "outlinewidth": 0,
             "tickcolor": "rgb(237,237,237)",
             "ticklen": 6,
             "ticks": "inside"
            },
            "type": "contourcarpet"
           }
          ],
          "heatmap": [
           {
            "colorbar": {
             "outlinewidth": 0,
             "tickcolor": "rgb(237,237,237)",
             "ticklen": 6,
             "ticks": "inside"
            },
            "colorscale": [
             [
              0,
              "rgb(20,44,66)"
             ],
             [
              1,
              "rgb(90,179,244)"
             ]
            ],
            "type": "heatmap"
           }
          ],
          "heatmapgl": [
           {
            "colorbar": {
             "outlinewidth": 0,
             "tickcolor": "rgb(237,237,237)",
             "ticklen": 6,
             "ticks": "inside"
            },
            "colorscale": [
             [
              0,
              "rgb(20,44,66)"
             ],
             [
              1,
              "rgb(90,179,244)"
             ]
            ],
            "type": "heatmapgl"
           }
          ],
          "histogram": [
           {
            "marker": {
             "pattern": {
              "fillmode": "overlay",
              "size": 10,
              "solidity": 0.2
             }
            },
            "type": "histogram"
           }
          ],
          "histogram2d": [
           {
            "colorbar": {
             "outlinewidth": 0,
             "tickcolor": "rgb(237,237,237)",
             "ticklen": 6,
             "ticks": "inside"
            },
            "colorscale": [
             [
              0,
              "rgb(20,44,66)"
             ],
             [
              1,
              "rgb(90,179,244)"
             ]
            ],
            "type": "histogram2d"
           }
          ],
          "histogram2dcontour": [
           {
            "colorbar": {
             "outlinewidth": 0,
             "tickcolor": "rgb(237,237,237)",
             "ticklen": 6,
             "ticks": "inside"
            },
            "colorscale": [
             [
              0,
              "rgb(20,44,66)"
             ],
             [
              1,
              "rgb(90,179,244)"
             ]
            ],
            "type": "histogram2dcontour"
           }
          ],
          "mesh3d": [
           {
            "colorbar": {
             "outlinewidth": 0,
             "tickcolor": "rgb(237,237,237)",
             "ticklen": 6,
             "ticks": "inside"
            },
            "type": "mesh3d"
           }
          ],
          "parcoords": [
           {
            "line": {
             "colorbar": {
              "outlinewidth": 0,
              "tickcolor": "rgb(237,237,237)",
              "ticklen": 6,
              "ticks": "inside"
             }
            },
            "type": "parcoords"
           }
          ],
          "pie": [
           {
            "automargin": true,
            "type": "pie"
           }
          ],
          "scatter": [
           {
            "marker": {
             "colorbar": {
              "outlinewidth": 0,
              "tickcolor": "rgb(237,237,237)",
              "ticklen": 6,
              "ticks": "inside"
             }
            },
            "type": "scatter"
           }
          ],
          "scatter3d": [
           {
            "line": {
             "colorbar": {
              "outlinewidth": 0,
              "tickcolor": "rgb(237,237,237)",
              "ticklen": 6,
              "ticks": "inside"
             }
            },
            "marker": {
             "colorbar": {
              "outlinewidth": 0,
              "tickcolor": "rgb(237,237,237)",
              "ticklen": 6,
              "ticks": "inside"
             }
            },
            "type": "scatter3d"
           }
          ],
          "scattercarpet": [
           {
            "marker": {
             "colorbar": {
              "outlinewidth": 0,
              "tickcolor": "rgb(237,237,237)",
              "ticklen": 6,
              "ticks": "inside"
             }
            },
            "type": "scattercarpet"
           }
          ],
          "scattergeo": [
           {
            "marker": {
             "colorbar": {
              "outlinewidth": 0,
              "tickcolor": "rgb(237,237,237)",
              "ticklen": 6,
              "ticks": "inside"
             }
            },
            "type": "scattergeo"
           }
          ],
          "scattergl": [
           {
            "marker": {
             "colorbar": {
              "outlinewidth": 0,
              "tickcolor": "rgb(237,237,237)",
              "ticklen": 6,
              "ticks": "inside"
             }
            },
            "type": "scattergl"
           }
          ],
          "scattermapbox": [
           {
            "marker": {
             "colorbar": {
              "outlinewidth": 0,
              "tickcolor": "rgb(237,237,237)",
              "ticklen": 6,
              "ticks": "inside"
             }
            },
            "type": "scattermapbox"
           }
          ],
          "scatterpolar": [
           {
            "marker": {
             "colorbar": {
              "outlinewidth": 0,
              "tickcolor": "rgb(237,237,237)",
              "ticklen": 6,
              "ticks": "inside"
             }
            },
            "type": "scatterpolar"
           }
          ],
          "scatterpolargl": [
           {
            "marker": {
             "colorbar": {
              "outlinewidth": 0,
              "tickcolor": "rgb(237,237,237)",
              "ticklen": 6,
              "ticks": "inside"
             }
            },
            "type": "scatterpolargl"
           }
          ],
          "scatterternary": [
           {
            "marker": {
             "colorbar": {
              "outlinewidth": 0,
              "tickcolor": "rgb(237,237,237)",
              "ticklen": 6,
              "ticks": "inside"
             }
            },
            "type": "scatterternary"
           }
          ],
          "surface": [
           {
            "colorbar": {
             "outlinewidth": 0,
             "tickcolor": "rgb(237,237,237)",
             "ticklen": 6,
             "ticks": "inside"
            },
            "colorscale": [
             [
              0,
              "rgb(20,44,66)"
             ],
             [
              1,
              "rgb(90,179,244)"
             ]
            ],
            "type": "surface"
           }
          ],
          "table": [
           {
            "cells": {
             "fill": {
              "color": "rgb(237,237,237)"
             },
             "line": {
              "color": "white"
             }
            },
            "header": {
             "fill": {
              "color": "rgb(217,217,217)"
             },
             "line": {
              "color": "white"
             }
            },
            "type": "table"
           }
          ]
         },
         "layout": {
          "annotationdefaults": {
           "arrowhead": 0,
           "arrowwidth": 1
          },
          "autotypenumbers": "strict",
          "coloraxis": {
           "colorbar": {
            "outlinewidth": 0,
            "tickcolor": "rgb(237,237,237)",
            "ticklen": 6,
            "ticks": "inside"
           }
          },
          "colorscale": {
           "sequential": [
            [
             0,
             "rgb(20,44,66)"
            ],
            [
             1,
             "rgb(90,179,244)"
            ]
           ],
           "sequentialminus": [
            [
             0,
             "rgb(20,44,66)"
            ],
            [
             1,
             "rgb(90,179,244)"
            ]
           ]
          },
          "colorway": [
           "#F8766D",
           "#A3A500",
           "#00BF7D",
           "#00B0F6",
           "#E76BF3"
          ],
          "font": {
           "color": "rgb(51,51,51)"
          },
          "geo": {
           "bgcolor": "white",
           "lakecolor": "white",
           "landcolor": "rgb(237,237,237)",
           "showlakes": true,
           "showland": true,
           "subunitcolor": "white"
          },
          "hoverlabel": {
           "align": "left"
          },
          "hovermode": "closest",
          "paper_bgcolor": "white",
          "plot_bgcolor": "rgb(237,237,237)",
          "polar": {
           "angularaxis": {
            "gridcolor": "white",
            "linecolor": "white",
            "showgrid": true,
            "tickcolor": "rgb(51,51,51)",
            "ticks": "outside"
           },
           "bgcolor": "rgb(237,237,237)",
           "radialaxis": {
            "gridcolor": "white",
            "linecolor": "white",
            "showgrid": true,
            "tickcolor": "rgb(51,51,51)",
            "ticks": "outside"
           }
          },
          "scene": {
           "xaxis": {
            "backgroundcolor": "rgb(237,237,237)",
            "gridcolor": "white",
            "gridwidth": 2,
            "linecolor": "white",
            "showbackground": true,
            "showgrid": true,
            "tickcolor": "rgb(51,51,51)",
            "ticks": "outside",
            "zerolinecolor": "white"
           },
           "yaxis": {
            "backgroundcolor": "rgb(237,237,237)",
            "gridcolor": "white",
            "gridwidth": 2,
            "linecolor": "white",
            "showbackground": true,
            "showgrid": true,
            "tickcolor": "rgb(51,51,51)",
            "ticks": "outside",
            "zerolinecolor": "white"
           },
           "zaxis": {
            "backgroundcolor": "rgb(237,237,237)",
            "gridcolor": "white",
            "gridwidth": 2,
            "linecolor": "white",
            "showbackground": true,
            "showgrid": true,
            "tickcolor": "rgb(51,51,51)",
            "ticks": "outside",
            "zerolinecolor": "white"
           }
          },
          "shapedefaults": {
           "fillcolor": "black",
           "line": {
            "width": 0
           },
           "opacity": 0.3
          },
          "ternary": {
           "aaxis": {
            "gridcolor": "white",
            "linecolor": "white",
            "showgrid": true,
            "tickcolor": "rgb(51,51,51)",
            "ticks": "outside"
           },
           "baxis": {
            "gridcolor": "white",
            "linecolor": "white",
            "showgrid": true,
            "tickcolor": "rgb(51,51,51)",
            "ticks": "outside"
           },
           "bgcolor": "rgb(237,237,237)",
           "caxis": {
            "gridcolor": "white",
            "linecolor": "white",
            "showgrid": true,
            "tickcolor": "rgb(51,51,51)",
            "ticks": "outside"
           }
          },
          "xaxis": {
           "automargin": true,
           "gridcolor": "white",
           "linecolor": "white",
           "showgrid": true,
           "tickcolor": "rgb(51,51,51)",
           "ticks": "outside",
           "title": {
            "standoff": 15
           },
           "zerolinecolor": "white"
          },
          "yaxis": {
           "automargin": true,
           "gridcolor": "white",
           "linecolor": "white",
           "showgrid": true,
           "tickcolor": "rgb(51,51,51)",
           "ticks": "outside",
           "title": {
            "standoff": 15
           },
           "zerolinecolor": "white"
          }
         }
        },
        "title": {
         "text": "Average 'likes' per Topic"
        },
        "width": 800,
        "xaxis": {
         "anchor": "y",
         "autorange": true,
         "domain": [
          0,
          1
         ],
         "range": [
          0,
          1647261.2307692308
         ],
         "title": {
          "text": ""
         },
         "type": "linear"
        },
        "yaxis": {
         "anchor": "x",
         "autorange": true,
         "categoryorder": "total ascending",
         "domain": [
          0,
          1
         ],
         "range": [
          -0.5,
          14.5
         ],
         "title": {
          "text": "Topic"
         },
         "type": "category"
        }
       }
      },
      "image/png": "[encoded data removed]",
      "text/html": [
       "<div>                            <div id=\"5340b5dd-1a56-4ea6-bf0d-b2acdcac8124\" class=\"plotly-graph-div\" style=\"height:400px; width:800px;\"></div>            <script type=\"text/javascript\">                require([\"plotly\"], function(Plotly) {                    window.PLOTLYENV=window.PLOTLYENV || {};                                    if (document.getElementById(\"5340b5dd-1a56-4ea6-bf0d-b2acdcac8124\")) {                    Plotly.newPlot(                        \"5340b5dd-1a56-4ea6-bf0d-b2acdcac8124\",                        [{\"alignmentgroup\":\"True\",\"hovertemplate\":\"variable=likes<br>value=%{x}<br>topic=%{y}<extra></extra>\",\"legendgroup\":\"likes\",\"marker\":{\"color\":\"#fa8072\",\"pattern\":{\"shape\":\"\"}},\"name\":\"likes\",\"offsetgroup\":\"likes\",\"orientation\":\"h\",\"showlegend\":true,\"textposition\":\"auto\",\"type\":\"bar\",\"x\":[68568.09302325582,107361.72727272728,208106.65,209145.9714285714,220294.7894736842,248436.8904109589,284820.34831460676,302272.404040404,376311.1509433962,536612.2352941176,585910.44921875,737556.03125,880641.3653846154,917338.2545454545,1564898.1692307692],\"xaxis\":\"x\",\"y\":[\"halloween\",\"clothes\",\"hair\",\"educational\",\"pregnancy\",\"videoReviews\",\"school\",\"food\",\"games\",\"christmas\",\"beautyCare\",\"minecraft\",\"challenges\",\"dance_music\",\"prizes\"],\"yaxis\":\"y\"}],                        {\"barmode\":\"stack\",\"height\":400,\"hovermode\":\"closest\",\"legend\":{\"title\":{\"text\":\"variable\"},\"tracegroupgap\":0},\"margin\":{\"t\":60},\"showlegend\":false,\"template\":{\"data\":{\"bar\":[{\"error_x\":{\"color\":\"rgb(51,51,51)\"},\"error_y\":{\"color\":\"rgb(51,51,51)\"},\"marker\":{\"line\":{\"color\":\"rgb(237,237,237)\",\"width\":0.5},\"pattern\":{\"fillmode\":\"overlay\",\"size\":10,\"solidity\":0.2}},\"type\":\"bar\"}],\"barpolar\":[{\"marker\":{\"line\":{\"color\":\"rgb(237,237,237)\",\"width\":0.5},\"pattern\":{\"fillmode\":\"overlay\",\"size\":10,\"solidity\":0.2}},\"type\":\"barpolar\"}],\"carpet\":[{\"aaxis\":{\"endlinecolor\":\"rgb(51,51,51)\",\"gridcolor\":\"white\",\"linecolor\":\"white\",\"minorgridcolor\":\"white\",\"startlinecolor\":\"rgb(51,51,51)\"},\"baxis\":{\"endlinecolor\":\"rgb(51,51,51)\",\"gridcolor\":\"white\",\"linecolor\":\"white\",\"minorgridcolor\":\"white\",\"startlinecolor\":\"rgb(51,51,51)\"},\"type\":\"carpet\"}],\"choropleth\":[{\"colorbar\":{\"outlinewidth\":0,\"tickcolor\":\"rgb(237,237,237)\",\"ticklen\":6,\"ticks\":\"inside\"},\"type\":\"choropleth\"}],\"contour\":[{\"colorbar\":{\"outlinewidth\":0,\"tickcolor\":\"rgb(237,237,237)\",\"ticklen\":6,\"ticks\":\"inside\"},\"colorscale\":[[0,\"rgb(20,44,66)\"],[1,\"rgb(90,179,244)\"]],\"type\":\"contour\"}],\"contourcarpet\":[{\"colorbar\":{\"outlinewidth\":0,\"tickcolor\":\"rgb(237,237,237)\",\"ticklen\":6,\"ticks\":\"inside\"},\"type\":\"contourcarpet\"}],\"heatmap\":[{\"colorbar\":{\"outlinewidth\":0,\"tickcolor\":\"rgb(237,237,237)\",\"ticklen\":6,\"ticks\":\"inside\"},\"colorscale\":[[0,\"rgb(20,44,66)\"],[1,\"rgb(90,179,244)\"]],\"type\":\"heatmap\"}],\"heatmapgl\":[{\"colorbar\":{\"outlinewidth\":0,\"tickcolor\":\"rgb(237,237,237)\",\"ticklen\":6,\"ticks\":\"inside\"},\"colorscale\":[[0,\"rgb(20,44,66)\"],[1,\"rgb(90,179,244)\"]],\"type\":\"heatmapgl\"}],\"histogram\":[{\"marker\":{\"pattern\":{\"fillmode\":\"overlay\",\"size\":10,\"solidity\":0.2}},\"type\":\"histogram\"}],\"histogram2d\":[{\"colorbar\":{\"outlinewidth\":0,\"tickcolor\":\"rgb(237,237,237)\",\"ticklen\":6,\"ticks\":\"inside\"},\"colorscale\":[[0,\"rgb(20,44,66)\"],[1,\"rgb(90,179,244)\"]],\"type\":\"histogram2d\"}],\"histogram2dcontour\":[{\"colorbar\":{\"outlinewidth\":0,\"tickcolor\":\"rgb(237,237,237)\",\"ticklen\":6,\"ticks\":\"inside\"},\"colorscale\":[[0,\"rgb(20,44,66)\"],[1,\"rgb(90,179,244)\"]],\"type\":\"histogram2dcontour\"}],\"mesh3d\":[{\"colorbar\":{\"outlinewidth\":0,\"tickcolor\":\"rgb(237,237,237)\",\"ticklen\":6,\"ticks\":\"inside\"},\"type\":\"mesh3d\"}],\"parcoords\":[{\"line\":{\"colorbar\":{\"outlinewidth\":0,\"tickcolor\":\"rgb(237,237,237)\",\"ticklen\":6,\"ticks\":\"inside\"}},\"type\":\"parcoords\"}],\"pie\":[{\"automargin\":true,\"type\":\"pie\"}],\"scatter\":[{\"marker\":{\"colorbar\":{\"outlinewidth\":0,\"tickcolor\":\"rgb(237,237,237)\",\"ticklen\":6,\"ticks\":\"inside\"}},\"type\":\"scatter\"}],\"scatter3d\":[{\"line\":{\"colorbar\":{\"outlinewidth\":0,\"tickcolor\":\"rgb(237,237,237)\",\"ticklen\":6,\"ticks\":\"inside\"}},\"marker\":{\"colorbar\":{\"outlinewidth\":0,\"tickcolor\":\"rgb(237,237,237)\",\"ticklen\":6,\"ticks\":\"inside\"}},\"type\":\"scatter3d\"}],\"scattercarpet\":[{\"marker\":{\"colorbar\":{\"outlinewidth\":0,\"tickcolor\":\"rgb(237,237,237)\",\"ticklen\":6,\"ticks\":\"inside\"}},\"type\":\"scattercarpet\"}],\"scattergeo\":[{\"marker\":{\"colorbar\":{\"outlinewidth\":0,\"tickcolor\":\"rgb(237,237,237)\",\"ticklen\":6,\"ticks\":\"inside\"}},\"type\":\"scattergeo\"}],\"scattergl\":[{\"marker\":{\"colorbar\":{\"outlinewidth\":0,\"tickcolor\":\"rgb(237,237,237)\",\"ticklen\":6,\"ticks\":\"inside\"}},\"type\":\"scattergl\"}],\"scattermapbox\":[{\"marker\":{\"colorbar\":{\"outlinewidth\":0,\"tickcolor\":\"rgb(237,237,237)\",\"ticklen\":6,\"ticks\":\"inside\"}},\"type\":\"scattermapbox\"}],\"scatterpolar\":[{\"marker\":{\"colorbar\":{\"outlinewidth\":0,\"tickcolor\":\"rgb(237,237,237)\",\"ticklen\":6,\"ticks\":\"inside\"}},\"type\":\"scatterpolar\"}],\"scatterpolargl\":[{\"marker\":{\"colorbar\":{\"outlinewidth\":0,\"tickcolor\":\"rgb(237,237,237)\",\"ticklen\":6,\"ticks\":\"inside\"}},\"type\":\"scatterpolargl\"}],\"scatterternary\":[{\"marker\":{\"colorbar\":{\"outlinewidth\":0,\"tickcolor\":\"rgb(237,237,237)\",\"ticklen\":6,\"ticks\":\"inside\"}},\"type\":\"scatterternary\"}],\"surface\":[{\"colorbar\":{\"outlinewidth\":0,\"tickcolor\":\"rgb(237,237,237)\",\"ticklen\":6,\"ticks\":\"inside\"},\"colorscale\":[[0,\"rgb(20,44,66)\"],[1,\"rgb(90,179,244)\"]],\"type\":\"surface\"}],\"table\":[{\"cells\":{\"fill\":{\"color\":\"rgb(237,237,237)\"},\"line\":{\"color\":\"white\"}},\"header\":{\"fill\":{\"color\":\"rgb(217,217,217)\"},\"line\":{\"color\":\"white\"}},\"type\":\"table\"}]},\"layout\":{\"annotationdefaults\":{\"arrowhead\":0,\"arrowwidth\":1},\"autotypenumbers\":\"strict\",\"coloraxis\":{\"colorbar\":{\"outlinewidth\":0,\"tickcolor\":\"rgb(237,237,237)\",\"ticklen\":6,\"ticks\":\"inside\"}},\"colorscale\":{\"sequential\":[[0,\"rgb(20,44,66)\"],[1,\"rgb(90,179,244)\"]],\"sequentialminus\":[[0,\"rgb(20,44,66)\"],[1,\"rgb(90,179,244)\"]]},\"colorway\":[\"#F8766D\",\"#A3A500\",\"#00BF7D\",\"#00B0F6\",\"#E76BF3\"],\"font\":{\"color\":\"rgb(51,51,51)\"},\"geo\":{\"bgcolor\":\"white\",\"lakecolor\":\"white\",\"landcolor\":\"rgb(237,237,237)\",\"showlakes\":true,\"showland\":true,\"subunitcolor\":\"white\"},\"hoverlabel\":{\"align\":\"left\"},\"hovermode\":\"closest\",\"paper_bgcolor\":\"white\",\"plot_bgcolor\":\"rgb(237,237,237)\",\"polar\":{\"angularaxis\":{\"gridcolor\":\"white\",\"linecolor\":\"white\",\"showgrid\":true,\"tickcolor\":\"rgb(51,51,51)\",\"ticks\":\"outside\"},\"bgcolor\":\"rgb(237,237,237)\",\"radialaxis\":{\"gridcolor\":\"white\",\"linecolor\":\"white\",\"showgrid\":true,\"tickcolor\":\"rgb(51,51,51)\",\"ticks\":\"outside\"}},\"scene\":{\"xaxis\":{\"backgroundcolor\":\"rgb(237,237,237)\",\"gridcolor\":\"white\",\"gridwidth\":2,\"linecolor\":\"white\",\"showbackground\":true,\"showgrid\":true,\"tickcolor\":\"rgb(51,51,51)\",\"ticks\":\"outside\",\"zerolinecolor\":\"white\"},\"yaxis\":{\"backgroundcolor\":\"rgb(237,237,237)\",\"gridcolor\":\"white\",\"gridwidth\":2,\"linecolor\":\"white\",\"showbackground\":true,\"showgrid\":true,\"tickcolor\":\"rgb(51,51,51)\",\"ticks\":\"outside\",\"zerolinecolor\":\"white\"},\"zaxis\":{\"backgroundcolor\":\"rgb(237,237,237)\",\"gridcolor\":\"white\",\"gridwidth\":2,\"linecolor\":\"white\",\"showbackground\":true,\"showgrid\":true,\"tickcolor\":\"rgb(51,51,51)\",\"ticks\":\"outside\",\"zerolinecolor\":\"white\"}},\"shapedefaults\":{\"fillcolor\":\"black\",\"line\":{\"width\":0},\"opacity\":0.3},\"ternary\":{\"aaxis\":{\"gridcolor\":\"white\",\"linecolor\":\"white\",\"showgrid\":true,\"tickcolor\":\"rgb(51,51,51)\",\"ticks\":\"outside\"},\"baxis\":{\"gridcolor\":\"white\",\"linecolor\":\"white\",\"showgrid\":true,\"tickcolor\":\"rgb(51,51,51)\",\"ticks\":\"outside\"},\"bgcolor\":\"rgb(237,237,237)\",\"caxis\":{\"gridcolor\":\"white\",\"linecolor\":\"white\",\"showgrid\":true,\"tickcolor\":\"rgb(51,51,51)\",\"ticks\":\"outside\"}},\"xaxis\":{\"automargin\":true,\"gridcolor\":\"white\",\"linecolor\":\"white\",\"showgrid\":true,\"tickcolor\":\"rgb(51,51,51)\",\"ticks\":\"outside\",\"title\":{\"standoff\":15},\"zerolinecolor\":\"white\"},\"yaxis\":{\"automargin\":true,\"gridcolor\":\"white\",\"linecolor\":\"white\",\"showgrid\":true,\"tickcolor\":\"rgb(51,51,51)\",\"ticks\":\"outside\",\"title\":{\"standoff\":15},\"zerolinecolor\":\"white\"}}},\"title\":{\"text\":\"Average 'likes' per Topic\"},\"width\":800,\"xaxis\":{\"anchor\":\"y\",\"domain\":[0.0,1.0],\"title\":{\"text\":\"\"}},\"yaxis\":{\"anchor\":\"x\",\"categoryorder\":\"total ascending\",\"domain\":[0.0,1.0],\"title\":{\"text\":\"Topic\"}}},                        {\"responsive\": true}                    ).then(function(){\n",
       "                            \n",
       "var gd = document.getElementById('5340b5dd-1a56-4ea6-bf0d-b2acdcac8124');\n",
       "var x = new MutationObserver(function (mutations, observer) {{\n",
       "        var display = window.getComputedStyle(gd).display;\n",
       "        if (!display || display === 'none') {{\n",
       "            console.log([gd, 'removed!']);\n",
       "            Plotly.purge(gd);\n",
       "            observer.disconnect();\n",
       "        }}\n",
       "}});\n",
       "\n",
       "// Listen for the removal of the full notebook cells\n",
       "var notebookContainer = gd.closest('#notebook-container');\n",
       "if (notebookContainer) {{\n",
       "    x.observe(notebookContainer, {childList: true});\n",
       "}}\n",
       "\n",
       "// Listen for the clearing of the current output cell\n",
       "var outputEl = gd.closest('.output');\n",
       "if (outputEl) {{\n",
       "    x.observe(outputEl, {childList: true});\n",
       "}}\n",
       "\n",
       "                        })                };                });            </script>        </div>"
      ]
     },
     "metadata": {},
     "output_type": "display_data"
    }
   ],
   "source": [
    "column = 'likes'\n",
    "# plt.figure(figsize=(8,6))\n",
    "# df.groupby('topic')[column].mean().sort_values().plot(kind='barh', color='#d14949')\n",
    "# plt.title(f\"Average '{column}' per Topic\")\n",
    "# plt.ylabel('Topic', fontsize=12)\n",
    "# plt.grid(color='#948789', linestyle='-.', linewidth=0.1);\n",
    "\n",
    "# unusable code due to computer issues\n",
    "fig = px.bar(df.groupby('topic')[column].mean().sort_values(), orientation='h')\n",
    "fig.update_layout(hovermode='closest', title_text=f\"Average '{column}' per Topic\", \\\n",
    "                  barmode='stack', yaxis={'categoryorder':'total ascending'}, width=800, height=400, template='ggplot2')\n",
    "fig.update_traces(marker_color='#fa8072')\n",
    "fig.update_layout(showlegend=False)\n",
    "fig.update_xaxes(title_text=\"\")\n",
    "fig.update_yaxes(title='Topic')\n",
    "fig.show()"
   ]
  },
  {
   "cell_type": "code",
   "execution_count": 69,
   "id": "44bd1fd7-439d-4b0b-811e-7b97e7de08ab",
   "metadata": {},
   "outputs": [
    {
     "data": {
      "application/vnd.plotly.v1+json": {
       "config": {
        "plotlyServerURL": "https://plot.ly"
       },
       "data": [
        {
         "alignmentgroup": "True",
         "hovertemplate": "variable=dislikes<br>value=%{x}<br>topic=%{y}<extra></extra>",
         "legendgroup": "dislikes",
         "marker": {
          "color": "#fa8072",
          "pattern": {
           "shape": ""
          }
         },
         "name": "dislikes",
         "offsetgroup": "dislikes",
         "orientation": "h",
         "showlegend": true,
         "textposition": "auto",
         "type": "bar",
         "x": [
          1791.939393939394,
          1849.139534883721,
          2437.8947368421054,
          4563.75,
          4599.438356164384,
          6352.865168539326,
          10938.22641509434,
          14020.363636363636,
          16412.115384615383,
          17491.453125,
          21513.64285714286,
          24819.672727272726,
          27856.36923076923,
          30487.59375,
          59663.686274509804
         ],
         "xaxis": "x",
         "y": [
          "clothes",
          "halloween",
          "pregnancy",
          "hair",
          "videoReviews",
          "school",
          "games",
          "food",
          "challenges",
          "beautyCare",
          "educational",
          "dance_music",
          "prizes",
          "minecraft",
          "christmas"
         ],
         "yaxis": "y"
        }
       ],
       "layout": {
        "barmode": "stack",
        "height": 400,
        "hovermode": "closest",
        "legend": {
         "title": {
          "text": "variable"
         },
         "tracegroupgap": 0
        },
        "margin": {
         "t": 60
        },
        "showlegend": false,
        "template": {
         "data": {
          "bar": [
           {
            "error_x": {
             "color": "rgb(51,51,51)"
            },
            "error_y": {
             "color": "rgb(51,51,51)"
            },
            "marker": {
             "line": {
              "color": "rgb(237,237,237)",
              "width": 0.5
             },
             "pattern": {
              "fillmode": "overlay",
              "size": 10,
              "solidity": 0.2
             }
            },
            "type": "bar"
           }
          ],
          "barpolar": [
           {
            "marker": {
             "line": {
              "color": "rgb(237,237,237)",
              "width": 0.5
             },
             "pattern": {
              "fillmode": "overlay",
              "size": 10,
              "solidity": 0.2
             }
            },
            "type": "barpolar"
           }
          ],
          "carpet": [
           {
            "aaxis": {
             "endlinecolor": "rgb(51,51,51)",
             "gridcolor": "white",
             "linecolor": "white",
             "minorgridcolor": "white",
             "startlinecolor": "rgb(51,51,51)"
            },
            "baxis": {
             "endlinecolor": "rgb(51,51,51)",
             "gridcolor": "white",
             "linecolor": "white",
             "minorgridcolor": "white",
             "startlinecolor": "rgb(51,51,51)"
            },
            "type": "carpet"
           }
          ],
          "choropleth": [
           {
            "colorbar": {
             "outlinewidth": 0,
             "tickcolor": "rgb(237,237,237)",
             "ticklen": 6,
             "ticks": "inside"
            },
            "type": "choropleth"
           }
          ],
          "contour": [
           {
            "colorbar": {
             "outlinewidth": 0,
             "tickcolor": "rgb(237,237,237)",
             "ticklen": 6,
             "ticks": "inside"
            },
            "colorscale": [
             [
              0,
              "rgb(20,44,66)"
             ],
             [
              1,
              "rgb(90,179,244)"
             ]
            ],
            "type": "contour"
           }
          ],
          "contourcarpet": [
           {
            "colorbar": {
             "outlinewidth": 0,
             "tickcolor": "rgb(237,237,237)",
             "ticklen": 6,
             "ticks": "inside"
            },
            "type": "contourcarpet"
           }
          ],
          "heatmap": [
           {
            "colorbar": {
             "outlinewidth": 0,
             "tickcolor": "rgb(237,237,237)",
             "ticklen": 6,
             "ticks": "inside"
            },
            "colorscale": [
             [
              0,
              "rgb(20,44,66)"
             ],
             [
              1,
              "rgb(90,179,244)"
             ]
            ],
            "type": "heatmap"
           }
          ],
          "heatmapgl": [
           {
            "colorbar": {
             "outlinewidth": 0,
             "tickcolor": "rgb(237,237,237)",
             "ticklen": 6,
             "ticks": "inside"
            },
            "colorscale": [
             [
              0,
              "rgb(20,44,66)"
             ],
             [
              1,
              "rgb(90,179,244)"
             ]
            ],
            "type": "heatmapgl"
           }
          ],
          "histogram": [
           {
            "marker": {
             "pattern": {
              "fillmode": "overlay",
              "size": 10,
              "solidity": 0.2
             }
            },
            "type": "histogram"
           }
          ],
          "histogram2d": [
           {
            "colorbar": {
             "outlinewidth": 0,
             "tickcolor": "rgb(237,237,237)",
             "ticklen": 6,
             "ticks": "inside"
            },
            "colorscale": [
             [
              0,
              "rgb(20,44,66)"
             ],
             [
              1,
              "rgb(90,179,244)"
             ]
            ],
            "type": "histogram2d"
           }
          ],
          "histogram2dcontour": [
           {
            "colorbar": {
             "outlinewidth": 0,
             "tickcolor": "rgb(237,237,237)",
             "ticklen": 6,
             "ticks": "inside"
            },
            "colorscale": [
             [
              0,
              "rgb(20,44,66)"
             ],
             [
              1,
              "rgb(90,179,244)"
             ]
            ],
            "type": "histogram2dcontour"
           }
          ],
          "mesh3d": [
           {
            "colorbar": {
             "outlinewidth": 0,
             "tickcolor": "rgb(237,237,237)",
             "ticklen": 6,
             "ticks": "inside"
            },
            "type": "mesh3d"
           }
          ],
          "parcoords": [
           {
            "line": {
             "colorbar": {
              "outlinewidth": 0,
              "tickcolor": "rgb(237,237,237)",
              "ticklen": 6,
              "ticks": "inside"
             }
            },
            "type": "parcoords"
           }
          ],
          "pie": [
           {
            "automargin": true,
            "type": "pie"
           }
          ],
          "scatter": [
           {
            "marker": {
             "colorbar": {
              "outlinewidth": 0,
              "tickcolor": "rgb(237,237,237)",
              "ticklen": 6,
              "ticks": "inside"
             }
            },
            "type": "scatter"
           }
          ],
          "scatter3d": [
           {
            "line": {
             "colorbar": {
              "outlinewidth": 0,
              "tickcolor": "rgb(237,237,237)",
              "ticklen": 6,
              "ticks": "inside"
             }
            },
            "marker": {
             "colorbar": {
              "outlinewidth": 0,
              "tickcolor": "rgb(237,237,237)",
              "ticklen": 6,
              "ticks": "inside"
             }
            },
            "type": "scatter3d"
           }
          ],
          "scattercarpet": [
           {
            "marker": {
             "colorbar": {
              "outlinewidth": 0,
              "tickcolor": "rgb(237,237,237)",
              "ticklen": 6,
              "ticks": "inside"
             }
            },
            "type": "scattercarpet"
           }
          ],
          "scattergeo": [
           {
            "marker": {
             "colorbar": {
              "outlinewidth": 0,
              "tickcolor": "rgb(237,237,237)",
              "ticklen": 6,
              "ticks": "inside"
             }
            },
            "type": "scattergeo"
           }
          ],
          "scattergl": [
           {
            "marker": {
             "colorbar": {
              "outlinewidth": 0,
              "tickcolor": "rgb(237,237,237)",
              "ticklen": 6,
              "ticks": "inside"
             }
            },
            "type": "scattergl"
           }
          ],
          "scattermapbox": [
           {
            "marker": {
             "colorbar": {
              "outlinewidth": 0,
              "tickcolor": "rgb(237,237,237)",
              "ticklen": 6,
              "ticks": "inside"
             }
            },
            "type": "scattermapbox"
           }
          ],
          "scatterpolar": [
           {
            "marker": {
             "colorbar": {
              "outlinewidth": 0,
              "tickcolor": "rgb(237,237,237)",
              "ticklen": 6,
              "ticks": "inside"
             }
            },
            "type": "scatterpolar"
           }
          ],
          "scatterpolargl": [
           {
            "marker": {
             "colorbar": {
              "outlinewidth": 0,
              "tickcolor": "rgb(237,237,237)",
              "ticklen": 6,
              "ticks": "inside"
             }
            },
            "type": "scatterpolargl"
           }
          ],
          "scatterternary": [
           {
            "marker": {
             "colorbar": {
              "outlinewidth": 0,
              "tickcolor": "rgb(237,237,237)",
              "ticklen": 6,
              "ticks": "inside"
             }
            },
            "type": "scatterternary"
           }
          ],
          "surface": [
           {
            "colorbar": {
             "outlinewidth": 0,
             "tickcolor": "rgb(237,237,237)",
             "ticklen": 6,
             "ticks": "inside"
            },
            "colorscale": [
             [
              0,
              "rgb(20,44,66)"
             ],
             [
              1,
              "rgb(90,179,244)"
             ]
            ],
            "type": "surface"
           }
          ],
          "table": [
           {
            "cells": {
             "fill": {
              "color": "rgb(237,237,237)"
             },
             "line": {
              "color": "white"
             }
            },
            "header": {
             "fill": {
              "color": "rgb(217,217,217)"
             },
             "line": {
              "color": "white"
             }
            },
            "type": "table"
           }
          ]
         },
         "layout": {
          "annotationdefaults": {
           "arrowhead": 0,
           "arrowwidth": 1
          },
          "autotypenumbers": "strict",
          "coloraxis": {
           "colorbar": {
            "outlinewidth": 0,
            "tickcolor": "rgb(237,237,237)",
            "ticklen": 6,
            "ticks": "inside"
           }
          },
          "colorscale": {
           "sequential": [
            [
             0,
             "rgb(20,44,66)"
            ],
            [
             1,
             "rgb(90,179,244)"
            ]
           ],
           "sequentialminus": [
            [
             0,
             "rgb(20,44,66)"
            ],
            [
             1,
             "rgb(90,179,244)"
            ]
           ]
          },
          "colorway": [
           "#F8766D",
           "#A3A500",
           "#00BF7D",
           "#00B0F6",
           "#E76BF3"
          ],
          "font": {
           "color": "rgb(51,51,51)"
          },
          "geo": {
           "bgcolor": "white",
           "lakecolor": "white",
           "landcolor": "rgb(237,237,237)",
           "showlakes": true,
           "showland": true,
           "subunitcolor": "white"
          },
          "hoverlabel": {
           "align": "left"
          },
          "hovermode": "closest",
          "paper_bgcolor": "white",
          "plot_bgcolor": "rgb(237,237,237)",
          "polar": {
           "angularaxis": {
            "gridcolor": "white",
            "linecolor": "white",
            "showgrid": true,
            "tickcolor": "rgb(51,51,51)",
            "ticks": "outside"
           },
           "bgcolor": "rgb(237,237,237)",
           "radialaxis": {
            "gridcolor": "white",
            "linecolor": "white",
            "showgrid": true,
            "tickcolor": "rgb(51,51,51)",
            "ticks": "outside"
           }
          },
          "scene": {
           "xaxis": {
            "backgroundcolor": "rgb(237,237,237)",
            "gridcolor": "white",
            "gridwidth": 2,
            "linecolor": "white",
            "showbackground": true,
            "showgrid": true,
            "tickcolor": "rgb(51,51,51)",
            "ticks": "outside",
            "zerolinecolor": "white"
           },
           "yaxis": {
            "backgroundcolor": "rgb(237,237,237)",
            "gridcolor": "white",
            "gridwidth": 2,
            "linecolor": "white",
            "showbackground": true,
            "showgrid": true,
            "tickcolor": "rgb(51,51,51)",
            "ticks": "outside",
            "zerolinecolor": "white"
           },
           "zaxis": {
            "backgroundcolor": "rgb(237,237,237)",
            "gridcolor": "white",
            "gridwidth": 2,
            "linecolor": "white",
            "showbackground": true,
            "showgrid": true,
            "tickcolor": "rgb(51,51,51)",
            "ticks": "outside",
            "zerolinecolor": "white"
           }
          },
          "shapedefaults": {
           "fillcolor": "black",
           "line": {
            "width": 0
           },
           "opacity": 0.3
          },
          "ternary": {
           "aaxis": {
            "gridcolor": "white",
            "linecolor": "white",
            "showgrid": true,
            "tickcolor": "rgb(51,51,51)",
            "ticks": "outside"
           },
           "baxis": {
            "gridcolor": "white",
            "linecolor": "white",
            "showgrid": true,
            "tickcolor": "rgb(51,51,51)",
            "ticks": "outside"
           },
           "bgcolor": "rgb(237,237,237)",
           "caxis": {
            "gridcolor": "white",
            "linecolor": "white",
            "showgrid": true,
            "tickcolor": "rgb(51,51,51)",
            "ticks": "outside"
           }
          },
          "xaxis": {
           "automargin": true,
           "gridcolor": "white",
           "linecolor": "white",
           "showgrid": true,
           "tickcolor": "rgb(51,51,51)",
           "ticks": "outside",
           "title": {
            "standoff": 15
           },
           "zerolinecolor": "white"
          },
          "yaxis": {
           "automargin": true,
           "gridcolor": "white",
           "linecolor": "white",
           "showgrid": true,
           "tickcolor": "rgb(51,51,51)",
           "ticks": "outside",
           "title": {
            "standoff": 15
           },
           "zerolinecolor": "white"
          }
         }
        },
        "title": {
         "text": "Average 'dislikes' per Topic"
        },
        "width": 800,
        "xaxis": {
         "anchor": "y",
         "autorange": true,
         "domain": [
          0,
          1
         ],
         "range": [
          0,
          62803.88028895769
         ],
         "title": {
          "text": ""
         },
         "type": "linear"
        },
        "yaxis": {
         "anchor": "x",
         "autorange": true,
         "categoryorder": "total ascending",
         "domain": [
          0,
          1
         ],
         "range": [
          -0.5,
          14.5
         ],
         "title": {
          "text": "Topic"
         },
         "type": "category"
        }
       }
      },
      "image/png": "[encoded data removed]",
      "text/html": [
       "<div>                            <div id=\"22d2eab4-c29b-4f16-99f3-81818b2fb33f\" class=\"plotly-graph-div\" style=\"height:400px; width:800px;\"></div>            <script type=\"text/javascript\">                require([\"plotly\"], function(Plotly) {                    window.PLOTLYENV=window.PLOTLYENV || {};                                    if (document.getElementById(\"22d2eab4-c29b-4f16-99f3-81818b2fb33f\")) {                    Plotly.newPlot(                        \"22d2eab4-c29b-4f16-99f3-81818b2fb33f\",                        [{\"alignmentgroup\":\"True\",\"hovertemplate\":\"variable=dislikes<br>value=%{x}<br>topic=%{y}<extra></extra>\",\"legendgroup\":\"dislikes\",\"marker\":{\"color\":\"#fa8072\",\"pattern\":{\"shape\":\"\"}},\"name\":\"dislikes\",\"offsetgroup\":\"dislikes\",\"orientation\":\"h\",\"showlegend\":true,\"textposition\":\"auto\",\"type\":\"bar\",\"x\":[1791.939393939394,1849.139534883721,2437.8947368421054,4563.75,4599.438356164384,6352.865168539326,10938.22641509434,14020.363636363636,16412.115384615383,17491.453125,21513.64285714286,24819.672727272726,27856.36923076923,30487.59375,59663.686274509804],\"xaxis\":\"x\",\"y\":[\"clothes\",\"halloween\",\"pregnancy\",\"hair\",\"videoReviews\",\"school\",\"games\",\"food\",\"challenges\",\"beautyCare\",\"educational\",\"dance_music\",\"prizes\",\"minecraft\",\"christmas\"],\"yaxis\":\"y\"}],                        {\"barmode\":\"stack\",\"height\":400,\"hovermode\":\"closest\",\"legend\":{\"title\":{\"text\":\"variable\"},\"tracegroupgap\":0},\"margin\":{\"t\":60},\"showlegend\":false,\"template\":{\"data\":{\"bar\":[{\"error_x\":{\"color\":\"rgb(51,51,51)\"},\"error_y\":{\"color\":\"rgb(51,51,51)\"},\"marker\":{\"line\":{\"color\":\"rgb(237,237,237)\",\"width\":0.5},\"pattern\":{\"fillmode\":\"overlay\",\"size\":10,\"solidity\":0.2}},\"type\":\"bar\"}],\"barpolar\":[{\"marker\":{\"line\":{\"color\":\"rgb(237,237,237)\",\"width\":0.5},\"pattern\":{\"fillmode\":\"overlay\",\"size\":10,\"solidity\":0.2}},\"type\":\"barpolar\"}],\"carpet\":[{\"aaxis\":{\"endlinecolor\":\"rgb(51,51,51)\",\"gridcolor\":\"white\",\"linecolor\":\"white\",\"minorgridcolor\":\"white\",\"startlinecolor\":\"rgb(51,51,51)\"},\"baxis\":{\"endlinecolor\":\"rgb(51,51,51)\",\"gridcolor\":\"white\",\"linecolor\":\"white\",\"minorgridcolor\":\"white\",\"startlinecolor\":\"rgb(51,51,51)\"},\"type\":\"carpet\"}],\"choropleth\":[{\"colorbar\":{\"outlinewidth\":0,\"tickcolor\":\"rgb(237,237,237)\",\"ticklen\":6,\"ticks\":\"inside\"},\"type\":\"choropleth\"}],\"contour\":[{\"colorbar\":{\"outlinewidth\":0,\"tickcolor\":\"rgb(237,237,237)\",\"ticklen\":6,\"ticks\":\"inside\"},\"colorscale\":[[0,\"rgb(20,44,66)\"],[1,\"rgb(90,179,244)\"]],\"type\":\"contour\"}],\"contourcarpet\":[{\"colorbar\":{\"outlinewidth\":0,\"tickcolor\":\"rgb(237,237,237)\",\"ticklen\":6,\"ticks\":\"inside\"},\"type\":\"contourcarpet\"}],\"heatmap\":[{\"colorbar\":{\"outlinewidth\":0,\"tickcolor\":\"rgb(237,237,237)\",\"ticklen\":6,\"ticks\":\"inside\"},\"colorscale\":[[0,\"rgb(20,44,66)\"],[1,\"rgb(90,179,244)\"]],\"type\":\"heatmap\"}],\"heatmapgl\":[{\"colorbar\":{\"outlinewidth\":0,\"tickcolor\":\"rgb(237,237,237)\",\"ticklen\":6,\"ticks\":\"inside\"},\"colorscale\":[[0,\"rgb(20,44,66)\"],[1,\"rgb(90,179,244)\"]],\"type\":\"heatmapgl\"}],\"histogram\":[{\"marker\":{\"pattern\":{\"fillmode\":\"overlay\",\"size\":10,\"solidity\":0.2}},\"type\":\"histogram\"}],\"histogram2d\":[{\"colorbar\":{\"outlinewidth\":0,\"tickcolor\":\"rgb(237,237,237)\",\"ticklen\":6,\"ticks\":\"inside\"},\"colorscale\":[[0,\"rgb(20,44,66)\"],[1,\"rgb(90,179,244)\"]],\"type\":\"histogram2d\"}],\"histogram2dcontour\":[{\"colorbar\":{\"outlinewidth\":0,\"tickcolor\":\"rgb(237,237,237)\",\"ticklen\":6,\"ticks\":\"inside\"},\"colorscale\":[[0,\"rgb(20,44,66)\"],[1,\"rgb(90,179,244)\"]],\"type\":\"histogram2dcontour\"}],\"mesh3d\":[{\"colorbar\":{\"outlinewidth\":0,\"tickcolor\":\"rgb(237,237,237)\",\"ticklen\":6,\"ticks\":\"inside\"},\"type\":\"mesh3d\"}],\"parcoords\":[{\"line\":{\"colorbar\":{\"outlinewidth\":0,\"tickcolor\":\"rgb(237,237,237)\",\"ticklen\":6,\"ticks\":\"inside\"}},\"type\":\"parcoords\"}],\"pie\":[{\"automargin\":true,\"type\":\"pie\"}],\"scatter\":[{\"marker\":{\"colorbar\":{\"outlinewidth\":0,\"tickcolor\":\"rgb(237,237,237)\",\"ticklen\":6,\"ticks\":\"inside\"}},\"type\":\"scatter\"}],\"scatter3d\":[{\"line\":{\"colorbar\":{\"outlinewidth\":0,\"tickcolor\":\"rgb(237,237,237)\",\"ticklen\":6,\"ticks\":\"inside\"}},\"marker\":{\"colorbar\":{\"outlinewidth\":0,\"tickcolor\":\"rgb(237,237,237)\",\"ticklen\":6,\"ticks\":\"inside\"}},\"type\":\"scatter3d\"}],\"scattercarpet\":[{\"marker\":{\"colorbar\":{\"outlinewidth\":0,\"tickcolor\":\"rgb(237,237,237)\",\"ticklen\":6,\"ticks\":\"inside\"}},\"type\":\"scattercarpet\"}],\"scattergeo\":[{\"marker\":{\"colorbar\":{\"outlinewidth\":0,\"tickcolor\":\"rgb(237,237,237)\",\"ticklen\":6,\"ticks\":\"inside\"}},\"type\":\"scattergeo\"}],\"scattergl\":[{\"marker\":{\"colorbar\":{\"outlinewidth\":0,\"tickcolor\":\"rgb(237,237,237)\",\"ticklen\":6,\"ticks\":\"inside\"}},\"type\":\"scattergl\"}],\"scattermapbox\":[{\"marker\":{\"colorbar\":{\"outlinewidth\":0,\"tickcolor\":\"rgb(237,237,237)\",\"ticklen\":6,\"ticks\":\"inside\"}},\"type\":\"scattermapbox\"}],\"scatterpolar\":[{\"marker\":{\"colorbar\":{\"outlinewidth\":0,\"tickcolor\":\"rgb(237,237,237)\",\"ticklen\":6,\"ticks\":\"inside\"}},\"type\":\"scatterpolar\"}],\"scatterpolargl\":[{\"marker\":{\"colorbar\":{\"outlinewidth\":0,\"tickcolor\":\"rgb(237,237,237)\",\"ticklen\":6,\"ticks\":\"inside\"}},\"type\":\"scatterpolargl\"}],\"scatterternary\":[{\"marker\":{\"colorbar\":{\"outlinewidth\":0,\"tickcolor\":\"rgb(237,237,237)\",\"ticklen\":6,\"ticks\":\"inside\"}},\"type\":\"scatterternary\"}],\"surface\":[{\"colorbar\":{\"outlinewidth\":0,\"tickcolor\":\"rgb(237,237,237)\",\"ticklen\":6,\"ticks\":\"inside\"},\"colorscale\":[[0,\"rgb(20,44,66)\"],[1,\"rgb(90,179,244)\"]],\"type\":\"surface\"}],\"table\":[{\"cells\":{\"fill\":{\"color\":\"rgb(237,237,237)\"},\"line\":{\"color\":\"white\"}},\"header\":{\"fill\":{\"color\":\"rgb(217,217,217)\"},\"line\":{\"color\":\"white\"}},\"type\":\"table\"}]},\"layout\":{\"annotationdefaults\":{\"arrowhead\":0,\"arrowwidth\":1},\"autotypenumbers\":\"strict\",\"coloraxis\":{\"colorbar\":{\"outlinewidth\":0,\"tickcolor\":\"rgb(237,237,237)\",\"ticklen\":6,\"ticks\":\"inside\"}},\"colorscale\":{\"sequential\":[[0,\"rgb(20,44,66)\"],[1,\"rgb(90,179,244)\"]],\"sequentialminus\":[[0,\"rgb(20,44,66)\"],[1,\"rgb(90,179,244)\"]]},\"colorway\":[\"#F8766D\",\"#A3A500\",\"#00BF7D\",\"#00B0F6\",\"#E76BF3\"],\"font\":{\"color\":\"rgb(51,51,51)\"},\"geo\":{\"bgcolor\":\"white\",\"lakecolor\":\"white\",\"landcolor\":\"rgb(237,237,237)\",\"showlakes\":true,\"showland\":true,\"subunitcolor\":\"white\"},\"hoverlabel\":{\"align\":\"left\"},\"hovermode\":\"closest\",\"paper_bgcolor\":\"white\",\"plot_bgcolor\":\"rgb(237,237,237)\",\"polar\":{\"angularaxis\":{\"gridcolor\":\"white\",\"linecolor\":\"white\",\"showgrid\":true,\"tickcolor\":\"rgb(51,51,51)\",\"ticks\":\"outside\"},\"bgcolor\":\"rgb(237,237,237)\",\"radialaxis\":{\"gridcolor\":\"white\",\"linecolor\":\"white\",\"showgrid\":true,\"tickcolor\":\"rgb(51,51,51)\",\"ticks\":\"outside\"}},\"scene\":{\"xaxis\":{\"backgroundcolor\":\"rgb(237,237,237)\",\"gridcolor\":\"white\",\"gridwidth\":2,\"linecolor\":\"white\",\"showbackground\":true,\"showgrid\":true,\"tickcolor\":\"rgb(51,51,51)\",\"ticks\":\"outside\",\"zerolinecolor\":\"white\"},\"yaxis\":{\"backgroundcolor\":\"rgb(237,237,237)\",\"gridcolor\":\"white\",\"gridwidth\":2,\"linecolor\":\"white\",\"showbackground\":true,\"showgrid\":true,\"tickcolor\":\"rgb(51,51,51)\",\"ticks\":\"outside\",\"zerolinecolor\":\"white\"},\"zaxis\":{\"backgroundcolor\":\"rgb(237,237,237)\",\"gridcolor\":\"white\",\"gridwidth\":2,\"linecolor\":\"white\",\"showbackground\":true,\"showgrid\":true,\"tickcolor\":\"rgb(51,51,51)\",\"ticks\":\"outside\",\"zerolinecolor\":\"white\"}},\"shapedefaults\":{\"fillcolor\":\"black\",\"line\":{\"width\":0},\"opacity\":0.3},\"ternary\":{\"aaxis\":{\"gridcolor\":\"white\",\"linecolor\":\"white\",\"showgrid\":true,\"tickcolor\":\"rgb(51,51,51)\",\"ticks\":\"outside\"},\"baxis\":{\"gridcolor\":\"white\",\"linecolor\":\"white\",\"showgrid\":true,\"tickcolor\":\"rgb(51,51,51)\",\"ticks\":\"outside\"},\"bgcolor\":\"rgb(237,237,237)\",\"caxis\":{\"gridcolor\":\"white\",\"linecolor\":\"white\",\"showgrid\":true,\"tickcolor\":\"rgb(51,51,51)\",\"ticks\":\"outside\"}},\"xaxis\":{\"automargin\":true,\"gridcolor\":\"white\",\"linecolor\":\"white\",\"showgrid\":true,\"tickcolor\":\"rgb(51,51,51)\",\"ticks\":\"outside\",\"title\":{\"standoff\":15},\"zerolinecolor\":\"white\"},\"yaxis\":{\"automargin\":true,\"gridcolor\":\"white\",\"linecolor\":\"white\",\"showgrid\":true,\"tickcolor\":\"rgb(51,51,51)\",\"ticks\":\"outside\",\"title\":{\"standoff\":15},\"zerolinecolor\":\"white\"}}},\"title\":{\"text\":\"Average 'dislikes' per Topic\"},\"width\":800,\"xaxis\":{\"anchor\":\"y\",\"domain\":[0.0,1.0],\"title\":{\"text\":\"\"}},\"yaxis\":{\"anchor\":\"x\",\"categoryorder\":\"total ascending\",\"domain\":[0.0,1.0],\"title\":{\"text\":\"Topic\"}}},                        {\"responsive\": true}                    ).then(function(){\n",
       "                            \n",
       "var gd = document.getElementById('22d2eab4-c29b-4f16-99f3-81818b2fb33f');\n",
       "var x = new MutationObserver(function (mutations, observer) {{\n",
       "        var display = window.getComputedStyle(gd).display;\n",
       "        if (!display || display === 'none') {{\n",
       "            console.log([gd, 'removed!']);\n",
       "            Plotly.purge(gd);\n",
       "            observer.disconnect();\n",
       "        }}\n",
       "}});\n",
       "\n",
       "// Listen for the removal of the full notebook cells\n",
       "var notebookContainer = gd.closest('#notebook-container');\n",
       "if (notebookContainer) {{\n",
       "    x.observe(notebookContainer, {childList: true});\n",
       "}}\n",
       "\n",
       "// Listen for the clearing of the current output cell\n",
       "var outputEl = gd.closest('.output');\n",
       "if (outputEl) {{\n",
       "    x.observe(outputEl, {childList: true});\n",
       "}}\n",
       "\n",
       "                        })                };                });            </script>        </div>"
      ]
     },
     "metadata": {},
     "output_type": "display_data"
    }
   ],
   "source": [
    "column = 'dislikes'\n",
    "# plt.figure(figsize=(8,6))\n",
    "# df.groupby('topic')[column].mean().sort_values().plot(kind='barh', color='#d14949')\n",
    "# plt.title(f\"Average '{column}' per Topic\")\n",
    "# plt.ylabel('Topic', fontsize=12)\n",
    "# plt.grid(color='#948789', linestyle='-.', linewidth=0.1);\n",
    "\n",
    "# unusable code due to computer issues\n",
    "fig = px.bar(df.groupby('topic')[column].mean().sort_values(), orientation='h')\n",
    "fig.update_layout(hovermode='closest', title_text=f\"Average '{column}' per Topic\", \\\n",
    "                  barmode='stack', yaxis={'categoryorder':'total ascending'}, width=800, height=400, template='ggplot2')\n",
    "fig.update_traces(marker_color='#fa8072')\n",
    "fig.update_layout(showlegend=False)\n",
    "fig.update_xaxes(title_text=\"\")\n",
    "fig.update_yaxes(title='Topic')\n",
    "fig.show()"
   ]
  },
  {
   "cell_type": "code",
   "execution_count": 70,
   "id": "69bdd941-4a7e-4fd2-a480-a37a3c10a160",
   "metadata": {},
   "outputs": [
    {
     "data": {
      "application/vnd.plotly.v1+json": {
       "config": {
        "plotlyServerURL": "https://plot.ly"
       },
       "data": [
        {
         "alignmentgroup": "True",
         "hovertemplate": "variable=views<br>value=%{x}<br>topic=%{y}<extra></extra>",
         "legendgroup": "views",
         "marker": {
          "color": "#fa8072",
          "pattern": {
           "shape": ""
          }
         },
         "name": "views",
         "offsetgroup": "views",
         "orientation": "h",
         "showlegend": true,
         "textposition": "auto",
         "type": "bar",
         "x": [
          3134716.7441860465,
          4249670.7272727275,
          6646925.315789473,
          8412941.65,
          10967428.90410959,
          12115273.314606741,
          17097007.72857143,
          18489570.717171717,
          24365947.16981132,
          25829948.115384616,
          27763335.72265625,
          44481328.552083336,
          45940132.69090909,
          50383591.35294118,
          55517151.984615386
         ],
         "xaxis": "x",
         "y": [
          "halloween",
          "clothes",
          "pregnancy",
          "hair",
          "videoReviews",
          "school",
          "educational",
          "food",
          "games",
          "challenges",
          "beautyCare",
          "minecraft",
          "dance_music",
          "christmas",
          "prizes"
         ],
         "yaxis": "y"
        }
       ],
       "layout": {
        "barmode": "stack",
        "height": 400,
        "hovermode": "closest",
        "legend": {
         "title": {
          "text": "variable"
         },
         "tracegroupgap": 0
        },
        "margin": {
         "t": 60
        },
        "showlegend": false,
        "template": {
         "data": {
          "bar": [
           {
            "error_x": {
             "color": "rgb(51,51,51)"
            },
            "error_y": {
             "color": "rgb(51,51,51)"
            },
            "marker": {
             "line": {
              "color": "rgb(237,237,237)",
              "width": 0.5
             },
             "pattern": {
              "fillmode": "overlay",
              "size": 10,
              "solidity": 0.2
             }
            },
            "type": "bar"
           }
          ],
          "barpolar": [
           {
            "marker": {
             "line": {
              "color": "rgb(237,237,237)",
              "width": 0.5
             },
             "pattern": {
              "fillmode": "overlay",
              "size": 10,
              "solidity": 0.2
             }
            },
            "type": "barpolar"
           }
          ],
          "carpet": [
           {
            "aaxis": {
             "endlinecolor": "rgb(51,51,51)",
             "gridcolor": "white",
             "linecolor": "white",
             "minorgridcolor": "white",
             "startlinecolor": "rgb(51,51,51)"
            },
            "baxis": {
             "endlinecolor": "rgb(51,51,51)",
             "gridcolor": "white",
             "linecolor": "white",
             "minorgridcolor": "white",
             "startlinecolor": "rgb(51,51,51)"
            },
            "type": "carpet"
           }
          ],
          "choropleth": [
           {
            "colorbar": {
             "outlinewidth": 0,
             "tickcolor": "rgb(237,237,237)",
             "ticklen": 6,
             "ticks": "inside"
            },
            "type": "choropleth"
           }
          ],
          "contour": [
           {
            "colorbar": {
             "outlinewidth": 0,
             "tickcolor": "rgb(237,237,237)",
             "ticklen": 6,
             "ticks": "inside"
            },
            "colorscale": [
             [
              0,
              "rgb(20,44,66)"
             ],
             [
              1,
              "rgb(90,179,244)"
             ]
            ],
            "type": "contour"
           }
          ],
          "contourcarpet": [
           {
            "colorbar": {
             "outlinewidth": 0,
             "tickcolor": "rgb(237,237,237)",
             "ticklen": 6,
             "ticks": "inside"
            },
            "type": "contourcarpet"
           }
          ],
          "heatmap": [
           {
            "colorbar": {
             "outlinewidth": 0,
             "tickcolor": "rgb(237,237,237)",
             "ticklen": 6,
             "ticks": "inside"
            },
            "colorscale": [
             [
              0,
              "rgb(20,44,66)"
             ],
             [
              1,
              "rgb(90,179,244)"
             ]
            ],
            "type": "heatmap"
           }
          ],
          "heatmapgl": [
           {
            "colorbar": {
             "outlinewidth": 0,
             "tickcolor": "rgb(237,237,237)",
             "ticklen": 6,
             "ticks": "inside"
            },
            "colorscale": [
             [
              0,
              "rgb(20,44,66)"
             ],
             [
              1,
              "rgb(90,179,244)"
             ]
            ],
            "type": "heatmapgl"
           }
          ],
          "histogram": [
           {
            "marker": {
             "pattern": {
              "fillmode": "overlay",
              "size": 10,
              "solidity": 0.2
             }
            },
            "type": "histogram"
           }
          ],
          "histogram2d": [
           {
            "colorbar": {
             "outlinewidth": 0,
             "tickcolor": "rgb(237,237,237)",
             "ticklen": 6,
             "ticks": "inside"
            },
            "colorscale": [
             [
              0,
              "rgb(20,44,66)"
             ],
             [
              1,
              "rgb(90,179,244)"
             ]
            ],
            "type": "histogram2d"
           }
          ],
          "histogram2dcontour": [
           {
            "colorbar": {
             "outlinewidth": 0,
             "tickcolor": "rgb(237,237,237)",
             "ticklen": 6,
             "ticks": "inside"
            },
            "colorscale": [
             [
              0,
              "rgb(20,44,66)"
             ],
             [
              1,
              "rgb(90,179,244)"
             ]
            ],
            "type": "histogram2dcontour"
           }
          ],
          "mesh3d": [
           {
            "colorbar": {
             "outlinewidth": 0,
             "tickcolor": "rgb(237,237,237)",
             "ticklen": 6,
             "ticks": "inside"
            },
            "type": "mesh3d"
           }
          ],
          "parcoords": [
           {
            "line": {
             "colorbar": {
              "outlinewidth": 0,
              "tickcolor": "rgb(237,237,237)",
              "ticklen": 6,
              "ticks": "inside"
             }
            },
            "type": "parcoords"
           }
          ],
          "pie": [
           {
            "automargin": true,
            "type": "pie"
           }
          ],
          "scatter": [
           {
            "marker": {
             "colorbar": {
              "outlinewidth": 0,
              "tickcolor": "rgb(237,237,237)",
              "ticklen": 6,
              "ticks": "inside"
             }
            },
            "type": "scatter"
           }
          ],
          "scatter3d": [
           {
            "line": {
             "colorbar": {
              "outlinewidth": 0,
              "tickcolor": "rgb(237,237,237)",
              "ticklen": 6,
              "ticks": "inside"
             }
            },
            "marker": {
             "colorbar": {
              "outlinewidth": 0,
              "tickcolor": "rgb(237,237,237)",
              "ticklen": 6,
              "ticks": "inside"
             }
            },
            "type": "scatter3d"
           }
          ],
          "scattercarpet": [
           {
            "marker": {
             "colorbar": {
              "outlinewidth": 0,
              "tickcolor": "rgb(237,237,237)",
              "ticklen": 6,
              "ticks": "inside"
             }
            },
            "type": "scattercarpet"
           }
          ],
          "scattergeo": [
           {
            "marker": {
             "colorbar": {
              "outlinewidth": 0,
              "tickcolor": "rgb(237,237,237)",
              "ticklen": 6,
              "ticks": "inside"
             }
            },
            "type": "scattergeo"
           }
          ],
          "scattergl": [
           {
            "marker": {
             "colorbar": {
              "outlinewidth": 0,
              "tickcolor": "rgb(237,237,237)",
              "ticklen": 6,
              "ticks": "inside"
             }
            },
            "type": "scattergl"
           }
          ],
          "scattermapbox": [
           {
            "marker": {
             "colorbar": {
              "outlinewidth": 0,
              "tickcolor": "rgb(237,237,237)",
              "ticklen": 6,
              "ticks": "inside"
             }
            },
            "type": "scattermapbox"
           }
          ],
          "scatterpolar": [
           {
            "marker": {
             "colorbar": {
              "outlinewidth": 0,
              "tickcolor": "rgb(237,237,237)",
              "ticklen": 6,
              "ticks": "inside"
             }
            },
            "type": "scatterpolar"
           }
          ],
          "scatterpolargl": [
           {
            "marker": {
             "colorbar": {
              "outlinewidth": 0,
              "tickcolor": "rgb(237,237,237)",
              "ticklen": 6,
              "ticks": "inside"
             }
            },
            "type": "scatterpolargl"
           }
          ],
          "scatterternary": [
           {
            "marker": {
             "colorbar": {
              "outlinewidth": 0,
              "tickcolor": "rgb(237,237,237)",
              "ticklen": 6,
              "ticks": "inside"
             }
            },
            "type": "scatterternary"
           }
          ],
          "surface": [
           {
            "colorbar": {
             "outlinewidth": 0,
             "tickcolor": "rgb(237,237,237)",
             "ticklen": 6,
             "ticks": "inside"
            },
            "colorscale": [
             [
              0,
              "rgb(20,44,66)"
             ],
             [
              1,
              "rgb(90,179,244)"
             ]
            ],
            "type": "surface"
           }
          ],
          "table": [
           {
            "cells": {
             "fill": {
              "color": "rgb(237,237,237)"
             },
             "line": {
              "color": "white"
             }
            },
            "header": {
             "fill": {
              "color": "rgb(217,217,217)"
             },
             "line": {
              "color": "white"
             }
            },
            "type": "table"
           }
          ]
         },
         "layout": {
          "annotationdefaults": {
           "arrowhead": 0,
           "arrowwidth": 1
          },
          "autotypenumbers": "strict",
          "coloraxis": {
           "colorbar": {
            "outlinewidth": 0,
            "tickcolor": "rgb(237,237,237)",
            "ticklen": 6,
            "ticks": "inside"
           }
          },
          "colorscale": {
           "sequential": [
            [
             0,
             "rgb(20,44,66)"
            ],
            [
             1,
             "rgb(90,179,244)"
            ]
           ],
           "sequentialminus": [
            [
             0,
             "rgb(20,44,66)"
            ],
            [
             1,
             "rgb(90,179,244)"
            ]
           ]
          },
          "colorway": [
           "#F8766D",
           "#A3A500",
           "#00BF7D",
           "#00B0F6",
           "#E76BF3"
          ],
          "font": {
           "color": "rgb(51,51,51)"
          },
          "geo": {
           "bgcolor": "white",
           "lakecolor": "white",
           "landcolor": "rgb(237,237,237)",
           "showlakes": true,
           "showland": true,
           "subunitcolor": "white"
          },
          "hoverlabel": {
           "align": "left"
          },
          "hovermode": "closest",
          "paper_bgcolor": "white",
          "plot_bgcolor": "rgb(237,237,237)",
          "polar": {
           "angularaxis": {
            "gridcolor": "white",
            "linecolor": "white",
            "showgrid": true,
            "tickcolor": "rgb(51,51,51)",
            "ticks": "outside"
           },
           "bgcolor": "rgb(237,237,237)",
           "radialaxis": {
            "gridcolor": "white",
            "linecolor": "white",
            "showgrid": true,
            "tickcolor": "rgb(51,51,51)",
            "ticks": "outside"
           }
          },
          "scene": {
           "xaxis": {
            "backgroundcolor": "rgb(237,237,237)",
            "gridcolor": "white",
            "gridwidth": 2,
            "linecolor": "white",
            "showbackground": true,
            "showgrid": true,
            "tickcolor": "rgb(51,51,51)",
            "ticks": "outside",
            "zerolinecolor": "white"
           },
           "yaxis": {
            "backgroundcolor": "rgb(237,237,237)",
            "gridcolor": "white",
            "gridwidth": 2,
            "linecolor": "white",
            "showbackground": true,
            "showgrid": true,
            "tickcolor": "rgb(51,51,51)",
            "ticks": "outside",
            "zerolinecolor": "white"
           },
           "zaxis": {
            "backgroundcolor": "rgb(237,237,237)",
            "gridcolor": "white",
            "gridwidth": 2,
            "linecolor": "white",
            "showbackground": true,
            "showgrid": true,
            "tickcolor": "rgb(51,51,51)",
            "ticks": "outside",
            "zerolinecolor": "white"
           }
          },
          "shapedefaults": {
           "fillcolor": "black",
           "line": {
            "width": 0
           },
           "opacity": 0.3
          },
          "ternary": {
           "aaxis": {
            "gridcolor": "white",
            "linecolor": "white",
            "showgrid": true,
            "tickcolor": "rgb(51,51,51)",
            "ticks": "outside"
           },
           "baxis": {
            "gridcolor": "white",
            "linecolor": "white",
            "showgrid": true,
            "tickcolor": "rgb(51,51,51)",
            "ticks": "outside"
           },
           "bgcolor": "rgb(237,237,237)",
           "caxis": {
            "gridcolor": "white",
            "linecolor": "white",
            "showgrid": true,
            "tickcolor": "rgb(51,51,51)",
            "ticks": "outside"
           }
          },
          "xaxis": {
           "automargin": true,
           "gridcolor": "white",
           "linecolor": "white",
           "showgrid": true,
           "tickcolor": "rgb(51,51,51)",
           "ticks": "outside",
           "title": {
            "standoff": 15
           },
           "zerolinecolor": "white"
          },
          "yaxis": {
           "automargin": true,
           "gridcolor": "white",
           "linecolor": "white",
           "showgrid": true,
           "tickcolor": "rgb(51,51,51)",
           "ticks": "outside",
           "title": {
            "standoff": 15
           },
           "zerolinecolor": "white"
          }
         }
        },
        "title": {
         "text": "Average 'views' per Topic"
        },
        "width": 800,
        "xaxis": {
         "anchor": "y",
         "autorange": true,
         "domain": [
          0,
          1
         ],
         "range": [
          0,
          58439107.35222672
         ],
         "title": {
          "text": ""
         },
         "type": "linear"
        },
        "yaxis": {
         "anchor": "x",
         "autorange": true,
         "categoryorder": "total ascending",
         "domain": [
          0,
          1
         ],
         "range": [
          -0.5,
          14.5
         ],
         "title": {
          "text": "Topic"
         },
         "type": "category"
        }
       }
      },
      "image/png": "[encoded data removed]",
      "text/html": [
       "<div>                            <div id=\"83a67e46-9d57-4749-a31b-f96c244c4c91\" class=\"plotly-graph-div\" style=\"height:400px; width:800px;\"></div>            <script type=\"text/javascript\">                require([\"plotly\"], function(Plotly) {                    window.PLOTLYENV=window.PLOTLYENV || {};                                    if (document.getElementById(\"83a67e46-9d57-4749-a31b-f96c244c4c91\")) {                    Plotly.newPlot(                        \"83a67e46-9d57-4749-a31b-f96c244c4c91\",                        [{\"alignmentgroup\":\"True\",\"hovertemplate\":\"variable=views<br>value=%{x}<br>topic=%{y}<extra></extra>\",\"legendgroup\":\"views\",\"marker\":{\"color\":\"#fa8072\",\"pattern\":{\"shape\":\"\"}},\"name\":\"views\",\"offsetgroup\":\"views\",\"orientation\":\"h\",\"showlegend\":true,\"textposition\":\"auto\",\"type\":\"bar\",\"x\":[3134716.7441860465,4249670.7272727275,6646925.315789473,8412941.65,10967428.90410959,12115273.314606741,17097007.72857143,18489570.717171717,24365947.16981132,25829948.115384616,27763335.72265625,44481328.552083336,45940132.69090909,50383591.35294118,55517151.984615386],\"xaxis\":\"x\",\"y\":[\"halloween\",\"clothes\",\"pregnancy\",\"hair\",\"videoReviews\",\"school\",\"educational\",\"food\",\"games\",\"challenges\",\"beautyCare\",\"minecraft\",\"dance_music\",\"christmas\",\"prizes\"],\"yaxis\":\"y\"}],                        {\"barmode\":\"stack\",\"height\":400,\"hovermode\":\"closest\",\"legend\":{\"title\":{\"text\":\"variable\"},\"tracegroupgap\":0},\"margin\":{\"t\":60},\"showlegend\":false,\"template\":{\"data\":{\"bar\":[{\"error_x\":{\"color\":\"rgb(51,51,51)\"},\"error_y\":{\"color\":\"rgb(51,51,51)\"},\"marker\":{\"line\":{\"color\":\"rgb(237,237,237)\",\"width\":0.5},\"pattern\":{\"fillmode\":\"overlay\",\"size\":10,\"solidity\":0.2}},\"type\":\"bar\"}],\"barpolar\":[{\"marker\":{\"line\":{\"color\":\"rgb(237,237,237)\",\"width\":0.5},\"pattern\":{\"fillmode\":\"overlay\",\"size\":10,\"solidity\":0.2}},\"type\":\"barpolar\"}],\"carpet\":[{\"aaxis\":{\"endlinecolor\":\"rgb(51,51,51)\",\"gridcolor\":\"white\",\"linecolor\":\"white\",\"minorgridcolor\":\"white\",\"startlinecolor\":\"rgb(51,51,51)\"},\"baxis\":{\"endlinecolor\":\"rgb(51,51,51)\",\"gridcolor\":\"white\",\"linecolor\":\"white\",\"minorgridcolor\":\"white\",\"startlinecolor\":\"rgb(51,51,51)\"},\"type\":\"carpet\"}],\"choropleth\":[{\"colorbar\":{\"outlinewidth\":0,\"tickcolor\":\"rgb(237,237,237)\",\"ticklen\":6,\"ticks\":\"inside\"},\"type\":\"choropleth\"}],\"contour\":[{\"colorbar\":{\"outlinewidth\":0,\"tickcolor\":\"rgb(237,237,237)\",\"ticklen\":6,\"ticks\":\"inside\"},\"colorscale\":[[0,\"rgb(20,44,66)\"],[1,\"rgb(90,179,244)\"]],\"type\":\"contour\"}],\"contourcarpet\":[{\"colorbar\":{\"outlinewidth\":0,\"tickcolor\":\"rgb(237,237,237)\",\"ticklen\":6,\"ticks\":\"inside\"},\"type\":\"contourcarpet\"}],\"heatmap\":[{\"colorbar\":{\"outlinewidth\":0,\"tickcolor\":\"rgb(237,237,237)\",\"ticklen\":6,\"ticks\":\"inside\"},\"colorscale\":[[0,\"rgb(20,44,66)\"],[1,\"rgb(90,179,244)\"]],\"type\":\"heatmap\"}],\"heatmapgl\":[{\"colorbar\":{\"outlinewidth\":0,\"tickcolor\":\"rgb(237,237,237)\",\"ticklen\":6,\"ticks\":\"inside\"},\"colorscale\":[[0,\"rgb(20,44,66)\"],[1,\"rgb(90,179,244)\"]],\"type\":\"heatmapgl\"}],\"histogram\":[{\"marker\":{\"pattern\":{\"fillmode\":\"overlay\",\"size\":10,\"solidity\":0.2}},\"type\":\"histogram\"}],\"histogram2d\":[{\"colorbar\":{\"outlinewidth\":0,\"tickcolor\":\"rgb(237,237,237)\",\"ticklen\":6,\"ticks\":\"inside\"},\"colorscale\":[[0,\"rgb(20,44,66)\"],[1,\"rgb(90,179,244)\"]],\"type\":\"histogram2d\"}],\"histogram2dcontour\":[{\"colorbar\":{\"outlinewidth\":0,\"tickcolor\":\"rgb(237,237,237)\",\"ticklen\":6,\"ticks\":\"inside\"},\"colorscale\":[[0,\"rgb(20,44,66)\"],[1,\"rgb(90,179,244)\"]],\"type\":\"histogram2dcontour\"}],\"mesh3d\":[{\"colorbar\":{\"outlinewidth\":0,\"tickcolor\":\"rgb(237,237,237)\",\"ticklen\":6,\"ticks\":\"inside\"},\"type\":\"mesh3d\"}],\"parcoords\":[{\"line\":{\"colorbar\":{\"outlinewidth\":0,\"tickcolor\":\"rgb(237,237,237)\",\"ticklen\":6,\"ticks\":\"inside\"}},\"type\":\"parcoords\"}],\"pie\":[{\"automargin\":true,\"type\":\"pie\"}],\"scatter\":[{\"marker\":{\"colorbar\":{\"outlinewidth\":0,\"tickcolor\":\"rgb(237,237,237)\",\"ticklen\":6,\"ticks\":\"inside\"}},\"type\":\"scatter\"}],\"scatter3d\":[{\"line\":{\"colorbar\":{\"outlinewidth\":0,\"tickcolor\":\"rgb(237,237,237)\",\"ticklen\":6,\"ticks\":\"inside\"}},\"marker\":{\"colorbar\":{\"outlinewidth\":0,\"tickcolor\":\"rgb(237,237,237)\",\"ticklen\":6,\"ticks\":\"inside\"}},\"type\":\"scatter3d\"}],\"scattercarpet\":[{\"marker\":{\"colorbar\":{\"outlinewidth\":0,\"tickcolor\":\"rgb(237,237,237)\",\"ticklen\":6,\"ticks\":\"inside\"}},\"type\":\"scattercarpet\"}],\"scattergeo\":[{\"marker\":{\"colorbar\":{\"outlinewidth\":0,\"tickcolor\":\"rgb(237,237,237)\",\"ticklen\":6,\"ticks\":\"inside\"}},\"type\":\"scattergeo\"}],\"scattergl\":[{\"marker\":{\"colorbar\":{\"outlinewidth\":0,\"tickcolor\":\"rgb(237,237,237)\",\"ticklen\":6,\"ticks\":\"inside\"}},\"type\":\"scattergl\"}],\"scattermapbox\":[{\"marker\":{\"colorbar\":{\"outlinewidth\":0,\"tickcolor\":\"rgb(237,237,237)\",\"ticklen\":6,\"ticks\":\"inside\"}},\"type\":\"scattermapbox\"}],\"scatterpolar\":[{\"marker\":{\"colorbar\":{\"outlinewidth\":0,\"tickcolor\":\"rgb(237,237,237)\",\"ticklen\":6,\"ticks\":\"inside\"}},\"type\":\"scatterpolar\"}],\"scatterpolargl\":[{\"marker\":{\"colorbar\":{\"outlinewidth\":0,\"tickcolor\":\"rgb(237,237,237)\",\"ticklen\":6,\"ticks\":\"inside\"}},\"type\":\"scatterpolargl\"}],\"scatterternary\":[{\"marker\":{\"colorbar\":{\"outlinewidth\":0,\"tickcolor\":\"rgb(237,237,237)\",\"ticklen\":6,\"ticks\":\"inside\"}},\"type\":\"scatterternary\"}],\"surface\":[{\"colorbar\":{\"outlinewidth\":0,\"tickcolor\":\"rgb(237,237,237)\",\"ticklen\":6,\"ticks\":\"inside\"},\"colorscale\":[[0,\"rgb(20,44,66)\"],[1,\"rgb(90,179,244)\"]],\"type\":\"surface\"}],\"table\":[{\"cells\":{\"fill\":{\"color\":\"rgb(237,237,237)\"},\"line\":{\"color\":\"white\"}},\"header\":{\"fill\":{\"color\":\"rgb(217,217,217)\"},\"line\":{\"color\":\"white\"}},\"type\":\"table\"}]},\"layout\":{\"annotationdefaults\":{\"arrowhead\":0,\"arrowwidth\":1},\"autotypenumbers\":\"strict\",\"coloraxis\":{\"colorbar\":{\"outlinewidth\":0,\"tickcolor\":\"rgb(237,237,237)\",\"ticklen\":6,\"ticks\":\"inside\"}},\"colorscale\":{\"sequential\":[[0,\"rgb(20,44,66)\"],[1,\"rgb(90,179,244)\"]],\"sequentialminus\":[[0,\"rgb(20,44,66)\"],[1,\"rgb(90,179,244)\"]]},\"colorway\":[\"#F8766D\",\"#A3A500\",\"#00BF7D\",\"#00B0F6\",\"#E76BF3\"],\"font\":{\"color\":\"rgb(51,51,51)\"},\"geo\":{\"bgcolor\":\"white\",\"lakecolor\":\"white\",\"landcolor\":\"rgb(237,237,237)\",\"showlakes\":true,\"showland\":true,\"subunitcolor\":\"white\"},\"hoverlabel\":{\"align\":\"left\"},\"hovermode\":\"closest\",\"paper_bgcolor\":\"white\",\"plot_bgcolor\":\"rgb(237,237,237)\",\"polar\":{\"angularaxis\":{\"gridcolor\":\"white\",\"linecolor\":\"white\",\"showgrid\":true,\"tickcolor\":\"rgb(51,51,51)\",\"ticks\":\"outside\"},\"bgcolor\":\"rgb(237,237,237)\",\"radialaxis\":{\"gridcolor\":\"white\",\"linecolor\":\"white\",\"showgrid\":true,\"tickcolor\":\"rgb(51,51,51)\",\"ticks\":\"outside\"}},\"scene\":{\"xaxis\":{\"backgroundcolor\":\"rgb(237,237,237)\",\"gridcolor\":\"white\",\"gridwidth\":2,\"linecolor\":\"white\",\"showbackground\":true,\"showgrid\":true,\"tickcolor\":\"rgb(51,51,51)\",\"ticks\":\"outside\",\"zerolinecolor\":\"white\"},\"yaxis\":{\"backgroundcolor\":\"rgb(237,237,237)\",\"gridcolor\":\"white\",\"gridwidth\":2,\"linecolor\":\"white\",\"showbackground\":true,\"showgrid\":true,\"tickcolor\":\"rgb(51,51,51)\",\"ticks\":\"outside\",\"zerolinecolor\":\"white\"},\"zaxis\":{\"backgroundcolor\":\"rgb(237,237,237)\",\"gridcolor\":\"white\",\"gridwidth\":2,\"linecolor\":\"white\",\"showbackground\":true,\"showgrid\":true,\"tickcolor\":\"rgb(51,51,51)\",\"ticks\":\"outside\",\"zerolinecolor\":\"white\"}},\"shapedefaults\":{\"fillcolor\":\"black\",\"line\":{\"width\":0},\"opacity\":0.3},\"ternary\":{\"aaxis\":{\"gridcolor\":\"white\",\"linecolor\":\"white\",\"showgrid\":true,\"tickcolor\":\"rgb(51,51,51)\",\"ticks\":\"outside\"},\"baxis\":{\"gridcolor\":\"white\",\"linecolor\":\"white\",\"showgrid\":true,\"tickcolor\":\"rgb(51,51,51)\",\"ticks\":\"outside\"},\"bgcolor\":\"rgb(237,237,237)\",\"caxis\":{\"gridcolor\":\"white\",\"linecolor\":\"white\",\"showgrid\":true,\"tickcolor\":\"rgb(51,51,51)\",\"ticks\":\"outside\"}},\"xaxis\":{\"automargin\":true,\"gridcolor\":\"white\",\"linecolor\":\"white\",\"showgrid\":true,\"tickcolor\":\"rgb(51,51,51)\",\"ticks\":\"outside\",\"title\":{\"standoff\":15},\"zerolinecolor\":\"white\"},\"yaxis\":{\"automargin\":true,\"gridcolor\":\"white\",\"linecolor\":\"white\",\"showgrid\":true,\"tickcolor\":\"rgb(51,51,51)\",\"ticks\":\"outside\",\"title\":{\"standoff\":15},\"zerolinecolor\":\"white\"}}},\"title\":{\"text\":\"Average 'views' per Topic\"},\"width\":800,\"xaxis\":{\"anchor\":\"y\",\"domain\":[0.0,1.0],\"title\":{\"text\":\"\"}},\"yaxis\":{\"anchor\":\"x\",\"categoryorder\":\"total ascending\",\"domain\":[0.0,1.0],\"title\":{\"text\":\"Topic\"}}},                        {\"responsive\": true}                    ).then(function(){\n",
       "                            \n",
       "var gd = document.getElementById('83a67e46-9d57-4749-a31b-f96c244c4c91');\n",
       "var x = new MutationObserver(function (mutations, observer) {{\n",
       "        var display = window.getComputedStyle(gd).display;\n",
       "        if (!display || display === 'none') {{\n",
       "            console.log([gd, 'removed!']);\n",
       "            Plotly.purge(gd);\n",
       "            observer.disconnect();\n",
       "        }}\n",
       "}});\n",
       "\n",
       "// Listen for the removal of the full notebook cells\n",
       "var notebookContainer = gd.closest('#notebook-container');\n",
       "if (notebookContainer) {{\n",
       "    x.observe(notebookContainer, {childList: true});\n",
       "}}\n",
       "\n",
       "// Listen for the clearing of the current output cell\n",
       "var outputEl = gd.closest('.output');\n",
       "if (outputEl) {{\n",
       "    x.observe(outputEl, {childList: true});\n",
       "}}\n",
       "\n",
       "                        })                };                });            </script>        </div>"
      ]
     },
     "metadata": {},
     "output_type": "display_data"
    }
   ],
   "source": [
    "column = 'views'\n",
    "# plt.figure(figsize=(8,6))\n",
    "# df.groupby('topic')[column].mean().sort_values().plot(kind='barh', color='#d14949')\n",
    "# plt.title(f\"Average '{column}' per Topic\")\n",
    "# plt.ylabel('Topic', fontsize=12)\n",
    "# plt.grid(color='#948789', linestyle='-.', linewidth=0.1);\n",
    "\n",
    "# unusable code due to computer issues\n",
    "fig = px.bar(df.groupby('topic')[column].mean().sort_values(), orientation='h')\n",
    "fig.update_layout(hovermode='closest', title_text=f\"Average '{column}' per Topic\", \\\n",
    "                  barmode='stack', yaxis={'categoryorder':'total ascending'}, width=800, height=400, template='ggplot2')\n",
    "fig.update_traces(marker_color='#fa8072')\n",
    "fig.update_layout(showlegend=False)\n",
    "fig.update_xaxes(title_text=\"\")\n",
    "fig.update_yaxes(title='Topic')\n",
    "fig.show()"
   ]
  },
  {
   "cell_type": "code",
   "execution_count": 71,
   "id": "1e99b69a-df5f-4540-bac0-b3806129324f",
   "metadata": {},
   "outputs": [
    {
     "data": {
      "application/vnd.plotly.v1+json": {
       "config": {
        "plotlyServerURL": "https://plot.ly"
       },
       "data": [
        {
         "alignmentgroup": "True",
         "hovertemplate": "variable=commentCount<br>value=%{x}<br>topic=%{y}<extra></extra>",
         "legendgroup": "commentCount",
         "marker": {
          "color": "#fa8072",
          "pattern": {
           "shape": ""
          }
         },
         "name": "commentCount",
         "offsetgroup": "commentCount",
         "orientation": "h",
         "showlegend": true,
         "textposition": "auto",
         "type": "bar",
         "x": [
          4293.545454545455,
          7010.604651162791,
          8445.114285714286,
          14494.525,
          14598.747474747475,
          15008.232876712329,
          17660.775280898877,
          18387.894736842107,
          24496.32075471698,
          47602.666666666664,
          68827.89230769231,
          74934.27083333333,
          75959.94140625,
          109950.07272727272,
          200964.53846153847
         ],
         "xaxis": "x",
         "y": [
          "clothes",
          "halloween",
          "educational",
          "hair",
          "food",
          "videoReviews",
          "school",
          "pregnancy",
          "games",
          "christmas",
          "prizes",
          "minecraft",
          "beautyCare",
          "dance_music",
          "challenges"
         ],
         "yaxis": "y"
        }
       ],
       "layout": {
        "barmode": "stack",
        "height": 400,
        "hovermode": "closest",
        "legend": {
         "title": {
          "text": "variable"
         },
         "tracegroupgap": 0
        },
        "margin": {
         "t": 60
        },
        "showlegend": false,
        "template": {
         "data": {
          "bar": [
           {
            "error_x": {
             "color": "rgb(51,51,51)"
            },
            "error_y": {
             "color": "rgb(51,51,51)"
            },
            "marker": {
             "line": {
              "color": "rgb(237,237,237)",
              "width": 0.5
             },
             "pattern": {
              "fillmode": "overlay",
              "size": 10,
              "solidity": 0.2
             }
            },
            "type": "bar"
           }
          ],
          "barpolar": [
           {
            "marker": {
             "line": {
              "color": "rgb(237,237,237)",
              "width": 0.5
             },
             "pattern": {
              "fillmode": "overlay",
              "size": 10,
              "solidity": 0.2
             }
            },
            "type": "barpolar"
           }
          ],
          "carpet": [
           {
            "aaxis": {
             "endlinecolor": "rgb(51,51,51)",
             "gridcolor": "white",
             "linecolor": "white",
             "minorgridcolor": "white",
             "startlinecolor": "rgb(51,51,51)"
            },
            "baxis": {
             "endlinecolor": "rgb(51,51,51)",
             "gridcolor": "white",
             "linecolor": "white",
             "minorgridcolor": "white",
             "startlinecolor": "rgb(51,51,51)"
            },
            "type": "carpet"
           }
          ],
          "choropleth": [
           {
            "colorbar": {
             "outlinewidth": 0,
             "tickcolor": "rgb(237,237,237)",
             "ticklen": 6,
             "ticks": "inside"
            },
            "type": "choropleth"
           }
          ],
          "contour": [
           {
            "colorbar": {
             "outlinewidth": 0,
             "tickcolor": "rgb(237,237,237)",
             "ticklen": 6,
             "ticks": "inside"
            },
            "colorscale": [
             [
              0,
              "rgb(20,44,66)"
             ],
             [
              1,
              "rgb(90,179,244)"
             ]
            ],
            "type": "contour"
           }
          ],
          "contourcarpet": [
           {
            "colorbar": {
             "outlinewidth": 0,
             "tickcolor": "rgb(237,237,237)",
             "ticklen": 6,
             "ticks": "inside"
            },
            "type": "contourcarpet"
           }
          ],
          "heatmap": [
           {
            "colorbar": {
             "outlinewidth": 0,
             "tickcolor": "rgb(237,237,237)",
             "ticklen": 6,
             "ticks": "inside"
            },
            "colorscale": [
             [
              0,
              "rgb(20,44,66)"
             ],
             [
              1,
              "rgb(90,179,244)"
             ]
            ],
            "type": "heatmap"
           }
          ],
          "heatmapgl": [
           {
            "colorbar": {
             "outlinewidth": 0,
             "tickcolor": "rgb(237,237,237)",
             "ticklen": 6,
             "ticks": "inside"
            },
            "colorscale": [
             [
              0,
              "rgb(20,44,66)"
             ],
             [
              1,
              "rgb(90,179,244)"
             ]
            ],
            "type": "heatmapgl"
           }
          ],
          "histogram": [
           {
            "marker": {
             "pattern": {
              "fillmode": "overlay",
              "size": 10,
              "solidity": 0.2
             }
            },
            "type": "histogram"
           }
          ],
          "histogram2d": [
           {
            "colorbar": {
             "outlinewidth": 0,
             "tickcolor": "rgb(237,237,237)",
             "ticklen": 6,
             "ticks": "inside"
            },
            "colorscale": [
             [
              0,
              "rgb(20,44,66)"
             ],
             [
              1,
              "rgb(90,179,244)"
             ]
            ],
            "type": "histogram2d"
           }
          ],
          "histogram2dcontour": [
           {
            "colorbar": {
             "outlinewidth": 0,
             "tickcolor": "rgb(237,237,237)",
             "ticklen": 6,
             "ticks": "inside"
            },
            "colorscale": [
             [
              0,
              "rgb(20,44,66)"
             ],
             [
              1,
              "rgb(90,179,244)"
             ]
            ],
            "type": "histogram2dcontour"
           }
          ],
          "mesh3d": [
           {
            "colorbar": {
             "outlinewidth": 0,
             "tickcolor": "rgb(237,237,237)",
             "ticklen": 6,
             "ticks": "inside"
            },
            "type": "mesh3d"
           }
          ],
          "parcoords": [
           {
            "line": {
             "colorbar": {
              "outlinewidth": 0,
              "tickcolor": "rgb(237,237,237)",
              "ticklen": 6,
              "ticks": "inside"
             }
            },
            "type": "parcoords"
           }
          ],
          "pie": [
           {
            "automargin": true,
            "type": "pie"
           }
          ],
          "scatter": [
           {
            "marker": {
             "colorbar": {
              "outlinewidth": 0,
              "tickcolor": "rgb(237,237,237)",
              "ticklen": 6,
              "ticks": "inside"
             }
            },
            "type": "scatter"
           }
          ],
          "scatter3d": [
           {
            "line": {
             "colorbar": {
              "outlinewidth": 0,
              "tickcolor": "rgb(237,237,237)",
              "ticklen": 6,
              "ticks": "inside"
             }
            },
            "marker": {
             "colorbar": {
              "outlinewidth": 0,
              "tickcolor": "rgb(237,237,237)",
              "ticklen": 6,
              "ticks": "inside"
             }
            },
            "type": "scatter3d"
           }
          ],
          "scattercarpet": [
           {
            "marker": {
             "colorbar": {
              "outlinewidth": 0,
              "tickcolor": "rgb(237,237,237)",
              "ticklen": 6,
              "ticks": "inside"
             }
            },
            "type": "scattercarpet"
           }
          ],
          "scattergeo": [
           {
            "marker": {
             "colorbar": {
              "outlinewidth": 0,
              "tickcolor": "rgb(237,237,237)",
              "ticklen": 6,
              "ticks": "inside"
             }
            },
            "type": "scattergeo"
           }
          ],
          "scattergl": [
           {
            "marker": {
             "colorbar": {
              "outlinewidth": 0,
              "tickcolor": "rgb(237,237,237)",
              "ticklen": 6,
              "ticks": "inside"
             }
            },
            "type": "scattergl"
           }
          ],
          "scattermapbox": [
           {
            "marker": {
             "colorbar": {
              "outlinewidth": 0,
              "tickcolor": "rgb(237,237,237)",
              "ticklen": 6,
              "ticks": "inside"
             }
            },
            "type": "scattermapbox"
           }
          ],
          "scatterpolar": [
           {
            "marker": {
             "colorbar": {
              "outlinewidth": 0,
              "tickcolor": "rgb(237,237,237)",
              "ticklen": 6,
              "ticks": "inside"
             }
            },
            "type": "scatterpolar"
           }
          ],
          "scatterpolargl": [
           {
            "marker": {
             "colorbar": {
              "outlinewidth": 0,
              "tickcolor": "rgb(237,237,237)",
              "ticklen": 6,
              "ticks": "inside"
             }
            },
            "type": "scatterpolargl"
           }
          ],
          "scatterternary": [
           {
            "marker": {
             "colorbar": {
              "outlinewidth": 0,
              "tickcolor": "rgb(237,237,237)",
              "ticklen": 6,
              "ticks": "inside"
             }
            },
            "type": "scatterternary"
           }
          ],
          "surface": [
           {
            "colorbar": {
             "outlinewidth": 0,
             "tickcolor": "rgb(237,237,237)",
             "ticklen": 6,
             "ticks": "inside"
            },
            "colorscale": [
             [
              0,
              "rgb(20,44,66)"
             ],
             [
              1,
              "rgb(90,179,244)"
             ]
            ],
            "type": "surface"
           }
          ],
          "table": [
           {
            "cells": {
             "fill": {
              "color": "rgb(237,237,237)"
             },
             "line": {
              "color": "white"
             }
            },
            "header": {
             "fill": {
              "color": "rgb(217,217,217)"
             },
             "line": {
              "color": "white"
             }
            },
            "type": "table"
           }
          ]
         },
         "layout": {
          "annotationdefaults": {
           "arrowhead": 0,
           "arrowwidth": 1
          },
          "autotypenumbers": "strict",
          "coloraxis": {
           "colorbar": {
            "outlinewidth": 0,
            "tickcolor": "rgb(237,237,237)",
            "ticklen": 6,
            "ticks": "inside"
           }
          },
          "colorscale": {
           "sequential": [
            [
             0,
             "rgb(20,44,66)"
            ],
            [
             1,
             "rgb(90,179,244)"
            ]
           ],
           "sequentialminus": [
            [
             0,
             "rgb(20,44,66)"
            ],
            [
             1,
             "rgb(90,179,244)"
            ]
           ]
          },
          "colorway": [
           "#F8766D",
           "#A3A500",
           "#00BF7D",
           "#00B0F6",
           "#E76BF3"
          ],
          "font": {
           "color": "rgb(51,51,51)"
          },
          "geo": {
           "bgcolor": "white",
           "lakecolor": "white",
           "landcolor": "rgb(237,237,237)",
           "showlakes": true,
           "showland": true,
           "subunitcolor": "white"
          },
          "hoverlabel": {
           "align": "left"
          },
          "hovermode": "closest",
          "paper_bgcolor": "white",
          "plot_bgcolor": "rgb(237,237,237)",
          "polar": {
           "angularaxis": {
            "gridcolor": "white",
            "linecolor": "white",
            "showgrid": true,
            "tickcolor": "rgb(51,51,51)",
            "ticks": "outside"
           },
           "bgcolor": "rgb(237,237,237)",
           "radialaxis": {
            "gridcolor": "white",
            "linecolor": "white",
            "showgrid": true,
            "tickcolor": "rgb(51,51,51)",
            "ticks": "outside"
           }
          },
          "scene": {
           "xaxis": {
            "backgroundcolor": "rgb(237,237,237)",
            "gridcolor": "white",
            "gridwidth": 2,
            "linecolor": "white",
            "showbackground": true,
            "showgrid": true,
            "tickcolor": "rgb(51,51,51)",
            "ticks": "outside",
            "zerolinecolor": "white"
           },
           "yaxis": {
            "backgroundcolor": "rgb(237,237,237)",
            "gridcolor": "white",
            "gridwidth": 2,
            "linecolor": "white",
            "showbackground": true,
            "showgrid": true,
            "tickcolor": "rgb(51,51,51)",
            "ticks": "outside",
            "zerolinecolor": "white"
           },
           "zaxis": {
            "backgroundcolor": "rgb(237,237,237)",
            "gridcolor": "white",
            "gridwidth": 2,
            "linecolor": "white",
            "showbackground": true,
            "showgrid": true,
            "tickcolor": "rgb(51,51,51)",
            "ticks": "outside",
            "zerolinecolor": "white"
           }
          },
          "shapedefaults": {
           "fillcolor": "black",
           "line": {
            "width": 0
           },
           "opacity": 0.3
          },
          "ternary": {
           "aaxis": {
            "gridcolor": "white",
            "linecolor": "white",
            "showgrid": true,
            "tickcolor": "rgb(51,51,51)",
            "ticks": "outside"
           },
           "baxis": {
            "gridcolor": "white",
            "linecolor": "white",
            "showgrid": true,
            "tickcolor": "rgb(51,51,51)",
            "ticks": "outside"
           },
           "bgcolor": "rgb(237,237,237)",
           "caxis": {
            "gridcolor": "white",
            "linecolor": "white",
            "showgrid": true,
            "tickcolor": "rgb(51,51,51)",
            "ticks": "outside"
           }
          },
          "xaxis": {
           "automargin": true,
           "gridcolor": "white",
           "linecolor": "white",
           "showgrid": true,
           "tickcolor": "rgb(51,51,51)",
           "ticks": "outside",
           "title": {
            "standoff": 15
           },
           "zerolinecolor": "white"
          },
          "yaxis": {
           "automargin": true,
           "gridcolor": "white",
           "linecolor": "white",
           "showgrid": true,
           "tickcolor": "rgb(51,51,51)",
           "ticks": "outside",
           "title": {
            "standoff": 15
           },
           "zerolinecolor": "white"
          }
         }
        },
        "title": {
         "text": "Average 'commentCount' per Topic"
        },
        "width": 800,
        "xaxis": {
         "anchor": "y",
         "autorange": true,
         "domain": [
          0,
          1
         ],
         "range": [
          0,
          211541.6194331984
         ],
         "title": {
          "text": ""
         },
         "type": "linear"
        },
        "yaxis": {
         "anchor": "x",
         "autorange": true,
         "categoryorder": "total ascending",
         "domain": [
          0,
          1
         ],
         "range": [
          -0.5,
          14.5
         ],
         "title": {
          "text": "Topic"
         },
         "type": "category"
        }
       }
      },
      "image/png": "[encoded data removed]",
      "text/html": [
       "<div>                            <div id=\"94323403-dbf8-4bc1-ac12-56084fb02b10\" class=\"plotly-graph-div\" style=\"height:400px; width:800px;\"></div>            <script type=\"text/javascript\">                require([\"plotly\"], function(Plotly) {                    window.PLOTLYENV=window.PLOTLYENV || {};                                    if (document.getElementById(\"94323403-dbf8-4bc1-ac12-56084fb02b10\")) {                    Plotly.newPlot(                        \"94323403-dbf8-4bc1-ac12-56084fb02b10\",                        [{\"alignmentgroup\":\"True\",\"hovertemplate\":\"variable=commentCount<br>value=%{x}<br>topic=%{y}<extra></extra>\",\"legendgroup\":\"commentCount\",\"marker\":{\"color\":\"#fa8072\",\"pattern\":{\"shape\":\"\"}},\"name\":\"commentCount\",\"offsetgroup\":\"commentCount\",\"orientation\":\"h\",\"showlegend\":true,\"textposition\":\"auto\",\"type\":\"bar\",\"x\":[4293.545454545455,7010.604651162791,8445.114285714286,14494.525,14598.747474747475,15008.232876712329,17660.775280898877,18387.894736842107,24496.32075471698,47602.666666666664,68827.89230769231,74934.27083333333,75959.94140625,109950.07272727272,200964.53846153847],\"xaxis\":\"x\",\"y\":[\"clothes\",\"halloween\",\"educational\",\"hair\",\"food\",\"videoReviews\",\"school\",\"pregnancy\",\"games\",\"christmas\",\"prizes\",\"minecraft\",\"beautyCare\",\"dance_music\",\"challenges\"],\"yaxis\":\"y\"}],                        {\"barmode\":\"stack\",\"height\":400,\"hovermode\":\"closest\",\"legend\":{\"title\":{\"text\":\"variable\"},\"tracegroupgap\":0},\"margin\":{\"t\":60},\"showlegend\":false,\"template\":{\"data\":{\"bar\":[{\"error_x\":{\"color\":\"rgb(51,51,51)\"},\"error_y\":{\"color\":\"rgb(51,51,51)\"},\"marker\":{\"line\":{\"color\":\"rgb(237,237,237)\",\"width\":0.5},\"pattern\":{\"fillmode\":\"overlay\",\"size\":10,\"solidity\":0.2}},\"type\":\"bar\"}],\"barpolar\":[{\"marker\":{\"line\":{\"color\":\"rgb(237,237,237)\",\"width\":0.5},\"pattern\":{\"fillmode\":\"overlay\",\"size\":10,\"solidity\":0.2}},\"type\":\"barpolar\"}],\"carpet\":[{\"aaxis\":{\"endlinecolor\":\"rgb(51,51,51)\",\"gridcolor\":\"white\",\"linecolor\":\"white\",\"minorgridcolor\":\"white\",\"startlinecolor\":\"rgb(51,51,51)\"},\"baxis\":{\"endlinecolor\":\"rgb(51,51,51)\",\"gridcolor\":\"white\",\"linecolor\":\"white\",\"minorgridcolor\":\"white\",\"startlinecolor\":\"rgb(51,51,51)\"},\"type\":\"carpet\"}],\"choropleth\":[{\"colorbar\":{\"outlinewidth\":0,\"tickcolor\":\"rgb(237,237,237)\",\"ticklen\":6,\"ticks\":\"inside\"},\"type\":\"choropleth\"}],\"contour\":[{\"colorbar\":{\"outlinewidth\":0,\"tickcolor\":\"rgb(237,237,237)\",\"ticklen\":6,\"ticks\":\"inside\"},\"colorscale\":[[0,\"rgb(20,44,66)\"],[1,\"rgb(90,179,244)\"]],\"type\":\"contour\"}],\"contourcarpet\":[{\"colorbar\":{\"outlinewidth\":0,\"tickcolor\":\"rgb(237,237,237)\",\"ticklen\":6,\"ticks\":\"inside\"},\"type\":\"contourcarpet\"}],\"heatmap\":[{\"colorbar\":{\"outlinewidth\":0,\"tickcolor\":\"rgb(237,237,237)\",\"ticklen\":6,\"ticks\":\"inside\"},\"colorscale\":[[0,\"rgb(20,44,66)\"],[1,\"rgb(90,179,244)\"]],\"type\":\"heatmap\"}],\"heatmapgl\":[{\"colorbar\":{\"outlinewidth\":0,\"tickcolor\":\"rgb(237,237,237)\",\"ticklen\":6,\"ticks\":\"inside\"},\"colorscale\":[[0,\"rgb(20,44,66)\"],[1,\"rgb(90,179,244)\"]],\"type\":\"heatmapgl\"}],\"histogram\":[{\"marker\":{\"pattern\":{\"fillmode\":\"overlay\",\"size\":10,\"solidity\":0.2}},\"type\":\"histogram\"}],\"histogram2d\":[{\"colorbar\":{\"outlinewidth\":0,\"tickcolor\":\"rgb(237,237,237)\",\"ticklen\":6,\"ticks\":\"inside\"},\"colorscale\":[[0,\"rgb(20,44,66)\"],[1,\"rgb(90,179,244)\"]],\"type\":\"histogram2d\"}],\"histogram2dcontour\":[{\"colorbar\":{\"outlinewidth\":0,\"tickcolor\":\"rgb(237,237,237)\",\"ticklen\":6,\"ticks\":\"inside\"},\"colorscale\":[[0,\"rgb(20,44,66)\"],[1,\"rgb(90,179,244)\"]],\"type\":\"histogram2dcontour\"}],\"mesh3d\":[{\"colorbar\":{\"outlinewidth\":0,\"tickcolor\":\"rgb(237,237,237)\",\"ticklen\":6,\"ticks\":\"inside\"},\"type\":\"mesh3d\"}],\"parcoords\":[{\"line\":{\"colorbar\":{\"outlinewidth\":0,\"tickcolor\":\"rgb(237,237,237)\",\"ticklen\":6,\"ticks\":\"inside\"}},\"type\":\"parcoords\"}],\"pie\":[{\"automargin\":true,\"type\":\"pie\"}],\"scatter\":[{\"marker\":{\"colorbar\":{\"outlinewidth\":0,\"tickcolor\":\"rgb(237,237,237)\",\"ticklen\":6,\"ticks\":\"inside\"}},\"type\":\"scatter\"}],\"scatter3d\":[{\"line\":{\"colorbar\":{\"outlinewidth\":0,\"tickcolor\":\"rgb(237,237,237)\",\"ticklen\":6,\"ticks\":\"inside\"}},\"marker\":{\"colorbar\":{\"outlinewidth\":0,\"tickcolor\":\"rgb(237,237,237)\",\"ticklen\":6,\"ticks\":\"inside\"}},\"type\":\"scatter3d\"}],\"scattercarpet\":[{\"marker\":{\"colorbar\":{\"outlinewidth\":0,\"tickcolor\":\"rgb(237,237,237)\",\"ticklen\":6,\"ticks\":\"inside\"}},\"type\":\"scattercarpet\"}],\"scattergeo\":[{\"marker\":{\"colorbar\":{\"outlinewidth\":0,\"tickcolor\":\"rgb(237,237,237)\",\"ticklen\":6,\"ticks\":\"inside\"}},\"type\":\"scattergeo\"}],\"scattergl\":[{\"marker\":{\"colorbar\":{\"outlinewidth\":0,\"tickcolor\":\"rgb(237,237,237)\",\"ticklen\":6,\"ticks\":\"inside\"}},\"type\":\"scattergl\"}],\"scattermapbox\":[{\"marker\":{\"colorbar\":{\"outlinewidth\":0,\"tickcolor\":\"rgb(237,237,237)\",\"ticklen\":6,\"ticks\":\"inside\"}},\"type\":\"scattermapbox\"}],\"scatterpolar\":[{\"marker\":{\"colorbar\":{\"outlinewidth\":0,\"tickcolor\":\"rgb(237,237,237)\",\"ticklen\":6,\"ticks\":\"inside\"}},\"type\":\"scatterpolar\"}],\"scatterpolargl\":[{\"marker\":{\"colorbar\":{\"outlinewidth\":0,\"tickcolor\":\"rgb(237,237,237)\",\"ticklen\":6,\"ticks\":\"inside\"}},\"type\":\"scatterpolargl\"}],\"scatterternary\":[{\"marker\":{\"colorbar\":{\"outlinewidth\":0,\"tickcolor\":\"rgb(237,237,237)\",\"ticklen\":6,\"ticks\":\"inside\"}},\"type\":\"scatterternary\"}],\"surface\":[{\"colorbar\":{\"outlinewidth\":0,\"tickcolor\":\"rgb(237,237,237)\",\"ticklen\":6,\"ticks\":\"inside\"},\"colorscale\":[[0,\"rgb(20,44,66)\"],[1,\"rgb(90,179,244)\"]],\"type\":\"surface\"}],\"table\":[{\"cells\":{\"fill\":{\"color\":\"rgb(237,237,237)\"},\"line\":{\"color\":\"white\"}},\"header\":{\"fill\":{\"color\":\"rgb(217,217,217)\"},\"line\":{\"color\":\"white\"}},\"type\":\"table\"}]},\"layout\":{\"annotationdefaults\":{\"arrowhead\":0,\"arrowwidth\":1},\"autotypenumbers\":\"strict\",\"coloraxis\":{\"colorbar\":{\"outlinewidth\":0,\"tickcolor\":\"rgb(237,237,237)\",\"ticklen\":6,\"ticks\":\"inside\"}},\"colorscale\":{\"sequential\":[[0,\"rgb(20,44,66)\"],[1,\"rgb(90,179,244)\"]],\"sequentialminus\":[[0,\"rgb(20,44,66)\"],[1,\"rgb(90,179,244)\"]]},\"colorway\":[\"#F8766D\",\"#A3A500\",\"#00BF7D\",\"#00B0F6\",\"#E76BF3\"],\"font\":{\"color\":\"rgb(51,51,51)\"},\"geo\":{\"bgcolor\":\"white\",\"lakecolor\":\"white\",\"landcolor\":\"rgb(237,237,237)\",\"showlakes\":true,\"showland\":true,\"subunitcolor\":\"white\"},\"hoverlabel\":{\"align\":\"left\"},\"hovermode\":\"closest\",\"paper_bgcolor\":\"white\",\"plot_bgcolor\":\"rgb(237,237,237)\",\"polar\":{\"angularaxis\":{\"gridcolor\":\"white\",\"linecolor\":\"white\",\"showgrid\":true,\"tickcolor\":\"rgb(51,51,51)\",\"ticks\":\"outside\"},\"bgcolor\":\"rgb(237,237,237)\",\"radialaxis\":{\"gridcolor\":\"white\",\"linecolor\":\"white\",\"showgrid\":true,\"tickcolor\":\"rgb(51,51,51)\",\"ticks\":\"outside\"}},\"scene\":{\"xaxis\":{\"backgroundcolor\":\"rgb(237,237,237)\",\"gridcolor\":\"white\",\"gridwidth\":2,\"linecolor\":\"white\",\"showbackground\":true,\"showgrid\":true,\"tickcolor\":\"rgb(51,51,51)\",\"ticks\":\"outside\",\"zerolinecolor\":\"white\"},\"yaxis\":{\"backgroundcolor\":\"rgb(237,237,237)\",\"gridcolor\":\"white\",\"gridwidth\":2,\"linecolor\":\"white\",\"showbackground\":true,\"showgrid\":true,\"tickcolor\":\"rgb(51,51,51)\",\"ticks\":\"outside\",\"zerolinecolor\":\"white\"},\"zaxis\":{\"backgroundcolor\":\"rgb(237,237,237)\",\"gridcolor\":\"white\",\"gridwidth\":2,\"linecolor\":\"white\",\"showbackground\":true,\"showgrid\":true,\"tickcolor\":\"rgb(51,51,51)\",\"ticks\":\"outside\",\"zerolinecolor\":\"white\"}},\"shapedefaults\":{\"fillcolor\":\"black\",\"line\":{\"width\":0},\"opacity\":0.3},\"ternary\":{\"aaxis\":{\"gridcolor\":\"white\",\"linecolor\":\"white\",\"showgrid\":true,\"tickcolor\":\"rgb(51,51,51)\",\"ticks\":\"outside\"},\"baxis\":{\"gridcolor\":\"white\",\"linecolor\":\"white\",\"showgrid\":true,\"tickcolor\":\"rgb(51,51,51)\",\"ticks\":\"outside\"},\"bgcolor\":\"rgb(237,237,237)\",\"caxis\":{\"gridcolor\":\"white\",\"linecolor\":\"white\",\"showgrid\":true,\"tickcolor\":\"rgb(51,51,51)\",\"ticks\":\"outside\"}},\"xaxis\":{\"automargin\":true,\"gridcolor\":\"white\",\"linecolor\":\"white\",\"showgrid\":true,\"tickcolor\":\"rgb(51,51,51)\",\"ticks\":\"outside\",\"title\":{\"standoff\":15},\"zerolinecolor\":\"white\"},\"yaxis\":{\"automargin\":true,\"gridcolor\":\"white\",\"linecolor\":\"white\",\"showgrid\":true,\"tickcolor\":\"rgb(51,51,51)\",\"ticks\":\"outside\",\"title\":{\"standoff\":15},\"zerolinecolor\":\"white\"}}},\"title\":{\"text\":\"Average 'commentCount' per Topic\"},\"width\":800,\"xaxis\":{\"anchor\":\"y\",\"domain\":[0.0,1.0],\"title\":{\"text\":\"\"}},\"yaxis\":{\"anchor\":\"x\",\"categoryorder\":\"total ascending\",\"domain\":[0.0,1.0],\"title\":{\"text\":\"Topic\"}}},                        {\"responsive\": true}                    ).then(function(){\n",
       "                            \n",
       "var gd = document.getElementById('94323403-dbf8-4bc1-ac12-56084fb02b10');\n",
       "var x = new MutationObserver(function (mutations, observer) {{\n",
       "        var display = window.getComputedStyle(gd).display;\n",
       "        if (!display || display === 'none') {{\n",
       "            console.log([gd, 'removed!']);\n",
       "            Plotly.purge(gd);\n",
       "            observer.disconnect();\n",
       "        }}\n",
       "}});\n",
       "\n",
       "// Listen for the removal of the full notebook cells\n",
       "var notebookContainer = gd.closest('#notebook-container');\n",
       "if (notebookContainer) {{\n",
       "    x.observe(notebookContainer, {childList: true});\n",
       "}}\n",
       "\n",
       "// Listen for the clearing of the current output cell\n",
       "var outputEl = gd.closest('.output');\n",
       "if (outputEl) {{\n",
       "    x.observe(outputEl, {childList: true});\n",
       "}}\n",
       "\n",
       "                        })                };                });            </script>        </div>"
      ]
     },
     "metadata": {},
     "output_type": "display_data"
    }
   ],
   "source": [
    "column = 'commentCount'\n",
    "# plt.figure(figsize=(8,6))\n",
    "# df.groupby('topic')[column].mean().sort_values().plot(kind='barh', color='#d14949')\n",
    "# plt.title(f\"Average '{column}' per Topic\")\n",
    "# plt.ylabel('Topic', fontsize=12)\n",
    "# plt.grid(color='#948789', linestyle='-.', linewidth=0.1);\n",
    "\n",
    "fig = px.bar(df.groupby('topic')[column].mean().sort_values(), orientation='h')\n",
    "fig.update_layout(hovermode='closest', title_text=f\"Average '{column}' per Topic\", \\\n",
    "                  barmode='stack', yaxis={'categoryorder':'total ascending'}, width=800, height=400, template='ggplot2')\n",
    "fig.update_traces(marker_color='#fa8072')\n",
    "fig.update_layout(showlegend=False)\n",
    "fig.update_xaxes(title_text=\"\")\n",
    "fig.update_yaxes(title='Topic')\n",
    "fig.show()"
   ]
  },
  {
   "cell_type": "code",
   "execution_count": 60,
   "id": "104beb91-ac88-405b-88a2-b428203190b2",
   "metadata": {},
   "outputs": [],
   "source": [
    "# create a like ratio to see what topic has the highest ratio\n",
    "df['likeRatio'] = df['likes'] / df['dislikes']\n",
    "likeRatio_df = df.replace([np.inf, -np.inf], np.nan, inplace=False)  # remove the inf values created by the column division"
   ]
  },
  {
   "cell_type": "code",
   "execution_count": 72,
   "id": "45c726d9-cec2-48ec-a12d-6d66ce463234",
   "metadata": {},
   "outputs": [
    {
     "data": {
      "application/vnd.plotly.v1+json": {
       "config": {
        "plotlyServerURL": "https://plot.ly"
       },
       "data": [
        {
         "alignmentgroup": "True",
         "hovertemplate": "variable=likeRatio<br>value=%{x}<br>topic=%{y}<extra></extra>",
         "legendgroup": "likeRatio",
         "marker": {
          "color": "#fa8072",
          "pattern": {
           "shape": ""
          }
         },
         "name": "likeRatio",
         "offsetgroup": "likeRatio",
         "orientation": "h",
         "showlegend": true,
         "textposition": "auto",
         "type": "bar",
         "x": [
          57.09327665974216,
          61.826857407140494,
          61.97115017455473,
          64.29889964736857,
          65.76148070657189,
          66.65199449251007,
          68.44140015933621,
          69.39523616401753,
          73.29358716014178,
          76.80291541859454,
          77.11818097864665,
          77.68543169124325,
          81.97333445584898,
          84.26066603413227,
          122.13546560389513
         ],
         "xaxis": "x",
         "y": [
          "christmas",
          "school",
          "videoReviews",
          "challenges",
          "minecraft",
          "hair",
          "prizes",
          "clothes",
          "dance_music",
          "halloween",
          "games",
          "food",
          "beautyCare",
          "educational",
          "pregnancy"
         ],
         "yaxis": "y"
        }
       ],
       "layout": {
        "barmode": "stack",
        "height": 400,
        "hovermode": "closest",
        "legend": {
         "title": {
          "text": "variable"
         },
         "tracegroupgap": 0
        },
        "margin": {
         "t": 60
        },
        "showlegend": false,
        "template": {
         "data": {
          "bar": [
           {
            "error_x": {
             "color": "rgb(51,51,51)"
            },
            "error_y": {
             "color": "rgb(51,51,51)"
            },
            "marker": {
             "line": {
              "color": "rgb(237,237,237)",
              "width": 0.5
             },
             "pattern": {
              "fillmode": "overlay",
              "size": 10,
              "solidity": 0.2
             }
            },
            "type": "bar"
           }
          ],
          "barpolar": [
           {
            "marker": {
             "line": {
              "color": "rgb(237,237,237)",
              "width": 0.5
             },
             "pattern": {
              "fillmode": "overlay",
              "size": 10,
              "solidity": 0.2
             }
            },
            "type": "barpolar"
           }
          ],
          "carpet": [
           {
            "aaxis": {
             "endlinecolor": "rgb(51,51,51)",
             "gridcolor": "white",
             "linecolor": "white",
             "minorgridcolor": "white",
             "startlinecolor": "rgb(51,51,51)"
            },
            "baxis": {
             "endlinecolor": "rgb(51,51,51)",
             "gridcolor": "white",
             "linecolor": "white",
             "minorgridcolor": "white",
             "startlinecolor": "rgb(51,51,51)"
            },
            "type": "carpet"
           }
          ],
          "choropleth": [
           {
            "colorbar": {
             "outlinewidth": 0,
             "tickcolor": "rgb(237,237,237)",
             "ticklen": 6,
             "ticks": "inside"
            },
            "type": "choropleth"
           }
          ],
          "contour": [
           {
            "colorbar": {
             "outlinewidth": 0,
             "tickcolor": "rgb(237,237,237)",
             "ticklen": 6,
             "ticks": "inside"
            },
            "colorscale": [
             [
              0,
              "rgb(20,44,66)"
             ],
             [
              1,
              "rgb(90,179,244)"
             ]
            ],
            "type": "contour"
           }
          ],
          "contourcarpet": [
           {
            "colorbar": {
             "outlinewidth": 0,
             "tickcolor": "rgb(237,237,237)",
             "ticklen": 6,
             "ticks": "inside"
            },
            "type": "contourcarpet"
           }
          ],
          "heatmap": [
           {
            "colorbar": {
             "outlinewidth": 0,
             "tickcolor": "rgb(237,237,237)",
             "ticklen": 6,
             "ticks": "inside"
            },
            "colorscale": [
             [
              0,
              "rgb(20,44,66)"
             ],
             [
              1,
              "rgb(90,179,244)"
             ]
            ],
            "type": "heatmap"
           }
          ],
          "heatmapgl": [
           {
            "colorbar": {
             "outlinewidth": 0,
             "tickcolor": "rgb(237,237,237)",
             "ticklen": 6,
             "ticks": "inside"
            },
            "colorscale": [
             [
              0,
              "rgb(20,44,66)"
             ],
             [
              1,
              "rgb(90,179,244)"
             ]
            ],
            "type": "heatmapgl"
           }
          ],
          "histogram": [
           {
            "marker": {
             "pattern": {
              "fillmode": "overlay",
              "size": 10,
              "solidity": 0.2
             }
            },
            "type": "histogram"
           }
          ],
          "histogram2d": [
           {
            "colorbar": {
             "outlinewidth": 0,
             "tickcolor": "rgb(237,237,237)",
             "ticklen": 6,
             "ticks": "inside"
            },
            "colorscale": [
             [
              0,
              "rgb(20,44,66)"
             ],
             [
              1,
              "rgb(90,179,244)"
             ]
            ],
            "type": "histogram2d"
           }
          ],
          "histogram2dcontour": [
           {
            "colorbar": {
             "outlinewidth": 0,
             "tickcolor": "rgb(237,237,237)",
             "ticklen": 6,
             "ticks": "inside"
            },
            "colorscale": [
             [
              0,
              "rgb(20,44,66)"
             ],
             [
              1,
              "rgb(90,179,244)"
             ]
            ],
            "type": "histogram2dcontour"
           }
          ],
          "mesh3d": [
           {
            "colorbar": {
             "outlinewidth": 0,
             "tickcolor": "rgb(237,237,237)",
             "ticklen": 6,
             "ticks": "inside"
            },
            "type": "mesh3d"
           }
          ],
          "parcoords": [
           {
            "line": {
             "colorbar": {
              "outlinewidth": 0,
              "tickcolor": "rgb(237,237,237)",
              "ticklen": 6,
              "ticks": "inside"
             }
            },
            "type": "parcoords"
           }
          ],
          "pie": [
           {
            "automargin": true,
            "type": "pie"
           }
          ],
          "scatter": [
           {
            "marker": {
             "colorbar": {
              "outlinewidth": 0,
              "tickcolor": "rgb(237,237,237)",
              "ticklen": 6,
              "ticks": "inside"
             }
            },
            "type": "scatter"
           }
          ],
          "scatter3d": [
           {
            "line": {
             "colorbar": {
              "outlinewidth": 0,
              "tickcolor": "rgb(237,237,237)",
              "ticklen": 6,
              "ticks": "inside"
             }
            },
            "marker": {
             "colorbar": {
              "outlinewidth": 0,
              "tickcolor": "rgb(237,237,237)",
              "ticklen": 6,
              "ticks": "inside"
             }
            },
            "type": "scatter3d"
           }
          ],
          "scattercarpet": [
           {
            "marker": {
             "colorbar": {
              "outlinewidth": 0,
              "tickcolor": "rgb(237,237,237)",
              "ticklen": 6,
              "ticks": "inside"
             }
            },
            "type": "scattercarpet"
           }
          ],
          "scattergeo": [
           {
            "marker": {
             "colorbar": {
              "outlinewidth": 0,
              "tickcolor": "rgb(237,237,237)",
              "ticklen": 6,
              "ticks": "inside"
             }
            },
            "type": "scattergeo"
           }
          ],
          "scattergl": [
           {
            "marker": {
             "colorbar": {
              "outlinewidth": 0,
              "tickcolor": "rgb(237,237,237)",
              "ticklen": 6,
              "ticks": "inside"
             }
            },
            "type": "scattergl"
           }
          ],
          "scattermapbox": [
           {
            "marker": {
             "colorbar": {
              "outlinewidth": 0,
              "tickcolor": "rgb(237,237,237)",
              "ticklen": 6,
              "ticks": "inside"
             }
            },
            "type": "scattermapbox"
           }
          ],
          "scatterpolar": [
           {
            "marker": {
             "colorbar": {
              "outlinewidth": 0,
              "tickcolor": "rgb(237,237,237)",
              "ticklen": 6,
              "ticks": "inside"
             }
            },
            "type": "scatterpolar"
           }
          ],
          "scatterpolargl": [
           {
            "marker": {
             "colorbar": {
              "outlinewidth": 0,
              "tickcolor": "rgb(237,237,237)",
              "ticklen": 6,
              "ticks": "inside"
             }
            },
            "type": "scatterpolargl"
           }
          ],
          "scatterternary": [
           {
            "marker": {
             "colorbar": {
              "outlinewidth": 0,
              "tickcolor": "rgb(237,237,237)",
              "ticklen": 6,
              "ticks": "inside"
             }
            },
            "type": "scatterternary"
           }
          ],
          "surface": [
           {
            "colorbar": {
             "outlinewidth": 0,
             "tickcolor": "rgb(237,237,237)",
             "ticklen": 6,
             "ticks": "inside"
            },
            "colorscale": [
             [
              0,
              "rgb(20,44,66)"
             ],
             [
              1,
              "rgb(90,179,244)"
             ]
            ],
            "type": "surface"
           }
          ],
          "table": [
           {
            "cells": {
             "fill": {
              "color": "rgb(237,237,237)"
             },
             "line": {
              "color": "white"
             }
            },
            "header": {
             "fill": {
              "color": "rgb(217,217,217)"
             },
             "line": {
              "color": "white"
             }
            },
            "type": "table"
           }
          ]
         },
         "layout": {
          "annotationdefaults": {
           "arrowhead": 0,
           "arrowwidth": 1
          },
          "autotypenumbers": "strict",
          "coloraxis": {
           "colorbar": {
            "outlinewidth": 0,
            "tickcolor": "rgb(237,237,237)",
            "ticklen": 6,
            "ticks": "inside"
           }
          },
          "colorscale": {
           "sequential": [
            [
             0,
             "rgb(20,44,66)"
            ],
            [
             1,
             "rgb(90,179,244)"
            ]
           ],
           "sequentialminus": [
            [
             0,
             "rgb(20,44,66)"
            ],
            [
             1,
             "rgb(90,179,244)"
            ]
           ]
          },
          "colorway": [
           "#F8766D",
           "#A3A500",
           "#00BF7D",
           "#00B0F6",
           "#E76BF3"
          ],
          "font": {
           "color": "rgb(51,51,51)"
          },
          "geo": {
           "bgcolor": "white",
           "lakecolor": "white",
           "landcolor": "rgb(237,237,237)",
           "showlakes": true,
           "showland": true,
           "subunitcolor": "white"
          },
          "hoverlabel": {
           "align": "left"
          },
          "hovermode": "closest",
          "paper_bgcolor": "white",
          "plot_bgcolor": "rgb(237,237,237)",
          "polar": {
           "angularaxis": {
            "gridcolor": "white",
            "linecolor": "white",
            "showgrid": true,
            "tickcolor": "rgb(51,51,51)",
            "ticks": "outside"
           },
           "bgcolor": "rgb(237,237,237)",
           "radialaxis": {
            "gridcolor": "white",
            "linecolor": "white",
            "showgrid": true,
            "tickcolor": "rgb(51,51,51)",
            "ticks": "outside"
           }
          },
          "scene": {
           "xaxis": {
            "backgroundcolor": "rgb(237,237,237)",
            "gridcolor": "white",
            "gridwidth": 2,
            "linecolor": "white",
            "showbackground": true,
            "showgrid": true,
            "tickcolor": "rgb(51,51,51)",
            "ticks": "outside",
            "zerolinecolor": "white"
           },
           "yaxis": {
            "backgroundcolor": "rgb(237,237,237)",
            "gridcolor": "white",
            "gridwidth": 2,
            "linecolor": "white",
            "showbackground": true,
            "showgrid": true,
            "tickcolor": "rgb(51,51,51)",
            "ticks": "outside",
            "zerolinecolor": "white"
           },
           "zaxis": {
            "backgroundcolor": "rgb(237,237,237)",
            "gridcolor": "white",
            "gridwidth": 2,
            "linecolor": "white",
            "showbackground": true,
            "showgrid": true,
            "tickcolor": "rgb(51,51,51)",
            "ticks": "outside",
            "zerolinecolor": "white"
           }
          },
          "shapedefaults": {
           "fillcolor": "black",
           "line": {
            "width": 0
           },
           "opacity": 0.3
          },
          "ternary": {
           "aaxis": {
            "gridcolor": "white",
            "linecolor": "white",
            "showgrid": true,
            "tickcolor": "rgb(51,51,51)",
            "ticks": "outside"
           },
           "baxis": {
            "gridcolor": "white",
            "linecolor": "white",
            "showgrid": true,
            "tickcolor": "rgb(51,51,51)",
            "ticks": "outside"
           },
           "bgcolor": "rgb(237,237,237)",
           "caxis": {
            "gridcolor": "white",
            "linecolor": "white",
            "showgrid": true,
            "tickcolor": "rgb(51,51,51)",
            "ticks": "outside"
           }
          },
          "xaxis": {
           "automargin": true,
           "gridcolor": "white",
           "linecolor": "white",
           "showgrid": true,
           "tickcolor": "rgb(51,51,51)",
           "ticks": "outside",
           "title": {
            "standoff": 15
           },
           "zerolinecolor": "white"
          },
          "yaxis": {
           "automargin": true,
           "gridcolor": "white",
           "linecolor": "white",
           "showgrid": true,
           "tickcolor": "rgb(51,51,51)",
           "ticks": "outside",
           "title": {
            "standoff": 15
           },
           "zerolinecolor": "white"
          }
         }
        },
        "title": {
         "text": "Average 'likeRatio' per Topic"
        },
        "width": 800,
        "xaxis": {
         "anchor": "y",
         "autorange": true,
         "domain": [
          0,
          1
         ],
         "range": [
          0,
          128.56364800410014
         ],
         "title": {
          "text": ""
         },
         "type": "linear"
        },
        "yaxis": {
         "anchor": "x",
         "autorange": true,
         "categoryorder": "total ascending",
         "domain": [
          0,
          1
         ],
         "range": [
          -0.5,
          14.5
         ],
         "title": {
          "text": "Topic"
         },
         "type": "category"
        }
       }
      },
      "image/png": "[encoded data removed]",
      "text/html": [
       "<div>                            <div id=\"8f818f9d-87fd-4a61-b2cb-a996d41ff761\" class=\"plotly-graph-div\" style=\"height:400px; width:800px;\"></div>            <script type=\"text/javascript\">                require([\"plotly\"], function(Plotly) {                    window.PLOTLYENV=window.PLOTLYENV || {};                                    if (document.getElementById(\"8f818f9d-87fd-4a61-b2cb-a996d41ff761\")) {                    Plotly.newPlot(                        \"8f818f9d-87fd-4a61-b2cb-a996d41ff761\",                        [{\"alignmentgroup\":\"True\",\"hovertemplate\":\"variable=likeRatio<br>value=%{x}<br>topic=%{y}<extra></extra>\",\"legendgroup\":\"likeRatio\",\"marker\":{\"color\":\"#fa8072\",\"pattern\":{\"shape\":\"\"}},\"name\":\"likeRatio\",\"offsetgroup\":\"likeRatio\",\"orientation\":\"h\",\"showlegend\":true,\"textposition\":\"auto\",\"type\":\"bar\",\"x\":[57.09327665974216,61.826857407140494,61.97115017455473,64.29889964736857,65.76148070657189,66.65199449251007,68.44140015933621,69.39523616401753,73.29358716014178,76.80291541859454,77.11818097864665,77.68543169124325,81.97333445584898,84.26066603413227,122.13546560389513],\"xaxis\":\"x\",\"y\":[\"christmas\",\"school\",\"videoReviews\",\"challenges\",\"minecraft\",\"hair\",\"prizes\",\"clothes\",\"dance_music\",\"halloween\",\"games\",\"food\",\"beautyCare\",\"educational\",\"pregnancy\"],\"yaxis\":\"y\"}],                        {\"barmode\":\"stack\",\"height\":400,\"hovermode\":\"closest\",\"legend\":{\"title\":{\"text\":\"variable\"},\"tracegroupgap\":0},\"margin\":{\"t\":60},\"showlegend\":false,\"template\":{\"data\":{\"bar\":[{\"error_x\":{\"color\":\"rgb(51,51,51)\"},\"error_y\":{\"color\":\"rgb(51,51,51)\"},\"marker\":{\"line\":{\"color\":\"rgb(237,237,237)\",\"width\":0.5},\"pattern\":{\"fillmode\":\"overlay\",\"size\":10,\"solidity\":0.2}},\"type\":\"bar\"}],\"barpolar\":[{\"marker\":{\"line\":{\"color\":\"rgb(237,237,237)\",\"width\":0.5},\"pattern\":{\"fillmode\":\"overlay\",\"size\":10,\"solidity\":0.2}},\"type\":\"barpolar\"}],\"carpet\":[{\"aaxis\":{\"endlinecolor\":\"rgb(51,51,51)\",\"gridcolor\":\"white\",\"linecolor\":\"white\",\"minorgridcolor\":\"white\",\"startlinecolor\":\"rgb(51,51,51)\"},\"baxis\":{\"endlinecolor\":\"rgb(51,51,51)\",\"gridcolor\":\"white\",\"linecolor\":\"white\",\"minorgridcolor\":\"white\",\"startlinecolor\":\"rgb(51,51,51)\"},\"type\":\"carpet\"}],\"choropleth\":[{\"colorbar\":{\"outlinewidth\":0,\"tickcolor\":\"rgb(237,237,237)\",\"ticklen\":6,\"ticks\":\"inside\"},\"type\":\"choropleth\"}],\"contour\":[{\"colorbar\":{\"outlinewidth\":0,\"tickcolor\":\"rgb(237,237,237)\",\"ticklen\":6,\"ticks\":\"inside\"},\"colorscale\":[[0,\"rgb(20,44,66)\"],[1,\"rgb(90,179,244)\"]],\"type\":\"contour\"}],\"contourcarpet\":[{\"colorbar\":{\"outlinewidth\":0,\"tickcolor\":\"rgb(237,237,237)\",\"ticklen\":6,\"ticks\":\"inside\"},\"type\":\"contourcarpet\"}],\"heatmap\":[{\"colorbar\":{\"outlinewidth\":0,\"tickcolor\":\"rgb(237,237,237)\",\"ticklen\":6,\"ticks\":\"inside\"},\"colorscale\":[[0,\"rgb(20,44,66)\"],[1,\"rgb(90,179,244)\"]],\"type\":\"heatmap\"}],\"heatmapgl\":[{\"colorbar\":{\"outlinewidth\":0,\"tickcolor\":\"rgb(237,237,237)\",\"ticklen\":6,\"ticks\":\"inside\"},\"colorscale\":[[0,\"rgb(20,44,66)\"],[1,\"rgb(90,179,244)\"]],\"type\":\"heatmapgl\"}],\"histogram\":[{\"marker\":{\"pattern\":{\"fillmode\":\"overlay\",\"size\":10,\"solidity\":0.2}},\"type\":\"histogram\"}],\"histogram2d\":[{\"colorbar\":{\"outlinewidth\":0,\"tickcolor\":\"rgb(237,237,237)\",\"ticklen\":6,\"ticks\":\"inside\"},\"colorscale\":[[0,\"rgb(20,44,66)\"],[1,\"rgb(90,179,244)\"]],\"type\":\"histogram2d\"}],\"histogram2dcontour\":[{\"colorbar\":{\"outlinewidth\":0,\"tickcolor\":\"rgb(237,237,237)\",\"ticklen\":6,\"ticks\":\"inside\"},\"colorscale\":[[0,\"rgb(20,44,66)\"],[1,\"rgb(90,179,244)\"]],\"type\":\"histogram2dcontour\"}],\"mesh3d\":[{\"colorbar\":{\"outlinewidth\":0,\"tickcolor\":\"rgb(237,237,237)\",\"ticklen\":6,\"ticks\":\"inside\"},\"type\":\"mesh3d\"}],\"parcoords\":[{\"line\":{\"colorbar\":{\"outlinewidth\":0,\"tickcolor\":\"rgb(237,237,237)\",\"ticklen\":6,\"ticks\":\"inside\"}},\"type\":\"parcoords\"}],\"pie\":[{\"automargin\":true,\"type\":\"pie\"}],\"scatter\":[{\"marker\":{\"colorbar\":{\"outlinewidth\":0,\"tickcolor\":\"rgb(237,237,237)\",\"ticklen\":6,\"ticks\":\"inside\"}},\"type\":\"scatter\"}],\"scatter3d\":[{\"line\":{\"colorbar\":{\"outlinewidth\":0,\"tickcolor\":\"rgb(237,237,237)\",\"ticklen\":6,\"ticks\":\"inside\"}},\"marker\":{\"colorbar\":{\"outlinewidth\":0,\"tickcolor\":\"rgb(237,237,237)\",\"ticklen\":6,\"ticks\":\"inside\"}},\"type\":\"scatter3d\"}],\"scattercarpet\":[{\"marker\":{\"colorbar\":{\"outlinewidth\":0,\"tickcolor\":\"rgb(237,237,237)\",\"ticklen\":6,\"ticks\":\"inside\"}},\"type\":\"scattercarpet\"}],\"scattergeo\":[{\"marker\":{\"colorbar\":{\"outlinewidth\":0,\"tickcolor\":\"rgb(237,237,237)\",\"ticklen\":6,\"ticks\":\"inside\"}},\"type\":\"scattergeo\"}],\"scattergl\":[{\"marker\":{\"colorbar\":{\"outlinewidth\":0,\"tickcolor\":\"rgb(237,237,237)\",\"ticklen\":6,\"ticks\":\"inside\"}},\"type\":\"scattergl\"}],\"scattermapbox\":[{\"marker\":{\"colorbar\":{\"outlinewidth\":0,\"tickcolor\":\"rgb(237,237,237)\",\"ticklen\":6,\"ticks\":\"inside\"}},\"type\":\"scattermapbox\"}],\"scatterpolar\":[{\"marker\":{\"colorbar\":{\"outlinewidth\":0,\"tickcolor\":\"rgb(237,237,237)\",\"ticklen\":6,\"ticks\":\"inside\"}},\"type\":\"scatterpolar\"}],\"scatterpolargl\":[{\"marker\":{\"colorbar\":{\"outlinewidth\":0,\"tickcolor\":\"rgb(237,237,237)\",\"ticklen\":6,\"ticks\":\"inside\"}},\"type\":\"scatterpolargl\"}],\"scatterternary\":[{\"marker\":{\"colorbar\":{\"outlinewidth\":0,\"tickcolor\":\"rgb(237,237,237)\",\"ticklen\":6,\"ticks\":\"inside\"}},\"type\":\"scatterternary\"}],\"surface\":[{\"colorbar\":{\"outlinewidth\":0,\"tickcolor\":\"rgb(237,237,237)\",\"ticklen\":6,\"ticks\":\"inside\"},\"colorscale\":[[0,\"rgb(20,44,66)\"],[1,\"rgb(90,179,244)\"]],\"type\":\"surface\"}],\"table\":[{\"cells\":{\"fill\":{\"color\":\"rgb(237,237,237)\"},\"line\":{\"color\":\"white\"}},\"header\":{\"fill\":{\"color\":\"rgb(217,217,217)\"},\"line\":{\"color\":\"white\"}},\"type\":\"table\"}]},\"layout\":{\"annotationdefaults\":{\"arrowhead\":0,\"arrowwidth\":1},\"autotypenumbers\":\"strict\",\"coloraxis\":{\"colorbar\":{\"outlinewidth\":0,\"tickcolor\":\"rgb(237,237,237)\",\"ticklen\":6,\"ticks\":\"inside\"}},\"colorscale\":{\"sequential\":[[0,\"rgb(20,44,66)\"],[1,\"rgb(90,179,244)\"]],\"sequentialminus\":[[0,\"rgb(20,44,66)\"],[1,\"rgb(90,179,244)\"]]},\"colorway\":[\"#F8766D\",\"#A3A500\",\"#00BF7D\",\"#00B0F6\",\"#E76BF3\"],\"font\":{\"color\":\"rgb(51,51,51)\"},\"geo\":{\"bgcolor\":\"white\",\"lakecolor\":\"white\",\"landcolor\":\"rgb(237,237,237)\",\"showlakes\":true,\"showland\":true,\"subunitcolor\":\"white\"},\"hoverlabel\":{\"align\":\"left\"},\"hovermode\":\"closest\",\"paper_bgcolor\":\"white\",\"plot_bgcolor\":\"rgb(237,237,237)\",\"polar\":{\"angularaxis\":{\"gridcolor\":\"white\",\"linecolor\":\"white\",\"showgrid\":true,\"tickcolor\":\"rgb(51,51,51)\",\"ticks\":\"outside\"},\"bgcolor\":\"rgb(237,237,237)\",\"radialaxis\":{\"gridcolor\":\"white\",\"linecolor\":\"white\",\"showgrid\":true,\"tickcolor\":\"rgb(51,51,51)\",\"ticks\":\"outside\"}},\"scene\":{\"xaxis\":{\"backgroundcolor\":\"rgb(237,237,237)\",\"gridcolor\":\"white\",\"gridwidth\":2,\"linecolor\":\"white\",\"showbackground\":true,\"showgrid\":true,\"tickcolor\":\"rgb(51,51,51)\",\"ticks\":\"outside\",\"zerolinecolor\":\"white\"},\"yaxis\":{\"backgroundcolor\":\"rgb(237,237,237)\",\"gridcolor\":\"white\",\"gridwidth\":2,\"linecolor\":\"white\",\"showbackground\":true,\"showgrid\":true,\"tickcolor\":\"rgb(51,51,51)\",\"ticks\":\"outside\",\"zerolinecolor\":\"white\"},\"zaxis\":{\"backgroundcolor\":\"rgb(237,237,237)\",\"gridcolor\":\"white\",\"gridwidth\":2,\"linecolor\":\"white\",\"showbackground\":true,\"showgrid\":true,\"tickcolor\":\"rgb(51,51,51)\",\"ticks\":\"outside\",\"zerolinecolor\":\"white\"}},\"shapedefaults\":{\"fillcolor\":\"black\",\"line\":{\"width\":0},\"opacity\":0.3},\"ternary\":{\"aaxis\":{\"gridcolor\":\"white\",\"linecolor\":\"white\",\"showgrid\":true,\"tickcolor\":\"rgb(51,51,51)\",\"ticks\":\"outside\"},\"baxis\":{\"gridcolor\":\"white\",\"linecolor\":\"white\",\"showgrid\":true,\"tickcolor\":\"rgb(51,51,51)\",\"ticks\":\"outside\"},\"bgcolor\":\"rgb(237,237,237)\",\"caxis\":{\"gridcolor\":\"white\",\"linecolor\":\"white\",\"showgrid\":true,\"tickcolor\":\"rgb(51,51,51)\",\"ticks\":\"outside\"}},\"xaxis\":{\"automargin\":true,\"gridcolor\":\"white\",\"linecolor\":\"white\",\"showgrid\":true,\"tickcolor\":\"rgb(51,51,51)\",\"ticks\":\"outside\",\"title\":{\"standoff\":15},\"zerolinecolor\":\"white\"},\"yaxis\":{\"automargin\":true,\"gridcolor\":\"white\",\"linecolor\":\"white\",\"showgrid\":true,\"tickcolor\":\"rgb(51,51,51)\",\"ticks\":\"outside\",\"title\":{\"standoff\":15},\"zerolinecolor\":\"white\"}}},\"title\":{\"text\":\"Average 'likeRatio' per Topic\"},\"width\":800,\"xaxis\":{\"anchor\":\"y\",\"domain\":[0.0,1.0],\"title\":{\"text\":\"\"}},\"yaxis\":{\"anchor\":\"x\",\"categoryorder\":\"total ascending\",\"domain\":[0.0,1.0],\"title\":{\"text\":\"Topic\"}}},                        {\"responsive\": true}                    ).then(function(){\n",
       "                            \n",
       "var gd = document.getElementById('8f818f9d-87fd-4a61-b2cb-a996d41ff761');\n",
       "var x = new MutationObserver(function (mutations, observer) {{\n",
       "        var display = window.getComputedStyle(gd).display;\n",
       "        if (!display || display === 'none') {{\n",
       "            console.log([gd, 'removed!']);\n",
       "            Plotly.purge(gd);\n",
       "            observer.disconnect();\n",
       "        }}\n",
       "}});\n",
       "\n",
       "// Listen for the removal of the full notebook cells\n",
       "var notebookContainer = gd.closest('#notebook-container');\n",
       "if (notebookContainer) {{\n",
       "    x.observe(notebookContainer, {childList: true});\n",
       "}}\n",
       "\n",
       "// Listen for the clearing of the current output cell\n",
       "var outputEl = gd.closest('.output');\n",
       "if (outputEl) {{\n",
       "    x.observe(outputEl, {childList: true});\n",
       "}}\n",
       "\n",
       "                        })                };                });            </script>        </div>"
      ]
     },
     "metadata": {},
     "output_type": "display_data"
    }
   ],
   "source": [
    "column = 'likeRatio'\n",
    "# plt.figure(figsize=(8,6))\n",
    "# likeRatio_df.groupby('topic')[column].mean().sort_values().plot(kind='barh', color='#d14949')\n",
    "# plt.title(f\"Average '{column}' per Topic\")\n",
    "# plt.ylabel('Topic', fontsize=12)\n",
    "# plt.grid(color='#948789', linestyle='-.', linewidth=0.1);\n",
    "\n",
    "fig = px.bar(likeRatio_df.groupby('topic')[column].mean().sort_values(), orientation='h')\n",
    "fig.update_layout(hovermode='closest', title_text=f\"Average '{column}' per Topic\", \\\n",
    "                  barmode='stack', yaxis={'categoryorder':'total ascending'}, width=800, height=400, template='ggplot2')\n",
    "fig.update_traces(marker_color='#fa8072')\n",
    "fig.update_layout(showlegend=False)\n",
    "fig.update_xaxes(title_text=\"\")\n",
    "fig.update_yaxes(title='Topic')\n",
    "fig.show()"
   ]
  },
  {
   "cell_type": "code",
   "execution_count": 73,
   "id": "5e89ad97-2bbb-4602-b899-a83e113d1fb7",
   "metadata": {},
   "outputs": [
    {
     "data": {
      "application/vnd.plotly.v1+json": {
       "config": {
        "plotlyServerURL": "https://plot.ly"
       },
       "data": [
        {
         "alignmentgroup": "True",
         "hovertemplate": "variable=text_polarity<br>value=%{x}<br>topic=%{y}<extra></extra>",
         "legendgroup": "text_polarity",
         "marker": {
          "color": "#fa8072",
          "pattern": {
           "shape": ""
          }
         },
         "name": "text_polarity",
         "offsetgroup": "text_polarity",
         "orientation": "h",
         "showlegend": true,
         "textposition": "auto",
         "type": "bar",
         "x": [
          0.06514896795981633,
          0.08042283250169331,
          0.08720155291652215,
          0.11615111415279895,
          0.12335289939831008,
          0.1266695012399746,
          0.12778339534396574,
          0.13742791940849963,
          0.1402749013231006,
          0.15094364914674802,
          0.15307716592824036,
          0.16374521370864148,
          0.16601178060731014,
          0.17222417319291003,
          0.17903743371431075
         ],
         "xaxis": "x",
         "y": [
          "videoReviews",
          "games",
          "minecraft",
          "school",
          "beautyCare",
          "pregnancy",
          "prizes",
          "hair",
          "educational",
          "halloween",
          "food",
          "clothes",
          "christmas",
          "dance_music",
          "challenges"
         ],
         "yaxis": "y"
        }
       ],
       "layout": {
        "barmode": "stack",
        "height": 400,
        "hovermode": "closest",
        "legend": {
         "title": {
          "text": "variable"
         },
         "tracegroupgap": 0
        },
        "margin": {
         "t": 60
        },
        "showlegend": false,
        "template": {
         "data": {
          "bar": [
           {
            "error_x": {
             "color": "rgb(51,51,51)"
            },
            "error_y": {
             "color": "rgb(51,51,51)"
            },
            "marker": {
             "line": {
              "color": "rgb(237,237,237)",
              "width": 0.5
             },
             "pattern": {
              "fillmode": "overlay",
              "size": 10,
              "solidity": 0.2
             }
            },
            "type": "bar"
           }
          ],
          "barpolar": [
           {
            "marker": {
             "line": {
              "color": "rgb(237,237,237)",
              "width": 0.5
             },
             "pattern": {
              "fillmode": "overlay",
              "size": 10,
              "solidity": 0.2
             }
            },
            "type": "barpolar"
           }
          ],
          "carpet": [
           {
            "aaxis": {
             "endlinecolor": "rgb(51,51,51)",
             "gridcolor": "white",
             "linecolor": "white",
             "minorgridcolor": "white",
             "startlinecolor": "rgb(51,51,51)"
            },
            "baxis": {
             "endlinecolor": "rgb(51,51,51)",
             "gridcolor": "white",
             "linecolor": "white",
             "minorgridcolor": "white",
             "startlinecolor": "rgb(51,51,51)"
            },
            "type": "carpet"
           }
          ],
          "choropleth": [
           {
            "colorbar": {
             "outlinewidth": 0,
             "tickcolor": "rgb(237,237,237)",
             "ticklen": 6,
             "ticks": "inside"
            },
            "type": "choropleth"
           }
          ],
          "contour": [
           {
            "colorbar": {
             "outlinewidth": 0,
             "tickcolor": "rgb(237,237,237)",
             "ticklen": 6,
             "ticks": "inside"
            },
            "colorscale": [
             [
              0,
              "rgb(20,44,66)"
             ],
             [
              1,
              "rgb(90,179,244)"
             ]
            ],
            "type": "contour"
           }
          ],
          "contourcarpet": [
           {
            "colorbar": {
             "outlinewidth": 0,
             "tickcolor": "rgb(237,237,237)",
             "ticklen": 6,
             "ticks": "inside"
            },
            "type": "contourcarpet"
           }
          ],
          "heatmap": [
           {
            "colorbar": {
             "outlinewidth": 0,
             "tickcolor": "rgb(237,237,237)",
             "ticklen": 6,
             "ticks": "inside"
            },
            "colorscale": [
             [
              0,
              "rgb(20,44,66)"
             ],
             [
              1,
              "rgb(90,179,244)"
             ]
            ],
            "type": "heatmap"
           }
          ],
          "heatmapgl": [
           {
            "colorbar": {
             "outlinewidth": 0,
             "tickcolor": "rgb(237,237,237)",
             "ticklen": 6,
             "ticks": "inside"
            },
            "colorscale": [
             [
              0,
              "rgb(20,44,66)"
             ],
             [
              1,
              "rgb(90,179,244)"
             ]
            ],
            "type": "heatmapgl"
           }
          ],
          "histogram": [
           {
            "marker": {
             "pattern": {
              "fillmode": "overlay",
              "size": 10,
              "solidity": 0.2
             }
            },
            "type": "histogram"
           }
          ],
          "histogram2d": [
           {
            "colorbar": {
             "outlinewidth": 0,
             "tickcolor": "rgb(237,237,237)",
             "ticklen": 6,
             "ticks": "inside"
            },
            "colorscale": [
             [
              0,
              "rgb(20,44,66)"
             ],
             [
              1,
              "rgb(90,179,244)"
             ]
            ],
            "type": "histogram2d"
           }
          ],
          "histogram2dcontour": [
           {
            "colorbar": {
             "outlinewidth": 0,
             "tickcolor": "rgb(237,237,237)",
             "ticklen": 6,
             "ticks": "inside"
            },
            "colorscale": [
             [
              0,
              "rgb(20,44,66)"
             ],
             [
              1,
              "rgb(90,179,244)"
             ]
            ],
            "type": "histogram2dcontour"
           }
          ],
          "mesh3d": [
           {
            "colorbar": {
             "outlinewidth": 0,
             "tickcolor": "rgb(237,237,237)",
             "ticklen": 6,
             "ticks": "inside"
            },
            "type": "mesh3d"
           }
          ],
          "parcoords": [
           {
            "line": {
             "colorbar": {
              "outlinewidth": 0,
              "tickcolor": "rgb(237,237,237)",
              "ticklen": 6,
              "ticks": "inside"
             }
            },
            "type": "parcoords"
           }
          ],
          "pie": [
           {
            "automargin": true,
            "type": "pie"
           }
          ],
          "scatter": [
           {
            "marker": {
             "colorbar": {
              "outlinewidth": 0,
              "tickcolor": "rgb(237,237,237)",
              "ticklen": 6,
              "ticks": "inside"
             }
            },
            "type": "scatter"
           }
          ],
          "scatter3d": [
           {
            "line": {
             "colorbar": {
              "outlinewidth": 0,
              "tickcolor": "rgb(237,237,237)",
              "ticklen": 6,
              "ticks": "inside"
             }
            },
            "marker": {
             "colorbar": {
              "outlinewidth": 0,
              "tickcolor": "rgb(237,237,237)",
              "ticklen": 6,
              "ticks": "inside"
             }
            },
            "type": "scatter3d"
           }
          ],
          "scattercarpet": [
           {
            "marker": {
             "colorbar": {
              "outlinewidth": 0,
              "tickcolor": "rgb(237,237,237)",
              "ticklen": 6,
              "ticks": "inside"
             }
            },
            "type": "scattercarpet"
           }
          ],
          "scattergeo": [
           {
            "marker": {
             "colorbar": {
              "outlinewidth": 0,
              "tickcolor": "rgb(237,237,237)",
              "ticklen": 6,
              "ticks": "inside"
             }
            },
            "type": "scattergeo"
           }
          ],
          "scattergl": [
           {
            "marker": {
             "colorbar": {
              "outlinewidth": 0,
              "tickcolor": "rgb(237,237,237)",
              "ticklen": 6,
              "ticks": "inside"
             }
            },
            "type": "scattergl"
           }
          ],
          "scattermapbox": [
           {
            "marker": {
             "colorbar": {
              "outlinewidth": 0,
              "tickcolor": "rgb(237,237,237)",
              "ticklen": 6,
              "ticks": "inside"
             }
            },
            "type": "scattermapbox"
           }
          ],
          "scatterpolar": [
           {
            "marker": {
             "colorbar": {
              "outlinewidth": 0,
              "tickcolor": "rgb(237,237,237)",
              "ticklen": 6,
              "ticks": "inside"
             }
            },
            "type": "scatterpolar"
           }
          ],
          "scatterpolargl": [
           {
            "marker": {
             "colorbar": {
              "outlinewidth": 0,
              "tickcolor": "rgb(237,237,237)",
              "ticklen": 6,
              "ticks": "inside"
             }
            },
            "type": "scatterpolargl"
           }
          ],
          "scatterternary": [
           {
            "marker": {
             "colorbar": {
              "outlinewidth": 0,
              "tickcolor": "rgb(237,237,237)",
              "ticklen": 6,
              "ticks": "inside"
             }
            },
            "type": "scatterternary"
           }
          ],
          "surface": [
           {
            "colorbar": {
             "outlinewidth": 0,
             "tickcolor": "rgb(237,237,237)",
             "ticklen": 6,
             "ticks": "inside"
            },
            "colorscale": [
             [
              0,
              "rgb(20,44,66)"
             ],
             [
              1,
              "rgb(90,179,244)"
             ]
            ],
            "type": "surface"
           }
          ],
          "table": [
           {
            "cells": {
             "fill": {
              "color": "rgb(237,237,237)"
             },
             "line": {
              "color": "white"
             }
            },
            "header": {
             "fill": {
              "color": "rgb(217,217,217)"
             },
             "line": {
              "color": "white"
             }
            },
            "type": "table"
           }
          ]
         },
         "layout": {
          "annotationdefaults": {
           "arrowhead": 0,
           "arrowwidth": 1
          },
          "autotypenumbers": "strict",
          "coloraxis": {
           "colorbar": {
            "outlinewidth": 0,
            "tickcolor": "rgb(237,237,237)",
            "ticklen": 6,
            "ticks": "inside"
           }
          },
          "colorscale": {
           "sequential": [
            [
             0,
             "rgb(20,44,66)"
            ],
            [
             1,
             "rgb(90,179,244)"
            ]
           ],
           "sequentialminus": [
            [
             0,
             "rgb(20,44,66)"
            ],
            [
             1,
             "rgb(90,179,244)"
            ]
           ]
          },
          "colorway": [
           "#F8766D",
           "#A3A500",
           "#00BF7D",
           "#00B0F6",
           "#E76BF3"
          ],
          "font": {
           "color": "rgb(51,51,51)"
          },
          "geo": {
           "bgcolor": "white",
           "lakecolor": "white",
           "landcolor": "rgb(237,237,237)",
           "showlakes": true,
           "showland": true,
           "subunitcolor": "white"
          },
          "hoverlabel": {
           "align": "left"
          },
          "hovermode": "closest",
          "paper_bgcolor": "white",
          "plot_bgcolor": "rgb(237,237,237)",
          "polar": {
           "angularaxis": {
            "gridcolor": "white",
            "linecolor": "white",
            "showgrid": true,
            "tickcolor": "rgb(51,51,51)",
            "ticks": "outside"
           },
           "bgcolor": "rgb(237,237,237)",
           "radialaxis": {
            "gridcolor": "white",
            "linecolor": "white",
            "showgrid": true,
            "tickcolor": "rgb(51,51,51)",
            "ticks": "outside"
           }
          },
          "scene": {
           "xaxis": {
            "backgroundcolor": "rgb(237,237,237)",
            "gridcolor": "white",
            "gridwidth": 2,
            "linecolor": "white",
            "showbackground": true,
            "showgrid": true,
            "tickcolor": "rgb(51,51,51)",
            "ticks": "outside",
            "zerolinecolor": "white"
           },
           "yaxis": {
            "backgroundcolor": "rgb(237,237,237)",
            "gridcolor": "white",
            "gridwidth": 2,
            "linecolor": "white",
            "showbackground": true,
            "showgrid": true,
            "tickcolor": "rgb(51,51,51)",
            "ticks": "outside",
            "zerolinecolor": "white"
           },
           "zaxis": {
            "backgroundcolor": "rgb(237,237,237)",
            "gridcolor": "white",
            "gridwidth": 2,
            "linecolor": "white",
            "showbackground": true,
            "showgrid": true,
            "tickcolor": "rgb(51,51,51)",
            "ticks": "outside",
            "zerolinecolor": "white"
           }
          },
          "shapedefaults": {
           "fillcolor": "black",
           "line": {
            "width": 0
           },
           "opacity": 0.3
          },
          "ternary": {
           "aaxis": {
            "gridcolor": "white",
            "linecolor": "white",
            "showgrid": true,
            "tickcolor": "rgb(51,51,51)",
            "ticks": "outside"
           },
           "baxis": {
            "gridcolor": "white",
            "linecolor": "white",
            "showgrid": true,
            "tickcolor": "rgb(51,51,51)",
            "ticks": "outside"
           },
           "bgcolor": "rgb(237,237,237)",
           "caxis": {
            "gridcolor": "white",
            "linecolor": "white",
            "showgrid": true,
            "tickcolor": "rgb(51,51,51)",
            "ticks": "outside"
           }
          },
          "xaxis": {
           "automargin": true,
           "gridcolor": "white",
           "linecolor": "white",
           "showgrid": true,
           "tickcolor": "rgb(51,51,51)",
           "ticks": "outside",
           "title": {
            "standoff": 15
           },
           "zerolinecolor": "white"
          },
          "yaxis": {
           "automargin": true,
           "gridcolor": "white",
           "linecolor": "white",
           "showgrid": true,
           "tickcolor": "rgb(51,51,51)",
           "ticks": "outside",
           "title": {
            "standoff": 15
           },
           "zerolinecolor": "white"
          }
         }
        },
        "title": {
         "text": "Average 'text_polarity' per Topic"
        },
        "width": 800,
        "xaxis": {
         "anchor": "y",
         "autorange": true,
         "domain": [
          0,
          1
         ],
         "range": [
          0,
          0.18846045654137975
         ],
         "title": {
          "text": ""
         },
         "type": "linear"
        },
        "yaxis": {
         "anchor": "x",
         "autorange": true,
         "categoryorder": "total ascending",
         "domain": [
          0,
          1
         ],
         "range": [
          -0.5,
          14.5
         ],
         "title": {
          "text": "Topic"
         },
         "type": "category"
        }
       }
      },
      "image/png": "[encoded data removed]",
      "text/html": [
       "<div>                            <div id=\"0169ec24-b547-4c6d-a0fe-49e9c61f4e01\" class=\"plotly-graph-div\" style=\"height:400px; width:800px;\"></div>            <script type=\"text/javascript\">                require([\"plotly\"], function(Plotly) {                    window.PLOTLYENV=window.PLOTLYENV || {};                                    if (document.getElementById(\"0169ec24-b547-4c6d-a0fe-49e9c61f4e01\")) {                    Plotly.newPlot(                        \"0169ec24-b547-4c6d-a0fe-49e9c61f4e01\",                        [{\"alignmentgroup\":\"True\",\"hovertemplate\":\"variable=text_polarity<br>value=%{x}<br>topic=%{y}<extra></extra>\",\"legendgroup\":\"text_polarity\",\"marker\":{\"color\":\"#fa8072\",\"pattern\":{\"shape\":\"\"}},\"name\":\"text_polarity\",\"offsetgroup\":\"text_polarity\",\"orientation\":\"h\",\"showlegend\":true,\"textposition\":\"auto\",\"type\":\"bar\",\"x\":[0.06514896795981633,0.08042283250169331,0.08720155291652215,0.11615111415279895,0.12335289939831008,0.1266695012399746,0.12778339534396574,0.13742791940849963,0.1402749013231006,0.15094364914674802,0.15307716592824036,0.16374521370864148,0.16601178060731014,0.17222417319291003,0.17903743371431075],\"xaxis\":\"x\",\"y\":[\"videoReviews\",\"games\",\"minecraft\",\"school\",\"beautyCare\",\"pregnancy\",\"prizes\",\"hair\",\"educational\",\"halloween\",\"food\",\"clothes\",\"christmas\",\"dance_music\",\"challenges\"],\"yaxis\":\"y\"}],                        {\"barmode\":\"stack\",\"height\":400,\"hovermode\":\"closest\",\"legend\":{\"title\":{\"text\":\"variable\"},\"tracegroupgap\":0},\"margin\":{\"t\":60},\"showlegend\":false,\"template\":{\"data\":{\"bar\":[{\"error_x\":{\"color\":\"rgb(51,51,51)\"},\"error_y\":{\"color\":\"rgb(51,51,51)\"},\"marker\":{\"line\":{\"color\":\"rgb(237,237,237)\",\"width\":0.5},\"pattern\":{\"fillmode\":\"overlay\",\"size\":10,\"solidity\":0.2}},\"type\":\"bar\"}],\"barpolar\":[{\"marker\":{\"line\":{\"color\":\"rgb(237,237,237)\",\"width\":0.5},\"pattern\":{\"fillmode\":\"overlay\",\"size\":10,\"solidity\":0.2}},\"type\":\"barpolar\"}],\"carpet\":[{\"aaxis\":{\"endlinecolor\":\"rgb(51,51,51)\",\"gridcolor\":\"white\",\"linecolor\":\"white\",\"minorgridcolor\":\"white\",\"startlinecolor\":\"rgb(51,51,51)\"},\"baxis\":{\"endlinecolor\":\"rgb(51,51,51)\",\"gridcolor\":\"white\",\"linecolor\":\"white\",\"minorgridcolor\":\"white\",\"startlinecolor\":\"rgb(51,51,51)\"},\"type\":\"carpet\"}],\"choropleth\":[{\"colorbar\":{\"outlinewidth\":0,\"tickcolor\":\"rgb(237,237,237)\",\"ticklen\":6,\"ticks\":\"inside\"},\"type\":\"choropleth\"}],\"contour\":[{\"colorbar\":{\"outlinewidth\":0,\"tickcolor\":\"rgb(237,237,237)\",\"ticklen\":6,\"ticks\":\"inside\"},\"colorscale\":[[0,\"rgb(20,44,66)\"],[1,\"rgb(90,179,244)\"]],\"type\":\"contour\"}],\"contourcarpet\":[{\"colorbar\":{\"outlinewidth\":0,\"tickcolor\":\"rgb(237,237,237)\",\"ticklen\":6,\"ticks\":\"inside\"},\"type\":\"contourcarpet\"}],\"heatmap\":[{\"colorbar\":{\"outlinewidth\":0,\"tickcolor\":\"rgb(237,237,237)\",\"ticklen\":6,\"ticks\":\"inside\"},\"colorscale\":[[0,\"rgb(20,44,66)\"],[1,\"rgb(90,179,244)\"]],\"type\":\"heatmap\"}],\"heatmapgl\":[{\"colorbar\":{\"outlinewidth\":0,\"tickcolor\":\"rgb(237,237,237)\",\"ticklen\":6,\"ticks\":\"inside\"},\"colorscale\":[[0,\"rgb(20,44,66)\"],[1,\"rgb(90,179,244)\"]],\"type\":\"heatmapgl\"}],\"histogram\":[{\"marker\":{\"pattern\":{\"fillmode\":\"overlay\",\"size\":10,\"solidity\":0.2}},\"type\":\"histogram\"}],\"histogram2d\":[{\"colorbar\":{\"outlinewidth\":0,\"tickcolor\":\"rgb(237,237,237)\",\"ticklen\":6,\"ticks\":\"inside\"},\"colorscale\":[[0,\"rgb(20,44,66)\"],[1,\"rgb(90,179,244)\"]],\"type\":\"histogram2d\"}],\"histogram2dcontour\":[{\"colorbar\":{\"outlinewidth\":0,\"tickcolor\":\"rgb(237,237,237)\",\"ticklen\":6,\"ticks\":\"inside\"},\"colorscale\":[[0,\"rgb(20,44,66)\"],[1,\"rgb(90,179,244)\"]],\"type\":\"histogram2dcontour\"}],\"mesh3d\":[{\"colorbar\":{\"outlinewidth\":0,\"tickcolor\":\"rgb(237,237,237)\",\"ticklen\":6,\"ticks\":\"inside\"},\"type\":\"mesh3d\"}],\"parcoords\":[{\"line\":{\"colorbar\":{\"outlinewidth\":0,\"tickcolor\":\"rgb(237,237,237)\",\"ticklen\":6,\"ticks\":\"inside\"}},\"type\":\"parcoords\"}],\"pie\":[{\"automargin\":true,\"type\":\"pie\"}],\"scatter\":[{\"marker\":{\"colorbar\":{\"outlinewidth\":0,\"tickcolor\":\"rgb(237,237,237)\",\"ticklen\":6,\"ticks\":\"inside\"}},\"type\":\"scatter\"}],\"scatter3d\":[{\"line\":{\"colorbar\":{\"outlinewidth\":0,\"tickcolor\":\"rgb(237,237,237)\",\"ticklen\":6,\"ticks\":\"inside\"}},\"marker\":{\"colorbar\":{\"outlinewidth\":0,\"tickcolor\":\"rgb(237,237,237)\",\"ticklen\":6,\"ticks\":\"inside\"}},\"type\":\"scatter3d\"}],\"scattercarpet\":[{\"marker\":{\"colorbar\":{\"outlinewidth\":0,\"tickcolor\":\"rgb(237,237,237)\",\"ticklen\":6,\"ticks\":\"inside\"}},\"type\":\"scattercarpet\"}],\"scattergeo\":[{\"marker\":{\"colorbar\":{\"outlinewidth\":0,\"tickcolor\":\"rgb(237,237,237)\",\"ticklen\":6,\"ticks\":\"inside\"}},\"type\":\"scattergeo\"}],\"scattergl\":[{\"marker\":{\"colorbar\":{\"outlinewidth\":0,\"tickcolor\":\"rgb(237,237,237)\",\"ticklen\":6,\"ticks\":\"inside\"}},\"type\":\"scattergl\"}],\"scattermapbox\":[{\"marker\":{\"colorbar\":{\"outlinewidth\":0,\"tickcolor\":\"rgb(237,237,237)\",\"ticklen\":6,\"ticks\":\"inside\"}},\"type\":\"scattermapbox\"}],\"scatterpolar\":[{\"marker\":{\"colorbar\":{\"outlinewidth\":0,\"tickcolor\":\"rgb(237,237,237)\",\"ticklen\":6,\"ticks\":\"inside\"}},\"type\":\"scatterpolar\"}],\"scatterpolargl\":[{\"marker\":{\"colorbar\":{\"outlinewidth\":0,\"tickcolor\":\"rgb(237,237,237)\",\"ticklen\":6,\"ticks\":\"inside\"}},\"type\":\"scatterpolargl\"}],\"scatterternary\":[{\"marker\":{\"colorbar\":{\"outlinewidth\":0,\"tickcolor\":\"rgb(237,237,237)\",\"ticklen\":6,\"ticks\":\"inside\"}},\"type\":\"scatterternary\"}],\"surface\":[{\"colorbar\":{\"outlinewidth\":0,\"tickcolor\":\"rgb(237,237,237)\",\"ticklen\":6,\"ticks\":\"inside\"},\"colorscale\":[[0,\"rgb(20,44,66)\"],[1,\"rgb(90,179,244)\"]],\"type\":\"surface\"}],\"table\":[{\"cells\":{\"fill\":{\"color\":\"rgb(237,237,237)\"},\"line\":{\"color\":\"white\"}},\"header\":{\"fill\":{\"color\":\"rgb(217,217,217)\"},\"line\":{\"color\":\"white\"}},\"type\":\"table\"}]},\"layout\":{\"annotationdefaults\":{\"arrowhead\":0,\"arrowwidth\":1},\"autotypenumbers\":\"strict\",\"coloraxis\":{\"colorbar\":{\"outlinewidth\":0,\"tickcolor\":\"rgb(237,237,237)\",\"ticklen\":6,\"ticks\":\"inside\"}},\"colorscale\":{\"sequential\":[[0,\"rgb(20,44,66)\"],[1,\"rgb(90,179,244)\"]],\"sequentialminus\":[[0,\"rgb(20,44,66)\"],[1,\"rgb(90,179,244)\"]]},\"colorway\":[\"#F8766D\",\"#A3A500\",\"#00BF7D\",\"#00B0F6\",\"#E76BF3\"],\"font\":{\"color\":\"rgb(51,51,51)\"},\"geo\":{\"bgcolor\":\"white\",\"lakecolor\":\"white\",\"landcolor\":\"rgb(237,237,237)\",\"showlakes\":true,\"showland\":true,\"subunitcolor\":\"white\"},\"hoverlabel\":{\"align\":\"left\"},\"hovermode\":\"closest\",\"paper_bgcolor\":\"white\",\"plot_bgcolor\":\"rgb(237,237,237)\",\"polar\":{\"angularaxis\":{\"gridcolor\":\"white\",\"linecolor\":\"white\",\"showgrid\":true,\"tickcolor\":\"rgb(51,51,51)\",\"ticks\":\"outside\"},\"bgcolor\":\"rgb(237,237,237)\",\"radialaxis\":{\"gridcolor\":\"white\",\"linecolor\":\"white\",\"showgrid\":true,\"tickcolor\":\"rgb(51,51,51)\",\"ticks\":\"outside\"}},\"scene\":{\"xaxis\":{\"backgroundcolor\":\"rgb(237,237,237)\",\"gridcolor\":\"white\",\"gridwidth\":2,\"linecolor\":\"white\",\"showbackground\":true,\"showgrid\":true,\"tickcolor\":\"rgb(51,51,51)\",\"ticks\":\"outside\",\"zerolinecolor\":\"white\"},\"yaxis\":{\"backgroundcolor\":\"rgb(237,237,237)\",\"gridcolor\":\"white\",\"gridwidth\":2,\"linecolor\":\"white\",\"showbackground\":true,\"showgrid\":true,\"tickcolor\":\"rgb(51,51,51)\",\"ticks\":\"outside\",\"zerolinecolor\":\"white\"},\"zaxis\":{\"backgroundcolor\":\"rgb(237,237,237)\",\"gridcolor\":\"white\",\"gridwidth\":2,\"linecolor\":\"white\",\"showbackground\":true,\"showgrid\":true,\"tickcolor\":\"rgb(51,51,51)\",\"ticks\":\"outside\",\"zerolinecolor\":\"white\"}},\"shapedefaults\":{\"fillcolor\":\"black\",\"line\":{\"width\":0},\"opacity\":0.3},\"ternary\":{\"aaxis\":{\"gridcolor\":\"white\",\"linecolor\":\"white\",\"showgrid\":true,\"tickcolor\":\"rgb(51,51,51)\",\"ticks\":\"outside\"},\"baxis\":{\"gridcolor\":\"white\",\"linecolor\":\"white\",\"showgrid\":true,\"tickcolor\":\"rgb(51,51,51)\",\"ticks\":\"outside\"},\"bgcolor\":\"rgb(237,237,237)\",\"caxis\":{\"gridcolor\":\"white\",\"linecolor\":\"white\",\"showgrid\":true,\"tickcolor\":\"rgb(51,51,51)\",\"ticks\":\"outside\"}},\"xaxis\":{\"automargin\":true,\"gridcolor\":\"white\",\"linecolor\":\"white\",\"showgrid\":true,\"tickcolor\":\"rgb(51,51,51)\",\"ticks\":\"outside\",\"title\":{\"standoff\":15},\"zerolinecolor\":\"white\"},\"yaxis\":{\"automargin\":true,\"gridcolor\":\"white\",\"linecolor\":\"white\",\"showgrid\":true,\"tickcolor\":\"rgb(51,51,51)\",\"ticks\":\"outside\",\"title\":{\"standoff\":15},\"zerolinecolor\":\"white\"}}},\"title\":{\"text\":\"Average 'text_polarity' per Topic\"},\"width\":800,\"xaxis\":{\"anchor\":\"y\",\"domain\":[0.0,1.0],\"title\":{\"text\":\"\"}},\"yaxis\":{\"anchor\":\"x\",\"categoryorder\":\"total ascending\",\"domain\":[0.0,1.0],\"title\":{\"text\":\"Topic\"}}},                        {\"responsive\": true}                    ).then(function(){\n",
       "                            \n",
       "var gd = document.getElementById('0169ec24-b547-4c6d-a0fe-49e9c61f4e01');\n",
       "var x = new MutationObserver(function (mutations, observer) {{\n",
       "        var display = window.getComputedStyle(gd).display;\n",
       "        if (!display || display === 'none') {{\n",
       "            console.log([gd, 'removed!']);\n",
       "            Plotly.purge(gd);\n",
       "            observer.disconnect();\n",
       "        }}\n",
       "}});\n",
       "\n",
       "// Listen for the removal of the full notebook cells\n",
       "var notebookContainer = gd.closest('#notebook-container');\n",
       "if (notebookContainer) {{\n",
       "    x.observe(notebookContainer, {childList: true});\n",
       "}}\n",
       "\n",
       "// Listen for the clearing of the current output cell\n",
       "var outputEl = gd.closest('.output');\n",
       "if (outputEl) {{\n",
       "    x.observe(outputEl, {childList: true});\n",
       "}}\n",
       "\n",
       "                        })                };                });            </script>        </div>"
      ]
     },
     "metadata": {},
     "output_type": "display_data"
    }
   ],
   "source": [
    "column = 'text_polarity'\n",
    "# plt.figure(figsize=(8,6))\n",
    "# df.groupby('topic')[column].mean().sort_values().plot(kind='barh', color='#d14949')\n",
    "# plt.title(f\"Average '{column}' per Topic\")\n",
    "# plt.ylabel('Topic', fontsize=12)\n",
    "# plt.grid(color='#948789', linestyle='-.', linewidth=0.1);\n",
    "\n",
    "fig = px.bar(df.groupby('topic')[column].mean().sort_values(), orientation='h')\n",
    "fig.update_layout(hovermode='closest', title_text=f\"Average '{column}' per Topic\", \\\n",
    "                  barmode='stack', yaxis={'categoryorder':'total ascending'}, width=800, height=400, template='ggplot2')\n",
    "fig.update_traces(marker_color='#fa8072')\n",
    "fig.update_layout(showlegend=False)\n",
    "fig.update_xaxes(title_text=\"\")\n",
    "fig.update_yaxes(title='Topic')\n",
    "fig.show()"
   ]
  },
  {
   "cell_type": "code",
   "execution_count": null,
   "id": "bc7fc0d3-eb93-4f80-9d14-bbea0d228c39",
   "metadata": {},
   "outputs": [],
   "source": []
  }
 ],
 "metadata": {
  "kernelspec": {
   "display_name": "Python [conda env:metis] *",
   "language": "python",
   "name": "conda-env-metis-py"
  },
  "language_info": {
   "codemirror_mode": {
    "name": "ipython",
    "version": 3
   },
   "file_extension": ".py",
   "mimetype": "text/x-python",
   "name": "python",
   "nbconvert_exporter": "python",
   "pygments_lexer": "ipython3",
   "version": "3.8.10"
  }
 },
 "nbformat": 4,
 "nbformat_minor": 5
}
